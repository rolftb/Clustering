{
 "cells": [
  {
   "cell_type": "code",
   "execution_count": 1,
   "id": "aa7a547e",
   "metadata": {},
   "outputs": [],
   "source": [
    "#!jt -l\n",
    "# !jt -t oceans16 -T\n",
    "# !jt -r"
   ]
  },
  {
   "cell_type": "markdown",
   "id": "37df9336",
   "metadata": {
    "heading_collapsed": true
   },
   "source": [
    "## Listado de cosas pendientes\n",
    "\n"
   ]
  },
  {
   "cell_type": "markdown",
   "id": "8e317dae",
   "metadata": {
    "hidden": true
   },
   "source": [
    "\n",
    "__Clusterings a desarrollar__\n",
    "1. [ ] Clustering RFM+\n",
    "2. [ ] Clustering RF KG Valoración\n",
    "3. [ ] Clustering RFM KG Valoración\n",
    "4. [ ] Clustering RFM KG Valoración\n",
    "\n",
    "\n",
    "\n",
    "\n",
    "\n",
    "__Pasos RFM__\n",
    "1. [ ] Data Customer All\n",
    "2. [ ] Data Facturas All\n",
    "3. [ ] Construcción Caracteristicas a usar\n",
    "    - [ ] Un modelo por cada week tipe\n",
    "    - [X] Modelo que reemplza W por $C_W$\n",
    "3. [ ] Dispersión puntos RFM\n",
    "4. [ ] Modelo Clustering de RFM+\n",
    "    - [ ] Defionir R, aparte\n",
    "    - [ ] Defionir FxM\n",
    "    - [ ] Calcular Clustering FxM"
   ]
  },
  {
   "cell_type": "markdown",
   "id": "21ed6134",
   "metadata": {
    "heading_collapsed": true
   },
   "source": [
    "## Apuntes\n"
   ]
  },
  {
   "cell_type": "markdown",
   "id": "e05ad59c",
   "metadata": {
    "hidden": true
   },
   "source": [
    "La disposicipon de pago, se construye por etapas.\n",
    "\n",
    "1. [ ] Se define el modelo de regresión general:\n",
    "   1. [ ] Como forma introductoria **qué es** (Ecuación).\n",
    "   2. [ ] Se presenta un rago de precios para este modelo de regresión, por medio de un grafico de dispersión.\n",
    "   3. [ ] Explicación de lo que representan los coeficientes del modelo.\n",
    "   4. [ ] Diferencias entre la interpretación de estos si es Log()/Nivel.\n",
    "2. [ ] Se recoge el atributo del modelo llamado Semanas, estas Poseen la particularidad de influir en el precio, como se mencionó anteriormente, es por ello que se adieren en el modelo.\n",
    "3. [ ] Las semanas."
   ]
  },
  {
   "cell_type": "markdown",
   "id": "48cc505f",
   "metadata": {
    "heading_collapsed": true
   },
   "source": [
    "# Inicio\n"
   ]
  },
  {
   "cell_type": "markdown",
   "id": "7c2a8234",
   "metadata": {
    "hidden": true
   },
   "source": [
    "\n",
    "__Rename__\n",
    "Recordar que la columna llamada\n",
    "\n",
    "- `Precio promedio` ahora es `Precio`\n",
    "- `Centro.1` ahora es `Centro`\n",
    "- `Centro` ahora es `Centro_Cod`\n",
    "\n",
    "Presenta los parametros del modelo:\n",
    "\n",
    "- Dirección datos\n",
    "- Dirección Graficos\n",
    "- _Material a analizar_\n",
    "- _Canal a analizar_\n",
    "- _Zona de los Datos_\n",
    "- _Año de inicio de analizis_\n",
    "\n",
    "Base de datos\n",
    "\n",
    "\n",
    "`Tipo_de_Cliente`\n",
    "`Y_producto`\n",
    "`Año_inicio`\n",
    "\n",
    "`file_direct_Graphic` "
   ]
  },
  {
   "cell_type": "markdown",
   "id": "8bad43fc",
   "metadata": {
    "heading_collapsed": true,
    "hidden": true
   },
   "source": [
    "## Parametros \n",
    "data frame `data_i`\n",
    "\n",
    "\n",
    "> - Producto `i_producto = Y_producto`\n",
    "> -Para el Canal `Tipo_de_Cliente`\n",
    "> -Variable a predecir/Grafico `Y_Variable`\n",
    "\n",
    "Columnas de interes para predecir `X_col`\n",
    "\n",
    "Diccionario del grupo de columnas `Dic_col`"
   ]
  },
  {
   "cell_type": "code",
   "execution_count": 2,
   "id": "a0737e98",
   "metadata": {
    "hidden": true
   },
   "outputs": [],
   "source": [
    "#===================================\n",
    "# Archivo\n",
    "#===================================\n",
    "Zona_df='Z001'\n",
    "\n",
    "#===================================\n",
    "# Clientes\n",
    "#===================================\n",
    "Tipo_de_Cliente='Tradicional'\n",
    "\n",
    "#===================================\n",
    "# Producto de interes\n",
    "#===================================\n",
    "Y_producto='1010078'\n",
    "\n",
    "\n",
    "#===================================\n",
    "# Año de Partida\n",
    "#===================================\n",
    "Año_inicio='2018'\n",
    "\n",
    "\n",
    "\n",
    "\n",
    "# Ordenador de escritorio\n",
    "\n",
    "file_direct_O=\"C:/Users/user/Documents/Data/Data Clear/\"+Zona_df+\"/\"\n",
    "file_direct_Clear=\"C:/Users/user/Documents/Data/Data Clear/\"\n",
    "file_direct_Graphic='C:/Users/user/Documents/Graficos'\n",
    "Png_file_direct_Graphic=\"C:\\\\Users\\\\user\\\\Documents\\\\Graficos\"\n",
    "\"\"\"\n",
    "\n",
    "#Notebook\n",
    "file_direct_O=\"C:/Users/rolft/Documents/Repositorios/Data/Data Clear/\"+Zona_df+\"/\"\n",
    "file_direct_Clear=\"C:/Users/rolft/Documents/Repositorios/Data/Data Clear/\"\n",
    "file_direct_Graphic='C:/Users/rolft/Documents/Repositorios/Graficos'\n",
    "Png_file_direct_Graphic='C:\\\\Users\\\\rolft\\\\Documents\\\\Repositorios\\\\Graficos'\n",
    "\"\"\"\n",
    "#Graficos\n",
    "file_direct_Graphic_Canal=file_direct_Graphic+\"/\"+Tipo_de_Cliente\n",
    "file_direct_Graphic_Canal_Material=file_direct_Graphic_Canal+'/'+Y_producto\n",
    "\n",
    "Png_file_direct_Graphic_Canal=Png_file_direct_Graphic+'\\\\'+'Canal '+Tipo_de_Cliente\n",
    "Png_file_direct_Graphic_Canal_Material=Png_file_direct_Graphic_Canal+'\\\\'+Y_producto\n"
   ]
  },
  {
   "cell_type": "markdown",
   "id": "f80e374d",
   "metadata": {
    "heading_collapsed": true,
    "hidden": true
   },
   "source": [
    "## Intalar paquetes, Abrir data y ajustarla "
   ]
  },
  {
   "cell_type": "markdown",
   "id": "6a7c4706",
   "metadata": {
    "heading_collapsed": true,
    "hidden": true
   },
   "source": [
    "### import"
   ]
  },
  {
   "cell_type": "code",
   "execution_count": 3,
   "id": "faaa036d",
   "metadata": {
    "hidden": true,
    "scrolled": true
   },
   "outputs": [],
   "source": [
    "#from adjustText import adjust_text\n",
    "# from adjustText import *"
   ]
  },
  {
   "cell_type": "code",
   "execution_count": 4,
   "id": "0ea91ad7",
   "metadata": {
    "hidden": true
   },
   "outputs": [],
   "source": [
    "#=====================================================\n",
    "                # BASE \n",
    "#-----------------------------------------------------\n",
    "import pandas as pd\n",
    "import numpy as np\n",
    "import matplotlib.pyplot as plt\n",
    "\n",
    "#from geopandas import *\n",
    "\n",
    "from plotnine import *\n",
    "\n",
    "#para ajustar las fechas\n",
    "import datetime\n",
    "\n",
    "#para calcular el skew de un array() o list()\n",
    "from scipy.stats import skew "
   ]
  },
  {
   "cell_type": "code",
   "execution_count": 5,
   "id": "8916d4cd",
   "metadata": {
    "hidden": true
   },
   "outputs": [],
   "source": [
    "#=====================================================\n",
    "                # sklearn \n",
    "#-----------------------------------------------------\n",
    "\n",
    "#Separador de datos en train/test\n",
    "from sklearn.model_selection import train_test_split\n",
    "\n",
    "#Prediccion Ridge Regression\n",
    "from sklearn.linear_model import Ridge"
   ]
  },
  {
   "cell_type": "code",
   "execution_count": 6,
   "id": "8d82be85",
   "metadata": {
    "hidden": true
   },
   "outputs": [],
   "source": [
    "#=====================================================\n",
    "                # statsmodels \n",
    "#-----------------------------------------------------\n",
    "import statsmodels.api as sm\n",
    "import statsmodels.formula.api as smf\n",
    "from statsmodels.tools.sm_exceptions import ConvergenceWarning\n",
    "\n",
    "\n",
    "#from statsmodels.regression.mixed_linear_model import MixedLMResults\n",
    "# No se para qué sirve este"
   ]
  },
  {
   "cell_type": "code",
   "execution_count": 7,
   "id": "734ff701",
   "metadata": {
    "hidden": true
   },
   "outputs": [],
   "source": [
    "#====================================================\n",
    "#librerias para crear division de series temporales\n",
    "#====================================================\n",
    "\n",
    "from mizani.breaks import date_breaks\n",
    "from mizani.formatters import date_format"
   ]
  },
  {
   "cell_type": "code",
   "execution_count": 8,
   "id": "34160d20",
   "metadata": {
    "hidden": true
   },
   "outputs": [],
   "source": [
    "# stopwatch\n",
    "import time\n",
    "def time_convert(sec):\n",
    "  mins = sec // 60\n",
    "  sec = sec % 60\n",
    "  hours = mins // 60\n",
    "  mins = mins % 60\n",
    "  print(\"Time Lapsed = {0}:{1}:{2}\".format(int(hours),int(mins),sec),'\\n H:m:s')\n",
    "#==================================\n",
    "#          Example\n",
    "#    input(\"Press Enter to start\")\n",
    "start_time = time.time()\n",
    "#    input(\"Press Enter to stop\")\n",
    "#    end_time = time.time()\n",
    "#    time_lapsed = end_time - start_time\n",
    "#    time_convert(time_lapsed)\n",
    "#================================="
   ]
  },
  {
   "cell_type": "code",
   "execution_count": 9,
   "id": "b400675d",
   "metadata": {
    "hidden": true
   },
   "outputs": [],
   "source": [
    "#Histograma con porcentajes\n",
    "from mizani.formatters import percent_format"
   ]
  },
  {
   "cell_type": "markdown",
   "id": "0e0194b5",
   "metadata": {
    "heading_collapsed": true,
    "hidden": true
   },
   "source": [
    "### Funciones \n",
    "```python\n",
    "#Mes_name\n",
    "data_i.Mes.apply(Mes_name)\n",
    "```\n",
    ">Transforma la columna mes numerica en el nombre del mes"
   ]
  },
  {
   "cell_type": "markdown",
   "id": "66a752f5",
   "metadata": {
    "heading_collapsed": true,
    "hidden": true
   },
   "source": [
    "#### Numero a Meses "
   ]
  },
  {
   "cell_type": "markdown",
   "id": "76bc8afd",
   "metadata": {
    "hidden": true
   },
   "source": [
    "__Forma de crear una etiqueta para un valor especifico__\n",
    "```python\n",
    "#[Y_Graph]\n",
    "dfz=df.copy()\n",
    "dfz['Año select']=dfz.apply( lambda x: x['Año'] if x['Año']==2020 else '',axis=1)\n",
    "dfz\n",
    "```"
   ]
  },
  {
   "cell_type": "code",
   "execution_count": 10,
   "id": "ad8627c9",
   "metadata": {
    "hidden": true
   },
   "outputs": [],
   "source": [
    "#===================================\n",
    "# Dicionario MES\n",
    "#===================================\n",
    "\n",
    "#===================================\n",
    "# Fecha\n",
    "D=['Enero','Febrero','Marzo','Abril',\n",
    " 'Mayo','Junio','Julio','Agosto',\n",
    " 'Septiembre','Octubre',\n",
    " 'Noviembre','Diciembre']\n",
    "Month_dic={i:D[i-1]  for i in range(1,13)}\n",
    "#===========================================\n",
    "\n",
    "\n",
    "def Mes_name(x):\n",
    "    D=['Enero','Febrero','Marzo','Abril',\n",
    "    'Mayo','Junio','Julio','Agosto',\n",
    "    'Septiembre','Octubre',\n",
    "    'Noviembre','Diciembre']\n",
    "    return(D[int(x)-1])"
   ]
  },
  {
   "cell_type": "markdown",
   "id": "526cdb46",
   "metadata": {
    "heading_collapsed": true,
    "hidden": true
   },
   "source": [
    "#### Función estandariza ciertas columnas a LN "
   ]
  },
  {
   "cell_type": "code",
   "execution_count": 113,
   "id": "c11c18d1",
   "metadata": {
    "hidden": true
   },
   "outputs": [],
   "source": [
    "# ['Frecuency Actual del Cliente','Monetary Actual']\n",
    "def data_ln(dx,ln_col,drop_columns):\n",
    "    \"\"\"\n",
    "    Pasa un listado de columnas a Ln\n",
    "    \n",
    "        dx: dataframe\n",
    "        ln_col: (Array) Listado de columnas a escalar \n",
    "        drop_columns: (True or False)  Eliminar columnas del listado\n",
    "    \"\"\"\n",
    "    df_x=dx.copy()\n",
    "    for s in ln_col:\n",
    "        if(s in df_x.columns):\n",
    "            print(s)\n",
    "            df_x[s + '(Escala ln)']=\\\n",
    "            df_x[s].apply(lambda x: np.log(x))\n",
    "    if(drop_columns):\n",
    "        df_x.drop(columns = ln_col)\n",
    "    return(df_x)"
   ]
  },
  {
   "cell_type": "markdown",
   "id": "b646c867",
   "metadata": {
    "heading_collapsed": true,
    "hidden": true
   },
   "source": [
    "## Dicionario \n",
    "rename aplicado a `Precio promedio`"
   ]
  },
  {
   "cell_type": "code",
   "execution_count": 11,
   "id": "4a726445",
   "metadata": {
    "hidden": true
   },
   "outputs": [],
   "source": [
    "Dic_col={'Base':\n",
    "                             ['Material (Nombre)', 'Kilos Venta KG', 'Precio','Cliente'],\n",
    "        'Fecha':\n",
    "                             ['Día natural','Día Semana','Semana', 'Mes', 'Año'],\n",
    "        'Ubicacion':\n",
    "                             ['Centro','Población'],\n",
    "        'Cliente Categoria':\n",
    "                             ['Cluster','Segmento.1', 'Categoría Cliente'],\n",
    "        'Cliente Atributos':\n",
    "                             ['Año Creación', 'Material Favorito','Frecuencia Historica'] \n",
    "         ,'RFM Row':\n",
    "                 ['Recency días','Frecuency_Row','Monetary']\n",
    "        ,'RFM Customers':\n",
    "                 ['Recency Actual','Frecuency Actual del Cliente','Monetary Actual']\n",
    "        ,'Ticket Row':\n",
    "                 ['Ticket Promedio','Ticket CV']\n",
    "        ,'Ticket Customers':\n",
    "                 ['Ticket Promedio Actual','Ticket CV Actual']\n",
    "        }"
   ]
  },
  {
   "cell_type": "markdown",
   "id": "38e12a83",
   "metadata": {
    "hidden": true
   },
   "source": [
    "### Colores \n",
    "\n",
    "[Link colores muestra y configuración](https://www.rapidtables.com/web/color/RGB_Color.html)"
   ]
  },
  {
   "cell_type": "code",
   "execution_count": 12,
   "id": "dbbf1e78",
   "metadata": {
    "hidden": true
   },
   "outputs": [
    {
     "data": {
      "text/plain": [
       "'57DB5F'"
      ]
     },
     "execution_count": 12,
     "metadata": {},
     "output_type": "execute_result"
    }
   ],
   "source": [
    "('{:X}{:X}{:X}').format(31, 119, 180)\n",
    "('{:X}{:X}{:X}').format(219, 96, 97)\n",
    "('{:X}{:X}{:X}').format(87, 219, 95)"
   ]
  },
  {
   "cell_type": "markdown",
   "id": "f5e71982",
   "metadata": {
    "heading_collapsed": true,
    "hidden": true
   },
   "source": [
    "## Datos\n",
    "- `data_i_RFM`: Facturaciones \n",
    "- `Clientes_i_RFM`: RFM Clientes \n",
    "- `Df_Week`: Semanas, Con su respectivo cluster "
   ]
  },
  {
   "cell_type": "markdown",
   "id": "86c853d2",
   "metadata": {
    "heading_collapsed": true,
    "hidden": true
   },
   "source": [
    "### Abrir Archivo   Facturaciones\n"
   ]
  },
  {
   "cell_type": "markdown",
   "id": "25619431",
   "metadata": {
    "hidden": true
   },
   "source": [
    "Se debe agregar el parametro `,index_col='Unnamed: 0'` de esta froma tal vez se pueda hacer un merge en base al indice"
   ]
  },
  {
   "cell_type": "markdown",
   "id": "3526e76a",
   "metadata": {
    "heading_collapsed": true,
    "hidden": true
   },
   "source": [
    "##### Formación Datos"
   ]
  },
  {
   "cell_type": "markdown",
   "id": "95f2dd83",
   "metadata": {
    "heading_collapsed": true,
    "hidden": true
   },
   "source": [
    "###### Abrir csvs "
   ]
  },
  {
   "cell_type": "code",
   "execution_count": 13,
   "id": "aea237e7",
   "metadata": {
    "hidden": true
   },
   "outputs": [
    {
     "name": "stdout",
     "output_type": "stream",
     "text": [
      "R (198596, 19)\n",
      "F (198596, 19)\n",
      "M (198596, 20)\n"
     ]
    }
   ],
   "source": [
    "#======================================================================\n",
    "# R\n",
    "#=====================================================================\n",
    "\n",
    "file_direct=file_direct_O+'data_1010078_CT R'+'.csv'\n",
    "col_names=pd.read_csv(file_direct,\n",
    "                      encoding=\"utf-8\",sep=\";\",nrows=0).columns\n",
    "\n",
    "types_dict = {col: str for col in list(col_names)}\n",
    "\n",
    "data_i_R = pd.read_csv(file_direct,\n",
    "                   encoding=\"utf-8\",sep=\";\",dtype=types_dict\n",
    "                      ,index_col='Unnamed: 0'\n",
    "                      )\n",
    "\n",
    "# Se debe agregar el parametro ,index_col='Unnamed: 0' \n",
    "# de esta froma tal vez se pueda hacer un merge en base al indice\n",
    "\n",
    "#elimina una columna en especifico\n",
    "#DF_FULL.drop('Año natural', inplace=True, axis=1)\n",
    "print('R',data_i_R.shape)\n",
    "\n",
    "\n",
    "#======================================================================\n",
    "# F\n",
    "#=====================================================================\n",
    "\n",
    "file_direct=file_direct_O+'data_1010078_CT F'+'.csv'\n",
    "col_names=pd.read_csv(file_direct,\n",
    "                      encoding=\"utf-8\",sep=\";\",nrows=0).columns\n",
    "\n",
    "types_dict = {col: str for col in list(col_names)}\n",
    "\n",
    "data_i_F = pd.read_csv(file_direct,\n",
    "                   encoding=\"utf-8\",sep=\";\",dtype=types_dict\n",
    "                      ,index_col='Unnamed: 0'\n",
    "                      )\n",
    "\n",
    "# Se debe agregar el parametro ,index_col='Unnamed: 0' \n",
    "# de esta froma tal vez se pueda hacer un merge en base al indice\n",
    "\n",
    "#elimina una columna en especifico\n",
    "#DF_FULL.drop('Año natural', inplace=True, axis=1)\n",
    "print('F',data_i_F.shape)\n",
    "#======================================================================\n",
    "# M\n",
    "#=====================================================================\n",
    "\n",
    "file_direct=file_direct_O+'data_1010078_CT M'+'.csv'\n",
    "col_names=pd.read_csv(file_direct,\n",
    "                      encoding=\"utf-8\",sep=\";\",nrows=0).columns\n",
    "\n",
    "types_dict = {col: str for col in list(col_names)}\n",
    "\n",
    "data_i_M = pd.read_csv(file_direct,\n",
    "                   encoding=\"utf-8\",sep=\";\",dtype=types_dict\n",
    "                      ,index_col='Unnamed: 0'\n",
    "                      )\n",
    "\n",
    "# Se debe agregar el parametro ,index_col='Unnamed: 0' \n",
    "# de esta froma tal vez se pueda hacer un merge en base al indice\n",
    "\n",
    "#elimina una columna en especifico\n",
    "#DF_FULL.drop('Año natural', inplace=True, axis=1)\n",
    "print('M',data_i_M.shape)\n",
    "\n"
   ]
  },
  {
   "cell_type": "markdown",
   "id": "2eab72c4",
   "metadata": {
    "heading_collapsed": true,
    "hidden": true
   },
   "source": [
    "###### Merge "
   ]
  },
  {
   "cell_type": "code",
   "execution_count": 14,
   "id": "cfcc9d6f",
   "metadata": {
    "hidden": true
   },
   "outputs": [
    {
     "name": "stdout",
     "output_type": "stream",
     "text": [
      "RF (198596, 20)\n",
      "RFM (198596, 22)\n"
     ]
    }
   ],
   "source": [
    "#======================================================================\n",
    "# RFM\n",
    "#=====================================================================\n",
    "\n",
    "print('RF',(pd.merge(data_i_R,data_i_F )).shape)\n",
    "\n",
    "print('RFM',pd.merge(pd.merge(data_i_R,\n",
    "                              data_i_F ) ,\n",
    "                    data_i_M).shape)\n",
    "DATA_i_RFM = pd.merge(pd.merge(data_i_R,data_i_F ),data_i_M)\n",
    "\n",
    "del (data_i_R,data_i_F,data_i_M)"
   ]
  },
  {
   "cell_type": "markdown",
   "id": "f7c29b30",
   "metadata": {
    "heading_collapsed": true,
    "hidden": true
   },
   "source": [
    "#### Funcion"
   ]
  },
  {
   "cell_type": "markdown",
   "id": "cec713b7",
   "metadata": {
    "heading_collapsed": true,
    "hidden": true
   },
   "source": [
    "###### def "
   ]
  },
  {
   "cell_type": "code",
   "execution_count": 15,
   "id": "015ac527",
   "metadata": {
    "hidden": true
   },
   "outputs": [],
   "source": [
    "# =============================================================================\n",
    "# Ajustar la data\n",
    "# =============================================================================\n",
    "def Ajuste_data_RFM(data):\n",
    "    start_time = time.time()\n",
    "\n",
    "    df=data.copy()\n",
    "\n",
    "# =================================\n",
    "# ELiminare dodos los valores Nan\n",
    "# =================================\n",
    "    #for i in df.columns.to_list():\n",
    "    #    df=df[df[i].notna()]\n",
    "\n",
    "    \n",
    "    \n",
    "#=================================\n",
    "# Proceso Recency a Int \n",
    "#=================================\n",
    "        \n",
    "    df['Recency días']=df['Recency'].apply( lambda x:  x.split(' ')[0])\n",
    "    \n",
    "#=================================\n",
    "# Proceso iterativo Pasar a numero\n",
    "#=================================\n",
    "\n",
    "    for i in ['Kilos Venta KG'\n",
    "#               ,'Venta Neta'\n",
    "              ,'Precio'\n",
    "#               RFM\n",
    "              ,'Recency días'\n",
    "              ,'Frecuency_Row'\n",
    "              ,'Monetary'\n",
    "              ,'Ingreso de Venta CLP'\n",
    "             ]:\n",
    "        \n",
    "        df[i]=df[i].astype('float64').astype('int64')\n",
    "    for i in ['Kilos Venta KG'\n",
    "#               ,'Venta Neta'\n",
    "              ,'Precio'\n",
    "#               RFM\n",
    "              ,'Recency días'\n",
    "#               ,'Frecuency_Row'\n",
    "#               ,'Monetary'\n",
    "               ,'Ingreso de Venta CLP'\n",
    "             ]:\n",
    "        df[i]=df[i].astype('int64')     \n",
    "\n",
    "\n",
    "\n",
    "#==========================================================================================\n",
    "# Ajuste de las fechas\n",
    "#-----------------------------------------------------------------------------------------\n",
    "    df[\"Día natural\"] = df[\"Día natural\"].apply(lambda x: \n",
    "                                                datetime.datetime.strptime(str(x),\n",
    "                                                                           '%Y-%m-%d').date())\n",
    "    \n",
    "    #Separacion fecha\n",
    "    \n",
    "    #ELiminado de DF_FULL\n",
    "    #df['Semana']=df[\"Día natural\"].apply(lambda x: x.isocalendar()[1] )\n",
    "    #df['Mes']=df[\"Día natural\"].apply(lambda x: x.month)\n",
    "    #df['Año']=df[\"Día natural\"].apply(lambda x: x.year)\n",
    "    #df['Semana']=df['Semana'].astype('int64')\n",
    "    \n",
    "#     df['Año']=df['Año'].astype('int64')\n",
    "#     D_W=['Lunes','Martes','Miércoles','Jueves', 'Viernes','Sábado','Domingo']\n",
    "#     df['Día Semana']=df[\"Día natural\"].apply(lambda x: D_W[x.isocalendar()[2] -1])\n",
    "#     df=df[df['Día Semana']!='Domingo']\n",
    "    \n",
    "    print(df.dtypes)\n",
    "    end_time = time.time()\n",
    "    time_convert(end_time - start_time)\n",
    "    return df\n"
   ]
  },
  {
   "cell_type": "markdown",
   "id": "b8c8e6f0",
   "metadata": {
    "hidden": true
   },
   "source": [
    "###### aplicación "
   ]
  },
  {
   "cell_type": "code",
   "execution_count": 16,
   "id": "705fd67b",
   "metadata": {
    "hidden": true,
    "scrolled": false
   },
   "outputs": [
    {
     "name": "stdout",
     "output_type": "stream",
     "text": [
      "Material (Nombre)       object\n",
      "Kilos Venta KG           int64\n",
      "Precio                   int64\n",
      "Día natural             object\n",
      "Día Semana              object\n",
      "Semana                  object\n",
      "Mes                     object\n",
      "Año                     object\n",
      "Población               object\n",
      "Centro                  object\n",
      "Cliente                 object\n",
      "Cluster                 object\n",
      "Segmento.1              object\n",
      "Categoría Cliente       object\n",
      "Año Creación            object\n",
      "Material Favorito       object\n",
      "Frecuencia Historica    object\n",
      "Mes_num                 object\n",
      "Recency                 object\n",
      "Frecuency_Row            int64\n",
      "Ingreso de Venta CLP     int64\n",
      "Monetary                 int64\n",
      "Recency días             int64\n",
      "dtype: object\n",
      "Time Lapsed = 0:0:1.8386597633361816 \n",
      " H:m:s\n"
     ]
    },
    {
     "data": {
      "text/html": [
       "<div>\n",
       "<style scoped>\n",
       "    .dataframe tbody tr th:only-of-type {\n",
       "        vertical-align: middle;\n",
       "    }\n",
       "\n",
       "    .dataframe tbody tr th {\n",
       "        vertical-align: top;\n",
       "    }\n",
       "\n",
       "    .dataframe thead th {\n",
       "        text-align: right;\n",
       "    }\n",
       "</style>\n",
       "<table border=\"1\" class=\"dataframe\">\n",
       "  <thead>\n",
       "    <tr style=\"text-align: right;\">\n",
       "      <th></th>\n",
       "      <th>Material (Nombre)</th>\n",
       "      <th>Kilos Venta KG</th>\n",
       "      <th>Precio</th>\n",
       "      <th>Día natural</th>\n",
       "      <th>Día Semana</th>\n",
       "      <th>Semana</th>\n",
       "      <th>Mes</th>\n",
       "      <th>Año</th>\n",
       "      <th>Población</th>\n",
       "      <th>Centro</th>\n",
       "      <th>...</th>\n",
       "      <th>Categoría Cliente</th>\n",
       "      <th>Año Creación</th>\n",
       "      <th>Material Favorito</th>\n",
       "      <th>Frecuencia Historica</th>\n",
       "      <th>Mes_num</th>\n",
       "      <th>Recency</th>\n",
       "      <th>Frecuency_Row</th>\n",
       "      <th>Ingreso de Venta CLP</th>\n",
       "      <th>Monetary</th>\n",
       "      <th>Recency días</th>\n",
       "    </tr>\n",
       "  </thead>\n",
       "  <tbody>\n",
       "    <tr>\n",
       "      <th>0</th>\n",
       "      <td>1010078(Trutro Entero Selección)</td>\n",
       "      <td>22</td>\n",
       "      <td>1300</td>\n",
       "      <td>2020-05-23</td>\n",
       "      <td>Sábado</td>\n",
       "      <td>21</td>\n",
       "      <td>Mayo</td>\n",
       "      <td>2020</td>\n",
       "      <td>La Pintana</td>\n",
       "      <td>Sucursal Lo Espejo</td>\n",
       "      <td>...</td>\n",
       "      <td>Especialista en Proc</td>\n",
       "      <td>2007</td>\n",
       "      <td>1010077</td>\n",
       "      <td>19</td>\n",
       "      <td>5</td>\n",
       "      <td>0 days</td>\n",
       "      <td>1</td>\n",
       "      <td>28600</td>\n",
       "      <td>0</td>\n",
       "      <td>0</td>\n",
       "    </tr>\n",
       "    <tr>\n",
       "      <th>1</th>\n",
       "      <td>1010078(Trutro Entero Selección)</td>\n",
       "      <td>110</td>\n",
       "      <td>1174</td>\n",
       "      <td>2018-03-01</td>\n",
       "      <td>Jueves</td>\n",
       "      <td>9</td>\n",
       "      <td>Marzo</td>\n",
       "      <td>2018</td>\n",
       "      <td>Puente Alto</td>\n",
       "      <td>Sucursal Lo Espejo</td>\n",
       "      <td>...</td>\n",
       "      <td>Especialista en Crud</td>\n",
       "      <td>2007</td>\n",
       "      <td>1020253</td>\n",
       "      <td>464</td>\n",
       "      <td>3</td>\n",
       "      <td>0 days</td>\n",
       "      <td>1</td>\n",
       "      <td>129140</td>\n",
       "      <td>0</td>\n",
       "      <td>0</td>\n",
       "    </tr>\n",
       "  </tbody>\n",
       "</table>\n",
       "<p>2 rows × 23 columns</p>\n",
       "</div>"
      ],
      "text/plain": [
       "                  Material (Nombre)  Kilos Venta KG  Precio Día natural  \\\n",
       "0  1010078(Trutro Entero Selección)              22    1300  2020-05-23   \n",
       "1  1010078(Trutro Entero Selección)             110    1174  2018-03-01   \n",
       "\n",
       "  Día Semana Semana    Mes   Año    Población              Centro  ...  \\\n",
       "0     Sábado     21   Mayo  2020   La Pintana  Sucursal Lo Espejo  ...   \n",
       "1     Jueves      9  Marzo  2018  Puente Alto  Sucursal Lo Espejo  ...   \n",
       "\n",
       "      Categoría Cliente Año Creación Material Favorito Frecuencia Historica  \\\n",
       "0  Especialista en Proc         2007           1010077                   19   \n",
       "1  Especialista en Crud         2007           1020253                  464   \n",
       "\n",
       "  Mes_num Recency Frecuency_Row Ingreso de Venta CLP Monetary  Recency días  \n",
       "0       5  0 days             1                28600        0             0  \n",
       "1       3  0 days             1               129140        0             0  \n",
       "\n",
       "[2 rows x 23 columns]"
      ]
     },
     "execution_count": 16,
     "metadata": {},
     "output_type": "execute_result"
    }
   ],
   "source": [
    "data_i_RFM=Ajuste_data_RFM(DATA_i_RFM)\n",
    "data_i_RFM.head(2)"
   ]
  },
  {
   "cell_type": "markdown",
   "id": "f0fb8648",
   "metadata": {
    "heading_collapsed": true,
    "hidden": true
   },
   "source": [
    "### Data Customers\n",
    " "
   ]
  },
  {
   "cell_type": "markdown",
   "id": "82d42145",
   "metadata": {
    "hidden": true
   },
   "source": [
    "#### Abrir Datos RFM Clientes"
   ]
  },
  {
   "cell_type": "markdown",
   "id": "d247c089",
   "metadata": {
    "heading_collapsed": true,
    "hidden": true
   },
   "source": [
    "##### Abrir "
   ]
  },
  {
   "cell_type": "code",
   "execution_count": 17,
   "id": "509859b6",
   "metadata": {
    "hidden": true,
    "scrolled": true
   },
   "outputs": [
    {
     "data": {
      "text/html": [
       "<div>\n",
       "<style scoped>\n",
       "    .dataframe tbody tr th:only-of-type {\n",
       "        vertical-align: middle;\n",
       "    }\n",
       "\n",
       "    .dataframe tbody tr th {\n",
       "        vertical-align: top;\n",
       "    }\n",
       "\n",
       "    .dataframe thead th {\n",
       "        text-align: right;\n",
       "    }\n",
       "</style>\n",
       "<table border=\"1\" class=\"dataframe\">\n",
       "  <thead>\n",
       "    <tr style=\"text-align: right;\">\n",
       "      <th></th>\n",
       "      <th>Cliente</th>\n",
       "      <th>Fecha ultima Compra</th>\n",
       "      <th>Recency Actual</th>\n",
       "      <th>Fecha Creacion</th>\n",
       "      <th>Frecuency Actual del Cliente</th>\n",
       "      <th>Kilos Venta KG Promedio</th>\n",
       "      <th>Precio Promedio</th>\n",
       "      <th>Año Creación Promedio</th>\n",
       "      <th>Frecuencia Historica Promedio</th>\n",
       "      <th>Ingreso de Venta Promedio</th>\n",
       "    </tr>\n",
       "  </thead>\n",
       "  <tbody>\n",
       "    <tr>\n",
       "      <th>0</th>\n",
       "      <td>10003742</td>\n",
       "      <td>2020-05-23</td>\n",
       "      <td>521</td>\n",
       "      <td>2020-05-23</td>\n",
       "      <td>0.0033444816053511705</td>\n",
       "      <td>22.0</td>\n",
       "      <td>1300.0</td>\n",
       "      <td>2007.0</td>\n",
       "      <td>19.0</td>\n",
       "      <td>28600.0</td>\n",
       "    </tr>\n",
       "  </tbody>\n",
       "</table>\n",
       "</div>"
      ],
      "text/plain": [
       "    Cliente Fecha ultima Compra Recency Actual Fecha Creacion  \\\n",
       "0  10003742          2020-05-23            521     2020-05-23   \n",
       "\n",
       "  Frecuency Actual del Cliente Kilos Venta KG Promedio Precio Promedio  \\\n",
       "0        0.0033444816053511705                    22.0          1300.0   \n",
       "\n",
       "  Año Creación Promedio Frecuencia Historica Promedio  \\\n",
       "0                2007.0                          19.0   \n",
       "\n",
       "  Ingreso de Venta Promedio  \n",
       "0                   28600.0  "
      ]
     },
     "execution_count": 17,
     "metadata": {},
     "output_type": "execute_result"
    }
   ],
   "source": [
    "#======================================================================\n",
    "# Se Cargan los datos de ventas con las caracteristicas de los clientes\n",
    "#=====================================================================\n",
    "\n",
    "file_direct=file_direct_O+'Clientes_1010078_CT RFM'+'.csv'\n",
    "col_names=pd.read_csv(file_direct,\n",
    "                      encoding=\"utf-8\",sep=\";\",nrows=0).columns\n",
    "\n",
    "types_dict = {col: str for col in list(col_names)}\n",
    "\n",
    "Clientes_i_RFM= pd.read_csv(file_direct,\n",
    "                   encoding=\"utf-8\",sep=\";\",dtype=types_dict\n",
    "                      ,index_col='Unnamed: 0'\n",
    "                      )\n",
    "\n",
    "# Se debe agregar el parametro ,index_col='Unnamed: 0' \n",
    "# de esta froma tal vez se pueda hacer un merge en base al indice\n",
    "\n",
    "#elimina una columna en especifico\n",
    "#DF_FULL.drop('Año natural', inplace=True, axis=1)\n",
    "Clientes_i_RFM.head(1)"
   ]
  },
  {
   "cell_type": "code",
   "execution_count": 18,
   "id": "a90ef34e",
   "metadata": {
    "hidden": true
   },
   "outputs": [
    {
     "data": {
      "text/plain": [
       "Cliente                                    10007508\n",
       "Fecha ultima Compra                      2021-10-26\n",
       "Recency Actual                                    0\n",
       "Fecha Creacion                           2018-03-01\n",
       "Frecuency Actual del Cliente     0.2017524296094161\n",
       "Kilos Venta KG Promedio           93.15865384615384\n",
       "Precio Promedio                  1266.8942307692307\n",
       "Año Creación Promedio                        2007.0\n",
       "Frecuencia Historica Promedio                 464.0\n",
       "Ingreso de Venta Promedio        117683.47115384616\n",
       "Name: 1, dtype: object"
      ]
     },
     "execution_count": 18,
     "metadata": {},
     "output_type": "execute_result"
    }
   ],
   "source": [
    "Clientes_i_RFM.iloc[1]"
   ]
  },
  {
   "cell_type": "markdown",
   "id": "a64c11a5",
   "metadata": {
    "hidden": true
   },
   "source": [
    "##### Función Ajuste "
   ]
  },
  {
   "cell_type": "markdown",
   "id": "b40b8aa1",
   "metadata": {
    "hidden": true
   },
   "source": [
    "###### def  `Ajuste_Clientes_RFM`"
   ]
  },
  {
   "cell_type": "code",
   "execution_count": 19,
   "id": "f21b77fc",
   "metadata": {
    "hidden": true
   },
   "outputs": [],
   "source": [
    "# =============================================================================\n",
    "# Ajustar la data\n",
    "# =============================================================================\n",
    "def Ajuste_Clientes_RFM(data):\n",
    "    start_time = time.time()\n",
    "    df=data.copy()\n",
    "\n",
    "# =============================================================================\n",
    "# Proceso iterativo Pasar a numero\n",
    "#------------------------------------------------------------------------------\n",
    "\n",
    "#----------------------------------------------------------------------\n",
    "# Float\n",
    "    for i in [\n",
    "            #RFM\n",
    "            'Recency Actual'\n",
    "            ,'Frecuency Actual del Cliente'\n",
    "            ,'Ingreso de Venta Promedio'\n",
    "              \n",
    "            #Val Fact\n",
    "            ,'Kilos Venta KG Promedio'\n",
    "            ,'Precio Promedio'\n",
    "            \n",
    "            # Val historicos (ind del producto)\n",
    "            ,'Año Creación Promedio'\n",
    "            ,'Frecuencia Historica Promedio'\n",
    "             ]:\n",
    "        df[i]=df[i].astype('float64')\n",
    "        #.astype('int64')\n",
    "        \n",
    "        \n",
    "#------------------------------------------------------------------------ \n",
    "    # Int\n",
    "    for i in [\n",
    "                #RFM\n",
    "                'Recency Actual'\n",
    "#                 ,'Frecuency Actual del Cliente'\n",
    "#                 ,'Ingreso de Venta Promedio'\n",
    "\n",
    "                #Val Fact\n",
    "#                 ,'Kilos Venta KG Promedio'\n",
    "#                 ,'Precio Promedio'\n",
    "\n",
    "                # Val historicos (ind del producto)\n",
    "                ,'Año Creación Promedio'\n",
    "                ,'Frecuencia Historica Promedio'\n",
    "                ]:\n",
    "        df[i]=df[i].astype('int64')\n",
    "        \n",
    "\n",
    "\n",
    "#==========================================================================================\n",
    "# Ajuste de las fechas\n",
    "#-----------------------------------------------------------------------------------------\n",
    "    for date in ['Fecha ultima Compra','Fecha Creacion']:\n",
    "        df[date] = df[date].apply(lambda x: \n",
    "                                            datetime.datetime.strptime(str(x),\n",
    "                                                                           '%Y-%m-%d').date())\n",
    "    \n",
    "    print(df.dtypes)\n",
    "    end_time = time.time()\n",
    "    time_convert(end_time - start_time)\n",
    "    return    df.rename(columns={'Ingreso de Venta Promedio':'Monetary Actual'})\n"
   ]
  },
  {
   "cell_type": "markdown",
   "id": "59ad7552",
   "metadata": {
    "heading_collapsed": true,
    "hidden": true
   },
   "source": [
    "##### Aplicación"
   ]
  },
  {
   "cell_type": "code",
   "execution_count": 20,
   "id": "92341999",
   "metadata": {
    "hidden": true,
    "scrolled": true
   },
   "outputs": [
    {
     "name": "stdout",
     "output_type": "stream",
     "text": [
      "Cliente                           object\n",
      "Fecha ultima Compra               object\n",
      "Recency Actual                     int64\n",
      "Fecha Creacion                    object\n",
      "Frecuency Actual del Cliente     float64\n",
      "Kilos Venta KG Promedio          float64\n",
      "Precio Promedio                  float64\n",
      "Año Creación Promedio              int64\n",
      "Frecuencia Historica Promedio      int64\n",
      "Ingreso de Venta Promedio        float64\n",
      "dtype: object\n",
      "Time Lapsed = 0:0:0.09009122848510742 \n",
      " H:m:s\n"
     ]
    }
   ],
   "source": [
    "Clientes_i_RFM=Ajuste_Clientes_RFM(Clientes_i_RFM)"
   ]
  },
  {
   "cell_type": "code",
   "execution_count": 21,
   "id": "a5fea17c",
   "metadata": {
    "hidden": true
   },
   "outputs": [
    {
     "data": {
      "text/html": [
       "<div>\n",
       "<style scoped>\n",
       "    .dataframe tbody tr th:only-of-type {\n",
       "        vertical-align: middle;\n",
       "    }\n",
       "\n",
       "    .dataframe tbody tr th {\n",
       "        vertical-align: top;\n",
       "    }\n",
       "\n",
       "    .dataframe thead th {\n",
       "        text-align: right;\n",
       "    }\n",
       "</style>\n",
       "<table border=\"1\" class=\"dataframe\">\n",
       "  <thead>\n",
       "    <tr style=\"text-align: right;\">\n",
       "      <th></th>\n",
       "      <th>Cliente</th>\n",
       "      <th>Fecha ultima Compra</th>\n",
       "      <th>Recency Actual</th>\n",
       "      <th>Fecha Creacion</th>\n",
       "      <th>Frecuency Actual del Cliente</th>\n",
       "      <th>Kilos Venta KG Promedio</th>\n",
       "      <th>Precio Promedio</th>\n",
       "      <th>Año Creación Promedio</th>\n",
       "      <th>Frecuencia Historica Promedio</th>\n",
       "      <th>Monetary Actual</th>\n",
       "    </tr>\n",
       "  </thead>\n",
       "  <tbody>\n",
       "    <tr>\n",
       "      <th>0</th>\n",
       "      <td>10003742</td>\n",
       "      <td>2020-05-23</td>\n",
       "      <td>521</td>\n",
       "      <td>2020-05-23</td>\n",
       "      <td>0.003344</td>\n",
       "      <td>22.000000</td>\n",
       "      <td>1300.000000</td>\n",
       "      <td>2007</td>\n",
       "      <td>19</td>\n",
       "      <td>28600.000000</td>\n",
       "    </tr>\n",
       "    <tr>\n",
       "      <th>1</th>\n",
       "      <td>10007508</td>\n",
       "      <td>2021-10-26</td>\n",
       "      <td>0</td>\n",
       "      <td>2018-03-01</td>\n",
       "      <td>0.201752</td>\n",
       "      <td>93.158654</td>\n",
       "      <td>1266.894231</td>\n",
       "      <td>2007</td>\n",
       "      <td>464</td>\n",
       "      <td>117683.471154</td>\n",
       "    </tr>\n",
       "    <tr>\n",
       "      <th>2</th>\n",
       "      <td>10017269</td>\n",
       "      <td>2021-10-23</td>\n",
       "      <td>3</td>\n",
       "      <td>2018-01-27</td>\n",
       "      <td>0.059365</td>\n",
       "      <td>22.038462</td>\n",
       "      <td>1347.782051</td>\n",
       "      <td>2007</td>\n",
       "      <td>101</td>\n",
       "      <td>29699.448718</td>\n",
       "    </tr>\n",
       "    <tr>\n",
       "      <th>3</th>\n",
       "      <td>10023880</td>\n",
       "      <td>2021-09-09</td>\n",
       "      <td>47</td>\n",
       "      <td>2018-12-28</td>\n",
       "      <td>0.039591</td>\n",
       "      <td>27.500000</td>\n",
       "      <td>1400.000000</td>\n",
       "      <td>2007</td>\n",
       "      <td>383</td>\n",
       "      <td>38390.000000</td>\n",
       "    </tr>\n",
       "    <tr>\n",
       "      <th>4</th>\n",
       "      <td>10028999</td>\n",
       "      <td>2021-09-24</td>\n",
       "      <td>32</td>\n",
       "      <td>2019-11-05</td>\n",
       "      <td>0.017541</td>\n",
       "      <td>22.000000</td>\n",
       "      <td>1320.923077</td>\n",
       "      <td>2007</td>\n",
       "      <td>62</td>\n",
       "      <td>29060.307692</td>\n",
       "    </tr>\n",
       "  </tbody>\n",
       "</table>\n",
       "</div>"
      ],
      "text/plain": [
       "    Cliente Fecha ultima Compra  Recency Actual Fecha Creacion  \\\n",
       "0  10003742          2020-05-23             521     2020-05-23   \n",
       "1  10007508          2021-10-26               0     2018-03-01   \n",
       "2  10017269          2021-10-23               3     2018-01-27   \n",
       "3  10023880          2021-09-09              47     2018-12-28   \n",
       "4  10028999          2021-09-24              32     2019-11-05   \n",
       "\n",
       "   Frecuency Actual del Cliente  Kilos Venta KG Promedio  Precio Promedio  \\\n",
       "0                      0.003344                22.000000      1300.000000   \n",
       "1                      0.201752                93.158654      1266.894231   \n",
       "2                      0.059365                22.038462      1347.782051   \n",
       "3                      0.039591                27.500000      1400.000000   \n",
       "4                      0.017541                22.000000      1320.923077   \n",
       "\n",
       "   Año Creación Promedio  Frecuencia Historica Promedio  Monetary Actual  \n",
       "0                   2007                             19     28600.000000  \n",
       "1                   2007                            464    117683.471154  \n",
       "2                   2007                            101     29699.448718  \n",
       "3                   2007                            383     38390.000000  \n",
       "4                   2007                             62     29060.307692  "
      ]
     },
     "execution_count": 21,
     "metadata": {},
     "output_type": "execute_result"
    }
   ],
   "source": [
    "Clientes_i_RFM.head()"
   ]
  },
  {
   "cell_type": "markdown",
   "id": "118af0b2",
   "metadata": {
    "heading_collapsed": true,
    "hidden": true
   },
   "source": [
    "#### Valoración Tipo de Semana Data Clientes"
   ]
  },
  {
   "cell_type": "code",
   "execution_count": 22,
   "id": "bbcb3255",
   "metadata": {
    "hidden": true,
    "scrolled": true
   },
   "outputs": [
    {
     "data": {
      "text/html": [
       "<div>\n",
       "<style scoped>\n",
       "    .dataframe tbody tr th:only-of-type {\n",
       "        vertical-align: middle;\n",
       "    }\n",
       "\n",
       "    .dataframe tbody tr th {\n",
       "        vertical-align: top;\n",
       "    }\n",
       "\n",
       "    .dataframe thead th {\n",
       "        text-align: right;\n",
       "    }\n",
       "</style>\n",
       "<table border=\"1\" class=\"dataframe\">\n",
       "  <thead>\n",
       "    <tr style=\"text-align: right;\">\n",
       "      <th></th>\n",
       "      <th>Cliente</th>\n",
       "      <th>%△Valoración Promedio \\n Tipo de Semana 0</th>\n",
       "      <th>%△Valoración Promedio \\n Tipo de Semana 1</th>\n",
       "      <th>%△Valoración Promedio \\n Tipo de Semana 2</th>\n",
       "      <th>%△Valoración Promedio \\n Tipo de Semana 3</th>\n",
       "      <th>%△Valoración Promedio \\n Tipo de Semana 4</th>\n",
       "      <th>Kilos Venta KG Promedio \\n Tipo de Semana 0</th>\n",
       "      <th>Kilos Venta KG Promedio \\n Tipo de Semana 1</th>\n",
       "      <th>Kilos Venta KG Promedio \\n Tipo de Semana 2</th>\n",
       "      <th>Kilos Venta KG Promedio \\n Tipo de Semana 3</th>\n",
       "      <th>Kilos Venta KG Promedio \\n Tipo de Semana 4</th>\n",
       "    </tr>\n",
       "  </thead>\n",
       "  <tbody>\n",
       "    <tr>\n",
       "      <th>0</th>\n",
       "      <td>10003742</td>\n",
       "      <td>-0.0652580488718174</td>\n",
       "      <td>-0.0652580488718174</td>\n",
       "      <td>-0.0652580488718174</td>\n",
       "      <td>-0.0652580488718174</td>\n",
       "      <td>-0.0652580488718174</td>\n",
       "      <td>22.0</td>\n",
       "      <td>22.0</td>\n",
       "      <td>22.0</td>\n",
       "      <td>22.0</td>\n",
       "      <td>22.0</td>\n",
       "    </tr>\n",
       "    <tr>\n",
       "      <th>1</th>\n",
       "      <td>10007508</td>\n",
       "      <td>-0.007185734905445153</td>\n",
       "      <td>0.018077218717184977</td>\n",
       "      <td>0.013714992109052858</td>\n",
       "      <td>0.02452918655320076</td>\n",
       "      <td>0.013855960433295756</td>\n",
       "      <td>89.87777777777778</td>\n",
       "      <td>96.475</td>\n",
       "      <td>95.56060606060606</td>\n",
       "      <td>90.2</td>\n",
       "      <td>110.0</td>\n",
       "    </tr>\n",
       "    <tr>\n",
       "      <th>2</th>\n",
       "      <td>10017269</td>\n",
       "      <td>0.03046114456733656</td>\n",
       "      <td>0.019897886066589765</td>\n",
       "      <td>0.03147219540210185</td>\n",
       "      <td>0.0056993826680127755</td>\n",
       "      <td>0.0007512242388005607</td>\n",
       "      <td>21.941176470588236</td>\n",
       "      <td>22.263157894736842</td>\n",
       "      <td>22.0</td>\n",
       "      <td>22.0</td>\n",
       "      <td>22.0</td>\n",
       "    </tr>\n",
       "    <tr>\n",
       "      <th>3</th>\n",
       "      <td>10023880</td>\n",
       "      <td>-0.030060387249354177</td>\n",
       "      <td>0.05214065915513532</td>\n",
       "      <td>0.02113362816776547</td>\n",
       "      <td>0.012619280144029242</td>\n",
       "      <td>0.007263220502570363</td>\n",
       "      <td>25.142857142857142</td>\n",
       "      <td>29.333333333333332</td>\n",
       "      <td>30.8</td>\n",
       "      <td>27.919047619047618</td>\n",
       "      <td>26.4</td>\n",
       "    </tr>\n",
       "    <tr>\n",
       "      <th>4</th>\n",
       "      <td>10028999</td>\n",
       "      <td>-0.026308968642914484</td>\n",
       "      <td>-0.05027185123667554</td>\n",
       "      <td>0.01544649662663542</td>\n",
       "      <td>-0.07753219431426499</td>\n",
       "      <td>-0.0346666293918049</td>\n",
       "      <td>22.0</td>\n",
       "      <td>22.0</td>\n",
       "      <td>22.0</td>\n",
       "      <td>22.0</td>\n",
       "      <td>22.0</td>\n",
       "    </tr>\n",
       "  </tbody>\n",
       "</table>\n",
       "</div>"
      ],
      "text/plain": [
       "    Cliente %△Valoración Promedio \\n Tipo de Semana 0  \\\n",
       "0  10003742                       -0.0652580488718174   \n",
       "1  10007508                     -0.007185734905445153   \n",
       "2  10017269                       0.03046114456733656   \n",
       "3  10023880                     -0.030060387249354177   \n",
       "4  10028999                     -0.026308968642914484   \n",
       "\n",
       "  %△Valoración Promedio \\n Tipo de Semana 1  \\\n",
       "0                       -0.0652580488718174   \n",
       "1                      0.018077218717184977   \n",
       "2                      0.019897886066589765   \n",
       "3                       0.05214065915513532   \n",
       "4                      -0.05027185123667554   \n",
       "\n",
       "  %△Valoración Promedio \\n Tipo de Semana 2  \\\n",
       "0                       -0.0652580488718174   \n",
       "1                      0.013714992109052858   \n",
       "2                       0.03147219540210185   \n",
       "3                       0.02113362816776547   \n",
       "4                       0.01544649662663542   \n",
       "\n",
       "  %△Valoración Promedio \\n Tipo de Semana 3  \\\n",
       "0                       -0.0652580488718174   \n",
       "1                       0.02452918655320076   \n",
       "2                     0.0056993826680127755   \n",
       "3                      0.012619280144029242   \n",
       "4                      -0.07753219431426499   \n",
       "\n",
       "  %△Valoración Promedio \\n Tipo de Semana 4  \\\n",
       "0                       -0.0652580488718174   \n",
       "1                      0.013855960433295756   \n",
       "2                     0.0007512242388005607   \n",
       "3                      0.007263220502570363   \n",
       "4                       -0.0346666293918049   \n",
       "\n",
       "  Kilos Venta KG Promedio \\n Tipo de Semana 0  \\\n",
       "0                                        22.0   \n",
       "1                           89.87777777777778   \n",
       "2                          21.941176470588236   \n",
       "3                          25.142857142857142   \n",
       "4                                        22.0   \n",
       "\n",
       "  Kilos Venta KG Promedio \\n Tipo de Semana 1  \\\n",
       "0                                        22.0   \n",
       "1                                      96.475   \n",
       "2                          22.263157894736842   \n",
       "3                          29.333333333333332   \n",
       "4                                        22.0   \n",
       "\n",
       "  Kilos Venta KG Promedio \\n Tipo de Semana 2  \\\n",
       "0                                        22.0   \n",
       "1                           95.56060606060606   \n",
       "2                                        22.0   \n",
       "3                                        30.8   \n",
       "4                                        22.0   \n",
       "\n",
       "  Kilos Venta KG Promedio \\n Tipo de Semana 3  \\\n",
       "0                                        22.0   \n",
       "1                                        90.2   \n",
       "2                                        22.0   \n",
       "3                          27.919047619047618   \n",
       "4                                        22.0   \n",
       "\n",
       "  Kilos Venta KG Promedio \\n Tipo de Semana 4  \n",
       "0                                        22.0  \n",
       "1                                       110.0  \n",
       "2                                        22.0  \n",
       "3                                        26.4  \n",
       "4                                        22.0  "
      ]
     },
     "execution_count": 22,
     "metadata": {},
     "output_type": "execute_result"
    }
   ],
   "source": [
    "#======================================================================\n",
    "# Se Cargan los datos de ventas con las caracteristicas de los clientes\n",
    "#=====================================================================\n",
    "\n",
    "file_direct=file_direct_O+'Val_Customers_Weeks_1010078_CT 2018_2021'+'.csv'\n",
    "col_names=pd.read_csv(file_direct,\n",
    "                      encoding=\"utf-8\",sep=\";\",nrows=0).columns\n",
    "\n",
    "types_dict = {col: str for col in list(col_names)}\n",
    "\n",
    "Clientes_Valor_Week= pd.read_csv(file_direct,\n",
    "                   encoding=\"utf-8\",sep=\";\",dtype=types_dict\n",
    "                      ,index_col='Unnamed: 0'\n",
    "                      )\n",
    "\n",
    "# Se debe agregar el parametro ,index_col='Unnamed: 0' \n",
    "# de esta froma tal vez se pueda hacer un merge en base al indice\n",
    "\n",
    "#elimina una columna en especifico\n",
    "#DF_FULL.drop('Año natural', inplace=True, axis=1)\n",
    "Clientes_Valor_Week.head()"
   ]
  },
  {
   "cell_type": "code",
   "execution_count": 23,
   "id": "eea9c523",
   "metadata": {
    "hidden": true
   },
   "outputs": [
    {
     "data": {
      "text/plain": [
       "Cliente                                                     10007508\n",
       "%△Valoración Promedio \\n Tipo de Semana 0      -0.007185734905445153\n",
       "%△Valoración Promedio \\n Tipo de Semana 1       0.018077218717184977\n",
       "%△Valoración Promedio \\n Tipo de Semana 2       0.013714992109052858\n",
       "%△Valoración Promedio \\n Tipo de Semana 3        0.02452918655320076\n",
       "%△Valoración Promedio \\n Tipo de Semana 4       0.013855960433295756\n",
       "Kilos Venta KG Promedio \\n Tipo de Semana 0        89.87777777777778\n",
       "Kilos Venta KG Promedio \\n Tipo de Semana 1                   96.475\n",
       "Kilos Venta KG Promedio \\n Tipo de Semana 2        95.56060606060606\n",
       "Kilos Venta KG Promedio \\n Tipo de Semana 3                     90.2\n",
       "Kilos Venta KG Promedio \\n Tipo de Semana 4                    110.0\n",
       "Name: 1, dtype: object"
      ]
     },
     "execution_count": 23,
     "metadata": {},
     "output_type": "execute_result"
    }
   ],
   "source": [
    "Clientes_Valor_Week.iloc[1]"
   ]
  },
  {
   "cell_type": "markdown",
   "id": "206de433",
   "metadata": {
    "heading_collapsed": true,
    "hidden": true
   },
   "source": [
    "#### Calcular Atributos de volumen \n",
    "Se contruyen los atributos relacionados al ticket de compra"
   ]
  },
  {
   "cell_type": "markdown",
   "id": "acc3bb9d",
   "metadata": {
    "hidden": true
   },
   "source": [
    "##### Kilo promedio "
   ]
  },
  {
   "cell_type": "code",
   "execution_count": 24,
   "id": "cf3f31e6",
   "metadata": {
    "hidden": true
   },
   "outputs": [
    {
     "data": {
      "text/html": [
       "<div>\n",
       "<style scoped>\n",
       "    .dataframe tbody tr th:only-of-type {\n",
       "        vertical-align: middle;\n",
       "    }\n",
       "\n",
       "    .dataframe tbody tr th {\n",
       "        vertical-align: top;\n",
       "    }\n",
       "\n",
       "    .dataframe thead th {\n",
       "        text-align: right;\n",
       "    }\n",
       "</style>\n",
       "<table border=\"1\" class=\"dataframe\">\n",
       "  <thead>\n",
       "    <tr style=\"text-align: right;\">\n",
       "      <th></th>\n",
       "      <th>Cliente</th>\n",
       "      <th>Ticket Promedio Actual</th>\n",
       "    </tr>\n",
       "  </thead>\n",
       "  <tbody>\n",
       "    <tr>\n",
       "      <th>0</th>\n",
       "      <td>10003742</td>\n",
       "      <td>22.000000</td>\n",
       "    </tr>\n",
       "    <tr>\n",
       "      <th>1</th>\n",
       "      <td>10007508</td>\n",
       "      <td>93.158654</td>\n",
       "    </tr>\n",
       "    <tr>\n",
       "      <th>2</th>\n",
       "      <td>10017269</td>\n",
       "      <td>22.038462</td>\n",
       "    </tr>\n",
       "    <tr>\n",
       "      <th>3</th>\n",
       "      <td>10023880</td>\n",
       "      <td>27.500000</td>\n",
       "    </tr>\n",
       "    <tr>\n",
       "      <th>4</th>\n",
       "      <td>10028999</td>\n",
       "      <td>22.000000</td>\n",
       "    </tr>\n",
       "    <tr>\n",
       "      <th>...</th>\n",
       "      <td>...</td>\n",
       "      <td>...</td>\n",
       "    </tr>\n",
       "    <tr>\n",
       "      <th>5068</th>\n",
       "      <td>9992154</td>\n",
       "      <td>36.171429</td>\n",
       "    </tr>\n",
       "    <tr>\n",
       "      <th>5069</th>\n",
       "      <td>9993925</td>\n",
       "      <td>160.517495</td>\n",
       "    </tr>\n",
       "    <tr>\n",
       "      <th>5070</th>\n",
       "      <td>9994662</td>\n",
       "      <td>22.000000</td>\n",
       "    </tr>\n",
       "    <tr>\n",
       "      <th>5071</th>\n",
       "      <td>9994800</td>\n",
       "      <td>22.000000</td>\n",
       "    </tr>\n",
       "    <tr>\n",
       "      <th>5072</th>\n",
       "      <td>9997223</td>\n",
       "      <td>22.000000</td>\n",
       "    </tr>\n",
       "  </tbody>\n",
       "</table>\n",
       "<p>5073 rows × 2 columns</p>\n",
       "</div>"
      ],
      "text/plain": [
       "       Cliente  Ticket Promedio Actual\n",
       "0     10003742               22.000000\n",
       "1     10007508               93.158654\n",
       "2     10017269               22.038462\n",
       "3     10023880               27.500000\n",
       "4     10028999               22.000000\n",
       "...        ...                     ...\n",
       "5068   9992154               36.171429\n",
       "5069   9993925              160.517495\n",
       "5070   9994662               22.000000\n",
       "5071   9994800               22.000000\n",
       "5072   9997223               22.000000\n",
       "\n",
       "[5073 rows x 2 columns]"
      ]
     },
     "execution_count": 24,
     "metadata": {},
     "output_type": "execute_result"
    }
   ],
   "source": [
    "df= data_i_RFM\n",
    "df_g=df[['Cliente','Kilos Venta KG']].groupby('Cliente')\\\n",
    "        .mean().reset_index()\\\n",
    "        .rename(columns={'Kilos Venta KG':Dic_col['Ticket Customers'][0]})\n",
    "df_g"
   ]
  },
  {
   "cell_type": "markdown",
   "id": "2d64991e",
   "metadata": {
    "hidden": true
   },
   "source": [
    "##### CV  Coeficiente de variación "
   ]
  },
  {
   "cell_type": "markdown",
   "id": "e3ba2b7d",
   "metadata": {
    "hidden": true
   },
   "source": [
    "######  Std"
   ]
  },
  {
   "cell_type": "code",
   "execution_count": 25,
   "id": "85a19633",
   "metadata": {
    "hidden": true
   },
   "outputs": [
    {
     "name": "stdout",
     "output_type": "stream",
     "text": [
      "Cliente                0\n",
      "Ticket std Actual    367\n",
      "dtype: int64\n"
     ]
    },
    {
     "data": {
      "text/html": [
       "<div>\n",
       "<style scoped>\n",
       "    .dataframe tbody tr th:only-of-type {\n",
       "        vertical-align: middle;\n",
       "    }\n",
       "\n",
       "    .dataframe tbody tr th {\n",
       "        vertical-align: top;\n",
       "    }\n",
       "\n",
       "    .dataframe thead th {\n",
       "        text-align: right;\n",
       "    }\n",
       "</style>\n",
       "<table border=\"1\" class=\"dataframe\">\n",
       "  <thead>\n",
       "    <tr style=\"text-align: right;\">\n",
       "      <th></th>\n",
       "      <th>Cliente</th>\n",
       "      <th>Ticket std Actual</th>\n",
       "    </tr>\n",
       "  </thead>\n",
       "  <tbody>\n",
       "    <tr>\n",
       "      <th>0</th>\n",
       "      <td>10003742</td>\n",
       "      <td>0.000000</td>\n",
       "    </tr>\n",
       "    <tr>\n",
       "      <th>1</th>\n",
       "      <td>10007508</td>\n",
       "      <td>36.215256</td>\n",
       "    </tr>\n",
       "    <tr>\n",
       "      <th>2</th>\n",
       "      <td>10017269</td>\n",
       "      <td>0.612474</td>\n",
       "    </tr>\n",
       "    <tr>\n",
       "      <th>3</th>\n",
       "      <td>10023880</td>\n",
       "      <td>12.102631</td>\n",
       "    </tr>\n",
       "    <tr>\n",
       "      <th>4</th>\n",
       "      <td>10028999</td>\n",
       "      <td>0.000000</td>\n",
       "    </tr>\n",
       "  </tbody>\n",
       "</table>\n",
       "</div>"
      ],
      "text/plain": [
       "    Cliente  Ticket std Actual\n",
       "0  10003742           0.000000\n",
       "1  10007508          36.215256\n",
       "2  10017269           0.612474\n",
       "3  10023880          12.102631\n",
       "4  10028999           0.000000"
      ]
     },
     "execution_count": 25,
     "metadata": {},
     "output_type": "execute_result"
    }
   ],
   "source": [
    "df_G=df[['Cliente','Kilos Venta KG']].groupby('Cliente')\\\n",
    "        .std().reset_index()\\\n",
    "        .rename(columns={'Kilos Venta KG':'Ticket std Actual'})\n",
    "print(\n",
    "df_G.isnull().sum()\n",
    ")\n",
    "df_G=df_G.fillna(0)\n",
    "df_G.head()"
   ]
  },
  {
   "cell_type": "markdown",
   "id": "2c569db0",
   "metadata": {
    "hidden": true
   },
   "source": [
    "###### Coeficiente de variación "
   ]
  },
  {
   "cell_type": "code",
   "execution_count": 26,
   "id": "d5cdd548",
   "metadata": {
    "hidden": true
   },
   "outputs": [
    {
     "data": {
      "text/html": [
       "<div>\n",
       "<style scoped>\n",
       "    .dataframe tbody tr th:only-of-type {\n",
       "        vertical-align: middle;\n",
       "    }\n",
       "\n",
       "    .dataframe tbody tr th {\n",
       "        vertical-align: top;\n",
       "    }\n",
       "\n",
       "    .dataframe thead th {\n",
       "        text-align: right;\n",
       "    }\n",
       "</style>\n",
       "<table border=\"1\" class=\"dataframe\">\n",
       "  <thead>\n",
       "    <tr style=\"text-align: right;\">\n",
       "      <th></th>\n",
       "      <th>Cliente</th>\n",
       "      <th>Ticket Promedio Actual</th>\n",
       "      <th>Ticket std Actual</th>\n",
       "      <th>Ticket CV Actual</th>\n",
       "    </tr>\n",
       "  </thead>\n",
       "  <tbody>\n",
       "    <tr>\n",
       "      <th>0</th>\n",
       "      <td>10003742</td>\n",
       "      <td>22.000000</td>\n",
       "      <td>0.000000</td>\n",
       "      <td>0.000000</td>\n",
       "    </tr>\n",
       "    <tr>\n",
       "      <th>1</th>\n",
       "      <td>10007508</td>\n",
       "      <td>93.158654</td>\n",
       "      <td>36.215256</td>\n",
       "      <td>0.388748</td>\n",
       "    </tr>\n",
       "    <tr>\n",
       "      <th>2</th>\n",
       "      <td>10017269</td>\n",
       "      <td>22.038462</td>\n",
       "      <td>0.612474</td>\n",
       "      <td>0.027791</td>\n",
       "    </tr>\n",
       "    <tr>\n",
       "      <th>3</th>\n",
       "      <td>10023880</td>\n",
       "      <td>27.500000</td>\n",
       "      <td>12.102631</td>\n",
       "      <td>0.440096</td>\n",
       "    </tr>\n",
       "    <tr>\n",
       "      <th>4</th>\n",
       "      <td>10028999</td>\n",
       "      <td>22.000000</td>\n",
       "      <td>0.000000</td>\n",
       "      <td>0.000000</td>\n",
       "    </tr>\n",
       "    <tr>\n",
       "      <th>...</th>\n",
       "      <td>...</td>\n",
       "      <td>...</td>\n",
       "      <td>...</td>\n",
       "      <td>...</td>\n",
       "    </tr>\n",
       "    <tr>\n",
       "      <th>5068</th>\n",
       "      <td>9992154</td>\n",
       "      <td>36.171429</td>\n",
       "      <td>18.376080</td>\n",
       "      <td>0.508027</td>\n",
       "    </tr>\n",
       "    <tr>\n",
       "      <th>5069</th>\n",
       "      <td>9993925</td>\n",
       "      <td>160.517495</td>\n",
       "      <td>81.963154</td>\n",
       "      <td>0.510618</td>\n",
       "    </tr>\n",
       "    <tr>\n",
       "      <th>5070</th>\n",
       "      <td>9994662</td>\n",
       "      <td>22.000000</td>\n",
       "      <td>0.000000</td>\n",
       "      <td>0.000000</td>\n",
       "    </tr>\n",
       "    <tr>\n",
       "      <th>5071</th>\n",
       "      <td>9994800</td>\n",
       "      <td>22.000000</td>\n",
       "      <td>0.000000</td>\n",
       "      <td>0.000000</td>\n",
       "    </tr>\n",
       "    <tr>\n",
       "      <th>5072</th>\n",
       "      <td>9997223</td>\n",
       "      <td>22.000000</td>\n",
       "      <td>0.000000</td>\n",
       "      <td>0.000000</td>\n",
       "    </tr>\n",
       "  </tbody>\n",
       "</table>\n",
       "<p>5073 rows × 4 columns</p>\n",
       "</div>"
      ],
      "text/plain": [
       "       Cliente  Ticket Promedio Actual  Ticket std Actual  Ticket CV Actual\n",
       "0     10003742               22.000000           0.000000          0.000000\n",
       "1     10007508               93.158654          36.215256          0.388748\n",
       "2     10017269               22.038462           0.612474          0.027791\n",
       "3     10023880               27.500000          12.102631          0.440096\n",
       "4     10028999               22.000000           0.000000          0.000000\n",
       "...        ...                     ...                ...               ...\n",
       "5068   9992154               36.171429          18.376080          0.508027\n",
       "5069   9993925              160.517495          81.963154          0.510618\n",
       "5070   9994662               22.000000           0.000000          0.000000\n",
       "5071   9994800               22.000000           0.000000          0.000000\n",
       "5072   9997223               22.000000           0.000000          0.000000\n",
       "\n",
       "[5073 rows x 4 columns]"
      ]
     },
     "execution_count": 26,
     "metadata": {},
     "output_type": "execute_result"
    }
   ],
   "source": [
    "df_group=pd.merge(df_g,df_G,how='right')\n",
    "\n",
    "df_group[Dic_col['Ticket Customers'][1]]=\\\n",
    "df_group.apply(lambda x: \n",
    "               x['Ticket std Actual']/\n",
    "               x[Dic_col['Ticket Customers'][0]] ,axis=1)\n",
    "df_group"
   ]
  },
  {
   "cell_type": "code",
   "execution_count": 27,
   "id": "dc48c941",
   "metadata": {
    "hidden": true
   },
   "outputs": [
    {
     "data": {
      "text/plain": [
       "'Frecuency Actual del Cliente'"
      ]
     },
     "execution_count": 27,
     "metadata": {},
     "output_type": "execute_result"
    }
   ],
   "source": [
    "Dic_col['RFM Customers'][1]"
   ]
  },
  {
   "cell_type": "markdown",
   "id": "cd90ebd8",
   "metadata": {
    "heading_collapsed": true,
    "hidden": true
   },
   "source": [
    "#### Merge "
   ]
  },
  {
   "cell_type": "code",
   "execution_count": 28,
   "id": "37777a34",
   "metadata": {
    "hidden": true
   },
   "outputs": [
    {
     "name": "stdout",
     "output_type": "stream",
     "text": [
      "(5073, 13)\n",
      "(5073, 23)\n"
     ]
    },
    {
     "data": {
      "text/plain": [
       "(5073, 24)"
      ]
     },
     "execution_count": 28,
     "metadata": {},
     "output_type": "execute_result"
    }
   ],
   "source": [
    "Clientes_i=pd.merge(Clientes_i_RFM,df_group)\n",
    "print(Clientes_i.shape)\n",
    "Clientes_i=pd.merge(Clientes_Valor_Week,Clientes_i)\n",
    "print(Clientes_i.shape)\n",
    "Clientes_i['$F^{-1}$ Actual']=\\\n",
    "    Clientes_i[Dic_col['RFM Customers'][1]].apply( lambda x: x**(-1))\n",
    "Clientes_i.shape"
   ]
  },
  {
   "cell_type": "code",
   "execution_count": 29,
   "id": "d57979da",
   "metadata": {
    "hidden": true
   },
   "outputs": [
    {
     "data": {
      "text/html": [
       "<div>\n",
       "<style scoped>\n",
       "    .dataframe tbody tr th:only-of-type {\n",
       "        vertical-align: middle;\n",
       "    }\n",
       "\n",
       "    .dataframe tbody tr th {\n",
       "        vertical-align: top;\n",
       "    }\n",
       "\n",
       "    .dataframe thead th {\n",
       "        text-align: right;\n",
       "    }\n",
       "</style>\n",
       "<table border=\"1\" class=\"dataframe\">\n",
       "  <thead>\n",
       "    <tr style=\"text-align: right;\">\n",
       "      <th></th>\n",
       "      <th>Cliente</th>\n",
       "      <th>%△Valoración Promedio \\n Tipo de Semana 0</th>\n",
       "      <th>%△Valoración Promedio \\n Tipo de Semana 1</th>\n",
       "      <th>%△Valoración Promedio \\n Tipo de Semana 2</th>\n",
       "      <th>%△Valoración Promedio \\n Tipo de Semana 3</th>\n",
       "      <th>%△Valoración Promedio \\n Tipo de Semana 4</th>\n",
       "      <th>Kilos Venta KG Promedio \\n Tipo de Semana 0</th>\n",
       "      <th>Kilos Venta KG Promedio \\n Tipo de Semana 1</th>\n",
       "      <th>Kilos Venta KG Promedio \\n Tipo de Semana 2</th>\n",
       "      <th>Kilos Venta KG Promedio \\n Tipo de Semana 3</th>\n",
       "      <th>...</th>\n",
       "      <th>Frecuency Actual del Cliente</th>\n",
       "      <th>Kilos Venta KG Promedio</th>\n",
       "      <th>Precio Promedio</th>\n",
       "      <th>Año Creación Promedio</th>\n",
       "      <th>Frecuencia Historica Promedio</th>\n",
       "      <th>Monetary Actual</th>\n",
       "      <th>Ticket Promedio Actual</th>\n",
       "      <th>Ticket std Actual</th>\n",
       "      <th>Ticket CV Actual</th>\n",
       "      <th>$F^{-1}$ Actual</th>\n",
       "    </tr>\n",
       "  </thead>\n",
       "  <tbody>\n",
       "    <tr>\n",
       "      <th>0</th>\n",
       "      <td>10003742</td>\n",
       "      <td>-0.0652580488718174</td>\n",
       "      <td>-0.0652580488718174</td>\n",
       "      <td>-0.0652580488718174</td>\n",
       "      <td>-0.0652580488718174</td>\n",
       "      <td>-0.0652580488718174</td>\n",
       "      <td>22.0</td>\n",
       "      <td>22.0</td>\n",
       "      <td>22.0</td>\n",
       "      <td>22.0</td>\n",
       "      <td>...</td>\n",
       "      <td>0.003344</td>\n",
       "      <td>22.000000</td>\n",
       "      <td>1300.000000</td>\n",
       "      <td>2007</td>\n",
       "      <td>19</td>\n",
       "      <td>28600.000000</td>\n",
       "      <td>22.000000</td>\n",
       "      <td>0.000000</td>\n",
       "      <td>0.000000</td>\n",
       "      <td>299.000000</td>\n",
       "    </tr>\n",
       "    <tr>\n",
       "      <th>1</th>\n",
       "      <td>10007508</td>\n",
       "      <td>-0.007185734905445153</td>\n",
       "      <td>0.018077218717184977</td>\n",
       "      <td>0.013714992109052858</td>\n",
       "      <td>0.02452918655320076</td>\n",
       "      <td>0.013855960433295756</td>\n",
       "      <td>89.87777777777778</td>\n",
       "      <td>96.475</td>\n",
       "      <td>95.56060606060606</td>\n",
       "      <td>90.2</td>\n",
       "      <td>...</td>\n",
       "      <td>0.201752</td>\n",
       "      <td>93.158654</td>\n",
       "      <td>1266.894231</td>\n",
       "      <td>2007</td>\n",
       "      <td>464</td>\n",
       "      <td>117683.471154</td>\n",
       "      <td>93.158654</td>\n",
       "      <td>36.215256</td>\n",
       "      <td>0.388748</td>\n",
       "      <td>4.956570</td>\n",
       "    </tr>\n",
       "    <tr>\n",
       "      <th>2</th>\n",
       "      <td>10017269</td>\n",
       "      <td>0.03046114456733656</td>\n",
       "      <td>0.019897886066589765</td>\n",
       "      <td>0.03147219540210185</td>\n",
       "      <td>0.0056993826680127755</td>\n",
       "      <td>0.0007512242388005607</td>\n",
       "      <td>21.941176470588236</td>\n",
       "      <td>22.263157894736842</td>\n",
       "      <td>22.0</td>\n",
       "      <td>22.0</td>\n",
       "      <td>...</td>\n",
       "      <td>0.059365</td>\n",
       "      <td>22.038462</td>\n",
       "      <td>1347.782051</td>\n",
       "      <td>2007</td>\n",
       "      <td>101</td>\n",
       "      <td>29699.448718</td>\n",
       "      <td>22.038462</td>\n",
       "      <td>0.612474</td>\n",
       "      <td>0.027791</td>\n",
       "      <td>16.845022</td>\n",
       "    </tr>\n",
       "    <tr>\n",
       "      <th>3</th>\n",
       "      <td>10023880</td>\n",
       "      <td>-0.030060387249354177</td>\n",
       "      <td>0.05214065915513532</td>\n",
       "      <td>0.02113362816776547</td>\n",
       "      <td>0.012619280144029242</td>\n",
       "      <td>0.007263220502570363</td>\n",
       "      <td>25.142857142857142</td>\n",
       "      <td>29.333333333333332</td>\n",
       "      <td>30.8</td>\n",
       "      <td>27.919047619047618</td>\n",
       "      <td>...</td>\n",
       "      <td>0.039591</td>\n",
       "      <td>27.500000</td>\n",
       "      <td>1400.000000</td>\n",
       "      <td>2007</td>\n",
       "      <td>383</td>\n",
       "      <td>38390.000000</td>\n",
       "      <td>27.500000</td>\n",
       "      <td>12.102631</td>\n",
       "      <td>0.440096</td>\n",
       "      <td>25.258465</td>\n",
       "    </tr>\n",
       "    <tr>\n",
       "      <th>4</th>\n",
       "      <td>10028999</td>\n",
       "      <td>-0.026308968642914484</td>\n",
       "      <td>-0.05027185123667554</td>\n",
       "      <td>0.01544649662663542</td>\n",
       "      <td>-0.07753219431426499</td>\n",
       "      <td>-0.0346666293918049</td>\n",
       "      <td>22.0</td>\n",
       "      <td>22.0</td>\n",
       "      <td>22.0</td>\n",
       "      <td>22.0</td>\n",
       "      <td>...</td>\n",
       "      <td>0.017541</td>\n",
       "      <td>22.000000</td>\n",
       "      <td>1320.923077</td>\n",
       "      <td>2007</td>\n",
       "      <td>62</td>\n",
       "      <td>29060.307692</td>\n",
       "      <td>22.000000</td>\n",
       "      <td>0.000000</td>\n",
       "      <td>0.000000</td>\n",
       "      <td>57.008334</td>\n",
       "    </tr>\n",
       "  </tbody>\n",
       "</table>\n",
       "<p>5 rows × 24 columns</p>\n",
       "</div>"
      ],
      "text/plain": [
       "    Cliente %△Valoración Promedio \\n Tipo de Semana 0  \\\n",
       "0  10003742                       -0.0652580488718174   \n",
       "1  10007508                     -0.007185734905445153   \n",
       "2  10017269                       0.03046114456733656   \n",
       "3  10023880                     -0.030060387249354177   \n",
       "4  10028999                     -0.026308968642914484   \n",
       "\n",
       "  %△Valoración Promedio \\n Tipo de Semana 1  \\\n",
       "0                       -0.0652580488718174   \n",
       "1                      0.018077218717184977   \n",
       "2                      0.019897886066589765   \n",
       "3                       0.05214065915513532   \n",
       "4                      -0.05027185123667554   \n",
       "\n",
       "  %△Valoración Promedio \\n Tipo de Semana 2  \\\n",
       "0                       -0.0652580488718174   \n",
       "1                      0.013714992109052858   \n",
       "2                       0.03147219540210185   \n",
       "3                       0.02113362816776547   \n",
       "4                       0.01544649662663542   \n",
       "\n",
       "  %△Valoración Promedio \\n Tipo de Semana 3  \\\n",
       "0                       -0.0652580488718174   \n",
       "1                       0.02452918655320076   \n",
       "2                     0.0056993826680127755   \n",
       "3                      0.012619280144029242   \n",
       "4                      -0.07753219431426499   \n",
       "\n",
       "  %△Valoración Promedio \\n Tipo de Semana 4  \\\n",
       "0                       -0.0652580488718174   \n",
       "1                      0.013855960433295756   \n",
       "2                     0.0007512242388005607   \n",
       "3                      0.007263220502570363   \n",
       "4                       -0.0346666293918049   \n",
       "\n",
       "  Kilos Venta KG Promedio \\n Tipo de Semana 0  \\\n",
       "0                                        22.0   \n",
       "1                           89.87777777777778   \n",
       "2                          21.941176470588236   \n",
       "3                          25.142857142857142   \n",
       "4                                        22.0   \n",
       "\n",
       "  Kilos Venta KG Promedio \\n Tipo de Semana 1  \\\n",
       "0                                        22.0   \n",
       "1                                      96.475   \n",
       "2                          22.263157894736842   \n",
       "3                          29.333333333333332   \n",
       "4                                        22.0   \n",
       "\n",
       "  Kilos Venta KG Promedio \\n Tipo de Semana 2  \\\n",
       "0                                        22.0   \n",
       "1                           95.56060606060606   \n",
       "2                                        22.0   \n",
       "3                                        30.8   \n",
       "4                                        22.0   \n",
       "\n",
       "  Kilos Venta KG Promedio \\n Tipo de Semana 3  ...  \\\n",
       "0                                        22.0  ...   \n",
       "1                                        90.2  ...   \n",
       "2                                        22.0  ...   \n",
       "3                          27.919047619047618  ...   \n",
       "4                                        22.0  ...   \n",
       "\n",
       "  Frecuency Actual del Cliente Kilos Venta KG Promedio  Precio Promedio  \\\n",
       "0                     0.003344               22.000000      1300.000000   \n",
       "1                     0.201752               93.158654      1266.894231   \n",
       "2                     0.059365               22.038462      1347.782051   \n",
       "3                     0.039591               27.500000      1400.000000   \n",
       "4                     0.017541               22.000000      1320.923077   \n",
       "\n",
       "  Año Creación Promedio  Frecuencia Historica Promedio  Monetary Actual  \\\n",
       "0                  2007                             19     28600.000000   \n",
       "1                  2007                            464    117683.471154   \n",
       "2                  2007                            101     29699.448718   \n",
       "3                  2007                            383     38390.000000   \n",
       "4                  2007                             62     29060.307692   \n",
       "\n",
       "   Ticket Promedio Actual  Ticket std Actual  Ticket CV Actual  \\\n",
       "0               22.000000           0.000000          0.000000   \n",
       "1               93.158654          36.215256          0.388748   \n",
       "2               22.038462           0.612474          0.027791   \n",
       "3               27.500000          12.102631          0.440096   \n",
       "4               22.000000           0.000000          0.000000   \n",
       "\n",
       "   $F^{-1}$ Actual  \n",
       "0       299.000000  \n",
       "1         4.956570  \n",
       "2        16.845022  \n",
       "3        25.258465  \n",
       "4        57.008334  \n",
       "\n",
       "[5 rows x 24 columns]"
      ]
     },
     "execution_count": 29,
     "metadata": {},
     "output_type": "execute_result"
    }
   ],
   "source": [
    "Clientes_i.head()"
   ]
  },
  {
   "cell_type": "markdown",
   "id": "e799242a",
   "metadata": {
    "heading_collapsed": true,
    "hidden": true
   },
   "source": [
    "### Data Week"
   ]
  },
  {
   "cell_type": "code",
   "execution_count": 30,
   "id": "786d41f1",
   "metadata": {
    "hidden": true
   },
   "outputs": [],
   "source": [
    "# file_direct_O+'Weeks_clusters_1010078_CT_2018_2021 Other val 2020_2021'+'.csv'"
   ]
  },
  {
   "cell_type": "markdown",
   "id": "f2b43350",
   "metadata": {
    "hidden": true
   },
   "source": [
    "##### Abrir "
   ]
  },
  {
   "cell_type": "code",
   "execution_count": 31,
   "id": "f7566d3c",
   "metadata": {
    "hidden": true,
    "scrolled": true
   },
   "outputs": [
    {
     "data": {
      "text/html": [
       "<div>\n",
       "<style scoped>\n",
       "    .dataframe tbody tr th:only-of-type {\n",
       "        vertical-align: middle;\n",
       "    }\n",
       "\n",
       "    .dataframe tbody tr th {\n",
       "        vertical-align: top;\n",
       "    }\n",
       "\n",
       "    .dataframe thead th {\n",
       "        text-align: right;\n",
       "    }\n",
       "</style>\n",
       "<table border=\"1\" class=\"dataframe\">\n",
       "  <thead>\n",
       "    <tr style=\"text-align: right;\">\n",
       "      <th></th>\n",
       "      <th>Variable</th>\n",
       "      <th>Atributo</th>\n",
       "      <th>Semana</th>\n",
       "      <th>Ingresos de Venta</th>\n",
       "      <th>Cant compras</th>\n",
       "      <th>Precio Promedio Ponderado CLP / KG</th>\n",
       "      <th>Ventas promedio Kg</th>\n",
       "      <th>Precio Promedio</th>\n",
       "      <th>Coef.</th>\n",
       "      <th>$e^{βi}$</th>\n",
       "      <th>$\\%\\triangle Y$</th>\n",
       "      <th>Tipo de Semana</th>\n",
       "    </tr>\n",
       "  </thead>\n",
       "  <tbody>\n",
       "    <tr>\n",
       "      <th>0</th>\n",
       "      <td>Semana_1</td>\n",
       "      <td>Semana</td>\n",
       "      <td>1</td>\n",
       "      <td>210715690</td>\n",
       "      <td>1688</td>\n",
       "      <td>1401.8833868896738</td>\n",
       "      <td>89.04561611374407</td>\n",
       "      <td>1486.5527251184835</td>\n",
       "      <td>0.0</td>\n",
       "      <td>1.0</td>\n",
       "      <td>0.0</td>\n",
       "      <td>3</td>\n",
       "    </tr>\n",
       "  </tbody>\n",
       "</table>\n",
       "</div>"
      ],
      "text/plain": [
       "   Variable Atributo Semana Ingresos de Venta Cant compras  \\\n",
       "0  Semana_1   Semana      1         210715690         1688   \n",
       "\n",
       "  Precio Promedio Ponderado CLP / KG Ventas promedio Kg     Precio Promedio  \\\n",
       "0                 1401.8833868896738  89.04561611374407  1486.5527251184835   \n",
       "\n",
       "  Coef. $e^{βi}$ $\\%\\triangle Y$ Tipo de Semana  \n",
       "0   0.0      1.0             0.0              3  "
      ]
     },
     "execution_count": 31,
     "metadata": {},
     "output_type": "execute_result"
    }
   ],
   "source": [
    "#======================================================================\n",
    "# Se Cargan los datos de ventas con las caracteristicas de los clientes\n",
    "#=====================================================================\n",
    "\n",
    "file_direct=\\\n",
    "file_direct_O+'Weeks_clusters_1010078_CT_2018_2021 Other val 2020_2021'+'.csv'\n",
    "\n",
    "col_names=pd.read_csv(file_direct,\n",
    "                      encoding=\"utf-8\",sep=\";\",nrows=0).columns\n",
    "\n",
    "types_dict = {col: str for col in list(col_names)}\n",
    "\n",
    "Df_Week= pd.read_csv(file_direct,\n",
    "                   encoding=\"utf-8\",sep=\";\",dtype=types_dict\n",
    "                      ,index_col='Unnamed: 0'\n",
    "                      )\n",
    "\n",
    "# Se debe agregar el parametro ,index_col='Unnamed: 0' \n",
    "# de esta froma tal vez se pueda hacer un merge en base al indice\n",
    "\n",
    "#elimina una columna en especifico\n",
    "#DF_FULL.drop('Año natural', inplace=True, axis=1)\n",
    "Df_Week.head(1)"
   ]
  },
  {
   "cell_type": "markdown",
   "id": "2a43f431",
   "metadata": {
    "heading_collapsed": true,
    "hidden": true
   },
   "source": [
    "## data con Week type "
   ]
  },
  {
   "cell_type": "code",
   "execution_count": 32,
   "id": "81288134",
   "metadata": {
    "hidden": true,
    "scrolled": true
   },
   "outputs": [
    {
     "data": {
      "text/plain": [
       "Semana            object\n",
       "Tipo de Semana    object\n",
       "dtype: object"
      ]
     },
     "execution_count": 32,
     "metadata": {},
     "output_type": "execute_result"
    }
   ],
   "source": [
    "Df_Week[['Semana','Tipo de Semana']].dtypes"
   ]
  },
  {
   "cell_type": "code",
   "execution_count": 33,
   "id": "81c8c506",
   "metadata": {
    "hidden": true
   },
   "outputs": [
    {
     "data": {
      "text/plain": [
       "Semana    object\n",
       "Año       object\n",
       "dtype: object"
      ]
     },
     "execution_count": 33,
     "metadata": {},
     "output_type": "execute_result"
    }
   ],
   "source": [
    "data_i_RFM[['Semana','Año']].dtypes"
   ]
  },
  {
   "cell_type": "code",
   "execution_count": 34,
   "id": "337742bc",
   "metadata": {
    "hidden": true
   },
   "outputs": [
    {
     "data": {
      "text/html": [
       "<div>\n",
       "<style scoped>\n",
       "    .dataframe tbody tr th:only-of-type {\n",
       "        vertical-align: middle;\n",
       "    }\n",
       "\n",
       "    .dataframe tbody tr th {\n",
       "        vertical-align: top;\n",
       "    }\n",
       "\n",
       "    .dataframe thead th {\n",
       "        text-align: right;\n",
       "    }\n",
       "</style>\n",
       "<table border=\"1\" class=\"dataframe\">\n",
       "  <thead>\n",
       "    <tr style=\"text-align: right;\">\n",
       "      <th></th>\n",
       "      <th>Semana</th>\n",
       "      <th>Tipo de Semana</th>\n",
       "      <th>Año</th>\n",
       "    </tr>\n",
       "  </thead>\n",
       "  <tbody>\n",
       "    <tr>\n",
       "      <th>0</th>\n",
       "      <td>1</td>\n",
       "      <td>3</td>\n",
       "      <td>2019</td>\n",
       "    </tr>\n",
       "    <tr>\n",
       "      <th>1</th>\n",
       "      <td>1</td>\n",
       "      <td>3</td>\n",
       "      <td>2019</td>\n",
       "    </tr>\n",
       "    <tr>\n",
       "      <th>2</th>\n",
       "      <td>1</td>\n",
       "      <td>3</td>\n",
       "      <td>2019</td>\n",
       "    </tr>\n",
       "    <tr>\n",
       "      <th>3</th>\n",
       "      <td>1</td>\n",
       "      <td>3</td>\n",
       "      <td>2020</td>\n",
       "    </tr>\n",
       "    <tr>\n",
       "      <th>4</th>\n",
       "      <td>1</td>\n",
       "      <td>3</td>\n",
       "      <td>2019</td>\n",
       "    </tr>\n",
       "    <tr>\n",
       "      <th>...</th>\n",
       "      <td>...</td>\n",
       "      <td>...</td>\n",
       "      <td>...</td>\n",
       "    </tr>\n",
       "    <tr>\n",
       "      <th>198591</th>\n",
       "      <td>53</td>\n",
       "      <td>4</td>\n",
       "      <td>2020</td>\n",
       "    </tr>\n",
       "    <tr>\n",
       "      <th>198592</th>\n",
       "      <td>53</td>\n",
       "      <td>4</td>\n",
       "      <td>2020</td>\n",
       "    </tr>\n",
       "    <tr>\n",
       "      <th>198593</th>\n",
       "      <td>53</td>\n",
       "      <td>4</td>\n",
       "      <td>2020</td>\n",
       "    </tr>\n",
       "    <tr>\n",
       "      <th>198594</th>\n",
       "      <td>53</td>\n",
       "      <td>4</td>\n",
       "      <td>2020</td>\n",
       "    </tr>\n",
       "    <tr>\n",
       "      <th>198595</th>\n",
       "      <td>53</td>\n",
       "      <td>4</td>\n",
       "      <td>2020</td>\n",
       "    </tr>\n",
       "  </tbody>\n",
       "</table>\n",
       "<p>198596 rows × 3 columns</p>\n",
       "</div>"
      ],
      "text/plain": [
       "       Semana Tipo de Semana   Año\n",
       "0           1              3  2019\n",
       "1           1              3  2019\n",
       "2           1              3  2019\n",
       "3           1              3  2020\n",
       "4           1              3  2019\n",
       "...       ...            ...   ...\n",
       "198591     53              4  2020\n",
       "198592     53              4  2020\n",
       "198593     53              4  2020\n",
       "198594     53              4  2020\n",
       "198595     53              4  2020\n",
       "\n",
       "[198596 rows x 3 columns]"
      ]
     },
     "execution_count": 34,
     "metadata": {},
     "output_type": "execute_result"
    }
   ],
   "source": [
    "pd.merge(\n",
    "Df_Week[['Semana','Tipo de Semana']]\n",
    ",data_i_RFM[['Semana','Año']]\n",
    ")"
   ]
  },
  {
   "cell_type": "markdown",
   "id": "b717509e",
   "metadata": {},
   "source": [
    "# Data solo RFM  \n",
    "\n",
    "`RFM_Customers`"
   ]
  },
  {
   "cell_type": "markdown",
   "id": "483ccc77",
   "metadata": {},
   "source": [
    "Descripción\n",
    "\n",
    "__Primera segmentación a sobre R__\n",
    ">Thus, a customer is Active if he has purchased in recent 90 days; he is Lapsing if his last purchase is between 90 and 360 days and he is Lapsed if he has not purchased in recent 365 days"
   ]
  },
  {
   "cell_type": "markdown",
   "id": "cb4aac4a",
   "metadata": {
    "heading_collapsed": true
   },
   "source": [
    "##### Extracto publicación "
   ]
  },
  {
   "cell_type": "markdown",
   "id": "f85cac33",
   "metadata": {
    "heading_collapsed": true,
    "hidden": true
   },
   "source": [
    "###### __Combinación lineal entre Frequency y Monetary__\n",
    "$(F \\times W_F + M \\times W_M)$\n"
   ]
  },
  {
   "cell_type": "markdown",
   "id": "fc33edd3",
   "metadata": {
    "hidden": true
   },
   "source": [
    "$\n",
    "(F \\times W_F + M \\times W_M)\n",
    "$\n",
    "\n",
    "Se probó diferentes combinaciones de $W_F$ y $W_M$\n",
    "\n",
    "\n",
    "__Finding the best Weights for the feature of (F × WF + M × WM):__ \n",
    ">In order to find the best values for WF and WM, we checked the values from 0 to 10 with step size of 0.1 for each of the Frequency and Monetary and tried to select the best values according to the result of clustering. In this process, we found 3 general clustering shapes and Fig. 2 shows them with their weights for the Active segment. We will show the selected segmentation model in the following part.\n",
    "4)\n",
    ">>Para encontrar los mejores valores para WF y WM, verificamos los valores de 0 a 10 con un tamaño de paso de 0.1 para cada Frecuencia y Monetario e intentamos seleccionar los mejores valores de acuerdo con el resultado de la agrupación. En este proceso, encontramos 3 formas generales de agrupamiento y la Fig. 2 las muestra con sus pesos para el segmento Activo. Mostraremos el modelo de segmentación seleccionado en la siguiente parte. 4)\n"
   ]
  },
  {
   "cell_type": "markdown",
   "id": "e53ca11d",
   "metadata": {
    "heading_collapsed": true,
    "hidden": true
   },
   "source": [
    "###### __Finding the best Number of Segments (best K for K-Means):__"
   ]
  },
  {
   "cell_type": "markdown",
   "id": "a7297024",
   "metadata": {
    "hidden": true
   },
   "source": [
    "\n",
    "\n",
    "\n",
    ">We use K-Means, as one the most applied clustering method, in order to find the best segments for our customers. For finding the best K for our K-Means model, we hold several meetings with project managers and marketing team. According to the meetings, we understood that E-Commerce companies need 3 segments of High-Value, Medium-Value and Low-Value based on the loyalty of their customers. Moreover, they need to be able to find the difference between the Medium-Value users who have high Frequency and low Monetary with the users who have low Frequency and high Monetary. Accordingly, we decided to have 4 segments of High Value, Medium Value with High Monetary (cusotmers with high Monetary but low Frequency), Medium Value with High Frequency (cusotmers with low Monetary but high Frequency) and Low-Value for our Active customers. Since the difference between the two segments of Medium Value with High Monetary and Medium Value with High Frequency is not useful for the users who have not purchased recently, we have 3 segments of High Value, Medium Value and Low Value for the Lapsing and Lapsed Customers. The reason is that the goal for the Lapsing segment is avoiding them from being churned and the goal for the Lapsed segment is encouraging them to return and there is no meaningful difference between Medium High Monetary and Medium High Frequency. As a result, we need only one segment for our Medium Value customers in Lapasing and Lapsed Segments.\n",
    ">>Utilizamos K-Means, como uno de los métodos de agrupación más aplicados, para encontrar los mejores segmentos para nuestros clientes. \n",
    "\n",
    ">>Para encontrar la mejor K para nuestro modelo K-Means, llevamos a cabo varias reuniones con los gerentes de proyecto y el equipo de marketing. Según las reuniones, entendimos que las empresas de comercio electrónico necesitan 3 segmentos de valor alto, valor medio y valor bajo en función de la lealtad de sus clientes. \n",
    "\n",
    ">>Además, deben poder encontrar la diferencia entre los usuarios de valor medio que tienen alta frecuencia y bajo valor monetario con los usuarios que tienen baja frecuencia y alto valor monetario. \n",
    "\n",
    ">>En consecuencia, decidimos tener 4 segmentos de Alto Valor, Valor Medio con Alta Monetaria (clientes con alta Monetaria pero baja Frecuencia), Valor Medio con Alta Frecuencia (clientes con baja Monetaria pero alta Frecuencia) y Bajo Valor para nuestros clientes Activos. Dado que la diferencia entre los dos segmentos de valor medio con alto valor monetario y valor medio con alta frecuencia no es útil para los usuarios que no han comprado recientemente, tenemos 3 segmentos de valor alto, valor medio y valor bajo para los clientes vencidos y vencidos. . La razón es que el objetivo del segmento Caducado es evitar que se abandonen y el objetivo del segmento Caducado es alentarlos a regresar y no hay una diferencia significativa entre Monetario medio alto y Frecuencia media alta. Como resultado, solo necesitamos un segmento para nuestros clientes de valor medio en los segmentos vencidos y vencidos."
   ]
  },
  {
   "cell_type": "markdown",
   "id": "3453a871",
   "metadata": {},
   "source": [
    "## Datos y columnas "
   ]
  },
  {
   "cell_type": "markdown",
   "id": "2fa931e6",
   "metadata": {
    "heading_collapsed": true
   },
   "source": [
    "### Columnas y Data\n",
    "\n",
    "\n",
    "Se toma el data frame `Clientes_i` seleccionado las columnas RFM custom mas id cliente\n",
    "y se guarda en `RFM_Customers`\n",
    "\n",
    "`RFM_Customers=Clientes_i_RFM[['Cliente']+Dic_col['RFM Customers']].copy()`"
   ]
  },
  {
   "cell_type": "markdown",
   "id": "998ad3b9",
   "metadata": {
    "hidden": true
   },
   "source": [
    "##### Columnas "
   ]
  },
  {
   "cell_type": "markdown",
   "id": "4cd1c242",
   "metadata": {
    "heading_collapsed": true,
    "hidden": true
   },
   "source": [
    "###### Data clientes"
   ]
  },
  {
   "cell_type": "code",
   "execution_count": 35,
   "id": "0f435ddc",
   "metadata": {
    "hidden": true
   },
   "outputs": [
    {
     "data": {
      "text/html": [
       "<div>\n",
       "<style scoped>\n",
       "    .dataframe tbody tr th:only-of-type {\n",
       "        vertical-align: middle;\n",
       "    }\n",
       "\n",
       "    .dataframe tbody tr th {\n",
       "        vertical-align: top;\n",
       "    }\n",
       "\n",
       "    .dataframe thead th {\n",
       "        text-align: right;\n",
       "    }\n",
       "</style>\n",
       "<table border=\"1\" class=\"dataframe\">\n",
       "  <thead>\n",
       "    <tr style=\"text-align: right;\">\n",
       "      <th></th>\n",
       "      <th>Cliente</th>\n",
       "      <th>%△Valoración Promedio \\n Tipo de Semana 0</th>\n",
       "      <th>%△Valoración Promedio \\n Tipo de Semana 1</th>\n",
       "      <th>%△Valoración Promedio \\n Tipo de Semana 2</th>\n",
       "      <th>%△Valoración Promedio \\n Tipo de Semana 3</th>\n",
       "      <th>%△Valoración Promedio \\n Tipo de Semana 4</th>\n",
       "      <th>Kilos Venta KG Promedio \\n Tipo de Semana 0</th>\n",
       "      <th>Kilos Venta KG Promedio \\n Tipo de Semana 1</th>\n",
       "      <th>Kilos Venta KG Promedio \\n Tipo de Semana 2</th>\n",
       "      <th>Kilos Venta KG Promedio \\n Tipo de Semana 3</th>\n",
       "      <th>...</th>\n",
       "      <th>Frecuency Actual del Cliente</th>\n",
       "      <th>Kilos Venta KG Promedio</th>\n",
       "      <th>Precio Promedio</th>\n",
       "      <th>Año Creación Promedio</th>\n",
       "      <th>Frecuencia Historica Promedio</th>\n",
       "      <th>Monetary Actual</th>\n",
       "      <th>Ticket Promedio Actual</th>\n",
       "      <th>Ticket std Actual</th>\n",
       "      <th>Ticket CV Actual</th>\n",
       "      <th>$F^{-1}$ Actual</th>\n",
       "    </tr>\n",
       "  </thead>\n",
       "  <tbody>\n",
       "    <tr>\n",
       "      <th>0</th>\n",
       "      <td>10003742</td>\n",
       "      <td>-0.0652580488718174</td>\n",
       "      <td>-0.0652580488718174</td>\n",
       "      <td>-0.0652580488718174</td>\n",
       "      <td>-0.0652580488718174</td>\n",
       "      <td>-0.0652580488718174</td>\n",
       "      <td>22.0</td>\n",
       "      <td>22.0</td>\n",
       "      <td>22.0</td>\n",
       "      <td>22.0</td>\n",
       "      <td>...</td>\n",
       "      <td>0.003344</td>\n",
       "      <td>22.000000</td>\n",
       "      <td>1300.000000</td>\n",
       "      <td>2007</td>\n",
       "      <td>19</td>\n",
       "      <td>28600.000000</td>\n",
       "      <td>22.000000</td>\n",
       "      <td>0.000000</td>\n",
       "      <td>0.000000</td>\n",
       "      <td>299.000000</td>\n",
       "    </tr>\n",
       "    <tr>\n",
       "      <th>1</th>\n",
       "      <td>10007508</td>\n",
       "      <td>-0.007185734905445153</td>\n",
       "      <td>0.018077218717184977</td>\n",
       "      <td>0.013714992109052858</td>\n",
       "      <td>0.02452918655320076</td>\n",
       "      <td>0.013855960433295756</td>\n",
       "      <td>89.87777777777778</td>\n",
       "      <td>96.475</td>\n",
       "      <td>95.56060606060606</td>\n",
       "      <td>90.2</td>\n",
       "      <td>...</td>\n",
       "      <td>0.201752</td>\n",
       "      <td>93.158654</td>\n",
       "      <td>1266.894231</td>\n",
       "      <td>2007</td>\n",
       "      <td>464</td>\n",
       "      <td>117683.471154</td>\n",
       "      <td>93.158654</td>\n",
       "      <td>36.215256</td>\n",
       "      <td>0.388748</td>\n",
       "      <td>4.956570</td>\n",
       "    </tr>\n",
       "    <tr>\n",
       "      <th>2</th>\n",
       "      <td>10017269</td>\n",
       "      <td>0.03046114456733656</td>\n",
       "      <td>0.019897886066589765</td>\n",
       "      <td>0.03147219540210185</td>\n",
       "      <td>0.0056993826680127755</td>\n",
       "      <td>0.0007512242388005607</td>\n",
       "      <td>21.941176470588236</td>\n",
       "      <td>22.263157894736842</td>\n",
       "      <td>22.0</td>\n",
       "      <td>22.0</td>\n",
       "      <td>...</td>\n",
       "      <td>0.059365</td>\n",
       "      <td>22.038462</td>\n",
       "      <td>1347.782051</td>\n",
       "      <td>2007</td>\n",
       "      <td>101</td>\n",
       "      <td>29699.448718</td>\n",
       "      <td>22.038462</td>\n",
       "      <td>0.612474</td>\n",
       "      <td>0.027791</td>\n",
       "      <td>16.845022</td>\n",
       "    </tr>\n",
       "    <tr>\n",
       "      <th>3</th>\n",
       "      <td>10023880</td>\n",
       "      <td>-0.030060387249354177</td>\n",
       "      <td>0.05214065915513532</td>\n",
       "      <td>0.02113362816776547</td>\n",
       "      <td>0.012619280144029242</td>\n",
       "      <td>0.007263220502570363</td>\n",
       "      <td>25.142857142857142</td>\n",
       "      <td>29.333333333333332</td>\n",
       "      <td>30.8</td>\n",
       "      <td>27.919047619047618</td>\n",
       "      <td>...</td>\n",
       "      <td>0.039591</td>\n",
       "      <td>27.500000</td>\n",
       "      <td>1400.000000</td>\n",
       "      <td>2007</td>\n",
       "      <td>383</td>\n",
       "      <td>38390.000000</td>\n",
       "      <td>27.500000</td>\n",
       "      <td>12.102631</td>\n",
       "      <td>0.440096</td>\n",
       "      <td>25.258465</td>\n",
       "    </tr>\n",
       "    <tr>\n",
       "      <th>4</th>\n",
       "      <td>10028999</td>\n",
       "      <td>-0.026308968642914484</td>\n",
       "      <td>-0.05027185123667554</td>\n",
       "      <td>0.01544649662663542</td>\n",
       "      <td>-0.07753219431426499</td>\n",
       "      <td>-0.0346666293918049</td>\n",
       "      <td>22.0</td>\n",
       "      <td>22.0</td>\n",
       "      <td>22.0</td>\n",
       "      <td>22.0</td>\n",
       "      <td>...</td>\n",
       "      <td>0.017541</td>\n",
       "      <td>22.000000</td>\n",
       "      <td>1320.923077</td>\n",
       "      <td>2007</td>\n",
       "      <td>62</td>\n",
       "      <td>29060.307692</td>\n",
       "      <td>22.000000</td>\n",
       "      <td>0.000000</td>\n",
       "      <td>0.000000</td>\n",
       "      <td>57.008334</td>\n",
       "    </tr>\n",
       "  </tbody>\n",
       "</table>\n",
       "<p>5 rows × 24 columns</p>\n",
       "</div>"
      ],
      "text/plain": [
       "    Cliente %△Valoración Promedio \\n Tipo de Semana 0  \\\n",
       "0  10003742                       -0.0652580488718174   \n",
       "1  10007508                     -0.007185734905445153   \n",
       "2  10017269                       0.03046114456733656   \n",
       "3  10023880                     -0.030060387249354177   \n",
       "4  10028999                     -0.026308968642914484   \n",
       "\n",
       "  %△Valoración Promedio \\n Tipo de Semana 1  \\\n",
       "0                       -0.0652580488718174   \n",
       "1                      0.018077218717184977   \n",
       "2                      0.019897886066589765   \n",
       "3                       0.05214065915513532   \n",
       "4                      -0.05027185123667554   \n",
       "\n",
       "  %△Valoración Promedio \\n Tipo de Semana 2  \\\n",
       "0                       -0.0652580488718174   \n",
       "1                      0.013714992109052858   \n",
       "2                       0.03147219540210185   \n",
       "3                       0.02113362816776547   \n",
       "4                       0.01544649662663542   \n",
       "\n",
       "  %△Valoración Promedio \\n Tipo de Semana 3  \\\n",
       "0                       -0.0652580488718174   \n",
       "1                       0.02452918655320076   \n",
       "2                     0.0056993826680127755   \n",
       "3                      0.012619280144029242   \n",
       "4                      -0.07753219431426499   \n",
       "\n",
       "  %△Valoración Promedio \\n Tipo de Semana 4  \\\n",
       "0                       -0.0652580488718174   \n",
       "1                      0.013855960433295756   \n",
       "2                     0.0007512242388005607   \n",
       "3                      0.007263220502570363   \n",
       "4                       -0.0346666293918049   \n",
       "\n",
       "  Kilos Venta KG Promedio \\n Tipo de Semana 0  \\\n",
       "0                                        22.0   \n",
       "1                           89.87777777777778   \n",
       "2                          21.941176470588236   \n",
       "3                          25.142857142857142   \n",
       "4                                        22.0   \n",
       "\n",
       "  Kilos Venta KG Promedio \\n Tipo de Semana 1  \\\n",
       "0                                        22.0   \n",
       "1                                      96.475   \n",
       "2                          22.263157894736842   \n",
       "3                          29.333333333333332   \n",
       "4                                        22.0   \n",
       "\n",
       "  Kilos Venta KG Promedio \\n Tipo de Semana 2  \\\n",
       "0                                        22.0   \n",
       "1                           95.56060606060606   \n",
       "2                                        22.0   \n",
       "3                                        30.8   \n",
       "4                                        22.0   \n",
       "\n",
       "  Kilos Venta KG Promedio \\n Tipo de Semana 3  ...  \\\n",
       "0                                        22.0  ...   \n",
       "1                                        90.2  ...   \n",
       "2                                        22.0  ...   \n",
       "3                          27.919047619047618  ...   \n",
       "4                                        22.0  ...   \n",
       "\n",
       "  Frecuency Actual del Cliente Kilos Venta KG Promedio  Precio Promedio  \\\n",
       "0                     0.003344               22.000000      1300.000000   \n",
       "1                     0.201752               93.158654      1266.894231   \n",
       "2                     0.059365               22.038462      1347.782051   \n",
       "3                     0.039591               27.500000      1400.000000   \n",
       "4                     0.017541               22.000000      1320.923077   \n",
       "\n",
       "  Año Creación Promedio  Frecuencia Historica Promedio  Monetary Actual  \\\n",
       "0                  2007                             19     28600.000000   \n",
       "1                  2007                            464    117683.471154   \n",
       "2                  2007                            101     29699.448718   \n",
       "3                  2007                            383     38390.000000   \n",
       "4                  2007                             62     29060.307692   \n",
       "\n",
       "   Ticket Promedio Actual  Ticket std Actual  Ticket CV Actual  \\\n",
       "0               22.000000           0.000000          0.000000   \n",
       "1               93.158654          36.215256          0.388748   \n",
       "2               22.038462           0.612474          0.027791   \n",
       "3               27.500000          12.102631          0.440096   \n",
       "4               22.000000           0.000000          0.000000   \n",
       "\n",
       "   $F^{-1}$ Actual  \n",
       "0       299.000000  \n",
       "1         4.956570  \n",
       "2        16.845022  \n",
       "3        25.258465  \n",
       "4        57.008334  \n",
       "\n",
       "[5 rows x 24 columns]"
      ]
     },
     "execution_count": 35,
     "metadata": {},
     "output_type": "execute_result"
    }
   ],
   "source": [
    "Clientes_i.head()"
   ]
  },
  {
   "cell_type": "markdown",
   "id": "c4d23b3c",
   "metadata": {
    "heading_collapsed": true,
    "hidden": true
   },
   "source": [
    "###### Columnas RFM\n",
    "\n",
    "`Clientes_i_RFM[['Cliente']+Dic_col['RFM Customers']]`"
   ]
  },
  {
   "cell_type": "code",
   "execution_count": 36,
   "id": "6e6f5988",
   "metadata": {
    "hidden": true
   },
   "outputs": [
    {
     "data": {
      "text/html": [
       "<div>\n",
       "<style scoped>\n",
       "    .dataframe tbody tr th:only-of-type {\n",
       "        vertical-align: middle;\n",
       "    }\n",
       "\n",
       "    .dataframe tbody tr th {\n",
       "        vertical-align: top;\n",
       "    }\n",
       "\n",
       "    .dataframe thead th {\n",
       "        text-align: right;\n",
       "    }\n",
       "</style>\n",
       "<table border=\"1\" class=\"dataframe\">\n",
       "  <thead>\n",
       "    <tr style=\"text-align: right;\">\n",
       "      <th></th>\n",
       "      <th>Cliente</th>\n",
       "      <th>Recency Actual</th>\n",
       "      <th>Frecuency Actual del Cliente</th>\n",
       "      <th>Monetary Actual</th>\n",
       "    </tr>\n",
       "  </thead>\n",
       "  <tbody>\n",
       "    <tr>\n",
       "      <th>0</th>\n",
       "      <td>10003742</td>\n",
       "      <td>521</td>\n",
       "      <td>0.003344</td>\n",
       "      <td>28600.000000</td>\n",
       "    </tr>\n",
       "    <tr>\n",
       "      <th>1</th>\n",
       "      <td>10007508</td>\n",
       "      <td>0</td>\n",
       "      <td>0.201752</td>\n",
       "      <td>117683.471154</td>\n",
       "    </tr>\n",
       "    <tr>\n",
       "      <th>2</th>\n",
       "      <td>10017269</td>\n",
       "      <td>3</td>\n",
       "      <td>0.059365</td>\n",
       "      <td>29699.448718</td>\n",
       "    </tr>\n",
       "    <tr>\n",
       "      <th>3</th>\n",
       "      <td>10023880</td>\n",
       "      <td>47</td>\n",
       "      <td>0.039591</td>\n",
       "      <td>38390.000000</td>\n",
       "    </tr>\n",
       "    <tr>\n",
       "      <th>4</th>\n",
       "      <td>10028999</td>\n",
       "      <td>32</td>\n",
       "      <td>0.017541</td>\n",
       "      <td>29060.307692</td>\n",
       "    </tr>\n",
       "    <tr>\n",
       "      <th>...</th>\n",
       "      <td>...</td>\n",
       "      <td>...</td>\n",
       "      <td>...</td>\n",
       "      <td>...</td>\n",
       "    </tr>\n",
       "    <tr>\n",
       "      <th>5068</th>\n",
       "      <td>9992154</td>\n",
       "      <td>69</td>\n",
       "      <td>0.056885</td>\n",
       "      <td>46135.600000</td>\n",
       "    </tr>\n",
       "    <tr>\n",
       "      <th>5069</th>\n",
       "      <td>9993925</td>\n",
       "      <td>0</td>\n",
       "      <td>0.408158</td>\n",
       "      <td>200374.351750</td>\n",
       "    </tr>\n",
       "    <tr>\n",
       "      <th>5070</th>\n",
       "      <td>9994662</td>\n",
       "      <td>12</td>\n",
       "      <td>0.015996</td>\n",
       "      <td>28700.000000</td>\n",
       "    </tr>\n",
       "    <tr>\n",
       "      <th>5071</th>\n",
       "      <td>9994800</td>\n",
       "      <td>118</td>\n",
       "      <td>0.025931</td>\n",
       "      <td>27060.000000</td>\n",
       "    </tr>\n",
       "    <tr>\n",
       "      <th>5072</th>\n",
       "      <td>9997223</td>\n",
       "      <td>465</td>\n",
       "      <td>0.003344</td>\n",
       "      <td>23980.000000</td>\n",
       "    </tr>\n",
       "  </tbody>\n",
       "</table>\n",
       "<p>5073 rows × 4 columns</p>\n",
       "</div>"
      ],
      "text/plain": [
       "       Cliente  Recency Actual  Frecuency Actual del Cliente  Monetary Actual\n",
       "0     10003742             521                      0.003344     28600.000000\n",
       "1     10007508               0                      0.201752    117683.471154\n",
       "2     10017269               3                      0.059365     29699.448718\n",
       "3     10023880              47                      0.039591     38390.000000\n",
       "4     10028999              32                      0.017541     29060.307692\n",
       "...        ...             ...                           ...              ...\n",
       "5068   9992154              69                      0.056885     46135.600000\n",
       "5069   9993925               0                      0.408158    200374.351750\n",
       "5070   9994662              12                      0.015996     28700.000000\n",
       "5071   9994800             118                      0.025931     27060.000000\n",
       "5072   9997223             465                      0.003344     23980.000000\n",
       "\n",
       "[5073 rows x 4 columns]"
      ]
     },
     "execution_count": 36,
     "metadata": {},
     "output_type": "execute_result"
    }
   ],
   "source": [
    "Clientes_i_RFM[['Cliente']+Dic_col['RFM Customers']]"
   ]
  },
  {
   "cell_type": "markdown",
   "id": "617eb564",
   "metadata": {
    "heading_collapsed": true,
    "hidden": true
   },
   "source": [
    "##### Copia especifica\n",
    "\n",
    "Se copia  \n",
    "`RFM_Customers=Clientes_i_RFM[['Cliente']+Dic_col['RFM Customers']].copy()`"
   ]
  },
  {
   "cell_type": "code",
   "execution_count": 166,
   "id": "5c5cfcf0",
   "metadata": {
    "hidden": true
   },
   "outputs": [],
   "source": [
    "RFM_Customers=Clientes_i_RFM[['Cliente']+Dic_col['RFM Customers']].copy()"
   ]
  },
  {
   "cell_type": "markdown",
   "id": "9ecc0c28",
   "metadata": {
    "heading_collapsed": true
   },
   "source": [
    "### Recency to Actividad del cliente\n",
    "Se contruye una columna con el atributo estado de actividad del cliente.\n",
    "Estado_R(x), aplicado a RFM_custo"
   ]
  },
  {
   "cell_type": "markdown",
   "id": "896cad3a",
   "metadata": {
    "heading_collapsed": true,
    "hidden": true
   },
   "source": [
    "###### Función crea atributo Actividad del cliente \n",
    "\n",
    "- `Estado_R(x):` función de apply\n",
    "- `DF_Estado_R(DF):` Función modifica recency"
   ]
  },
  {
   "cell_type": "code",
   "execution_count": 167,
   "id": "a3ca9d91",
   "metadata": {
    "hidden": true
   },
   "outputs": [
    {
     "data": {
      "text/html": [
       "<div>\n",
       "<style scoped>\n",
       "    .dataframe tbody tr th:only-of-type {\n",
       "        vertical-align: middle;\n",
       "    }\n",
       "\n",
       "    .dataframe tbody tr th {\n",
       "        vertical-align: top;\n",
       "    }\n",
       "\n",
       "    .dataframe thead th {\n",
       "        text-align: right;\n",
       "    }\n",
       "</style>\n",
       "<table border=\"1\" class=\"dataframe\">\n",
       "  <thead>\n",
       "    <tr style=\"text-align: right;\">\n",
       "      <th></th>\n",
       "      <th>Cliente</th>\n",
       "      <th>Recency Actual</th>\n",
       "      <th>Frecuency Actual del Cliente</th>\n",
       "      <th>Monetary Actual</th>\n",
       "      <th>Actividad del cliente</th>\n",
       "    </tr>\n",
       "  </thead>\n",
       "  <tbody>\n",
       "    <tr>\n",
       "      <th>0</th>\n",
       "      <td>10003742</td>\n",
       "      <td>521</td>\n",
       "      <td>0.003344</td>\n",
       "      <td>28600.000000</td>\n",
       "      <td>Fugado</td>\n",
       "    </tr>\n",
       "    <tr>\n",
       "      <th>1</th>\n",
       "      <td>10007508</td>\n",
       "      <td>0</td>\n",
       "      <td>0.201752</td>\n",
       "      <td>117683.471154</td>\n",
       "      <td>Activo</td>\n",
       "    </tr>\n",
       "    <tr>\n",
       "      <th>2</th>\n",
       "      <td>10017269</td>\n",
       "      <td>3</td>\n",
       "      <td>0.059365</td>\n",
       "      <td>29699.448718</td>\n",
       "      <td>Activo</td>\n",
       "    </tr>\n",
       "    <tr>\n",
       "      <th>3</th>\n",
       "      <td>10023880</td>\n",
       "      <td>47</td>\n",
       "      <td>0.039591</td>\n",
       "      <td>38390.000000</td>\n",
       "      <td>Activo</td>\n",
       "    </tr>\n",
       "    <tr>\n",
       "      <th>4</th>\n",
       "      <td>10028999</td>\n",
       "      <td>32</td>\n",
       "      <td>0.017541</td>\n",
       "      <td>29060.307692</td>\n",
       "      <td>Activo</td>\n",
       "    </tr>\n",
       "  </tbody>\n",
       "</table>\n",
       "</div>"
      ],
      "text/plain": [
       "    Cliente  Recency Actual  Frecuency Actual del Cliente  Monetary Actual  \\\n",
       "0  10003742             521                      0.003344     28600.000000   \n",
       "1  10007508               0                      0.201752    117683.471154   \n",
       "2  10017269               3                      0.059365     29699.448718   \n",
       "3  10023880              47                      0.039591     38390.000000   \n",
       "4  10028999              32                      0.017541     29060.307692   \n",
       "\n",
       "  Actividad del cliente  \n",
       "0                Fugado  \n",
       "1                Activo  \n",
       "2                Activo  \n",
       "3                Activo  \n",
       "4                Activo  "
      ]
     },
     "execution_count": 167,
     "metadata": {},
     "output_type": "execute_result"
    }
   ],
   "source": [
    "def Estado_R(x):\n",
    "    \"\"\"\n",
    "    Cortes 0-89|90-364|365-\n",
    "    Uso:\n",
    "    RFM_Customers['Actividad del cliente']=\\\n",
    "    RFM_Customers['Recency Actual'].apply(lambda r: Estado_R(r)  )\n",
    "    \n",
    "    O por DF_Estado_R(DF)\n",
    "    \"\"\"\n",
    "    if(x<90):\n",
    "        return('Activo')\n",
    "    elif(90<=x<365):\n",
    "        return('Fugandose')\n",
    "    else:\n",
    "        return('Fugado')\n",
    "    \n",
    "def DF_Estado_R(DF):\n",
    "    \"\"\"\n",
    "    Cortes 0-89|90-364|365-\n",
    "    Uso: Estado_R\n",
    "        \"\"\"\n",
    "    DF['Actividad del cliente']=\\\n",
    "    DF['Recency Actual'].apply(lambda r: Estado_R(r) )\n",
    "    return(DF)\n",
    "\n",
    "DF_Estado_R(RFM_Customers)\n",
    "RFM_Customers.head()"
   ]
  },
  {
   "cell_type": "markdown",
   "id": "b1c7e656",
   "metadata": {
    "heading_collapsed": true,
    "hidden": true
   },
   "source": [
    "###### Resultado"
   ]
  },
  {
   "cell_type": "code",
   "execution_count": 168,
   "id": "000539c0",
   "metadata": {
    "hidden": true
   },
   "outputs": [
    {
     "data": {
      "text/plain": [
       "<AxesSubplot:>"
      ]
     },
     "execution_count": 168,
     "metadata": {},
     "output_type": "execute_result"
    },
    {
     "data": {
      "image/png": "[encoded data removed]",
      "text/plain": [
       "<Figure size 432x288 with 1 Axes>"
      ]
     },
     "metadata": {
      "needs_background": "light"
     },
     "output_type": "display_data"
    }
   ],
   "source": [
    "RFM_Customers['Actividad del cliente'].hist()"
   ]
  },
  {
   "cell_type": "markdown",
   "id": "53d65c3b",
   "metadata": {},
   "source": [
    "## Funciones de ajuste de RFM "
   ]
  },
  {
   "cell_type": "markdown",
   "id": "b1768162",
   "metadata": {
    "heading_collapsed": true
   },
   "source": [
    "### Función estandariza ciertas columnas a Min_Max \n",
    "\n",
    "`data_Min_Max(dx,Min_Max_col,drop_columns)`"
   ]
  },
  {
   "cell_type": "code",
   "execution_count": 175,
   "id": "76cdf45a",
   "metadata": {
    "hidden": true
   },
   "outputs": [
    {
     "data": {
      "text/plain": [
       "1369"
      ]
     },
     "execution_count": 175,
     "metadata": {},
     "output_type": "execute_result"
    }
   ],
   "source": [
    "RFM_Customers[Dic_col['RFM Customers'][0]].max()"
   ]
  },
  {
   "cell_type": "code",
   "execution_count": 207,
   "id": "3c877b44",
   "metadata": {
    "hidden": true
   },
   "outputs": [],
   "source": [
    "# ['Frecuency Actual del Cliente','Monetary Actual']\n",
    "def data_Min_Max(dx,Min_Max_col,drop_columns):\n",
    "    \"\"\"\n",
    "    Pasa un listado de columnas a Ln\n",
    "    \n",
    "        dx: dataframe\n",
    "        ln_col: (Array) Listado de columnas a escalar \n",
    "        drop_columns: (True or False)  Eliminar columnas del listado\n",
    "    \"\"\"\n",
    "    df_x=dx.copy()\n",
    "    for s in Min_Max_col:\n",
    "        if(s in df_x.columns):\n",
    "            Min_df_s=df_x[s].min()\n",
    "            Max_df_s=df_x[s].max()\n",
    "            df_x[s + ' (Escala Min Max)']=\\\n",
    "            df_x[s].apply(lambda x: (x-Min_df_s)/Max_df_s )\n",
    "        else:\n",
    "            print('No se pudo transformar ',s)\n",
    "    if(drop_columns):\n",
    "        df_x=df_x.drop(columns = Min_Max_col)\n",
    "    return(df_x)"
   ]
  },
  {
   "cell_type": "markdown",
   "id": "ad19a65c",
   "metadata": {
    "heading_collapsed": true
   },
   "source": [
    "### Función estandariza ciertas columnas a LN \n",
    "\n",
    "`data_ln(dx,ln_col,drop_columns)`"
   ]
  },
  {
   "cell_type": "code",
   "execution_count": 205,
   "id": "ffe02600",
   "metadata": {
    "hidden": true
   },
   "outputs": [],
   "source": [
    "# ['Frecuency Actual del Cliente','Monetary Actual']\n",
    "def data_ln(dx,ln_col,drop_columns):\n",
    "    \"\"\"\n",
    "    Pasa un listado de columnas a Ln\n",
    "    \n",
    "        dx: dataframe\n",
    "        ln_col: (Array) Listado de columnas a escalar \n",
    "        drop_columns: (True or False)  Eliminar columnas del listado\n",
    "    \"\"\"\n",
    "    df_x=dx.copy()\n",
    "    for s in ln_col:\n",
    "        if(s in df_x.columns):\n",
    "#             print(s)\n",
    "            df_x[s + ' (Escala ln)']=\\\n",
    "            df_x[s].apply(lambda x: np.log(x))\n",
    "        else:\n",
    "            print('No se pudo transformar ',s)\n",
    "    if(drop_columns):\n",
    "        df_x=df_x.drop(columns = ln_col)\n",
    "    return(df_x)"
   ]
  },
  {
   "cell_type": "markdown",
   "id": "f9a37172",
   "metadata": {},
   "source": [
    "### Función creación FxM "
   ]
  },
  {
   "cell_type": "code",
   "execution_count": 200,
   "id": "8936d221",
   "metadata": {},
   "outputs": [
    {
     "data": {
      "text/plain": [
       "Index(['Cliente', 'Recency Actual', 'Frecuency Actual del Cliente',\n",
       "       'Monetary Actual', 'Actividad del cliente',\n",
       "       'Frecuency Actual del Cliente (Escala Min Max)',\n",
       "       'Monetary Actual (Escala Min Max)'],\n",
       "      dtype='object')"
      ]
     },
     "execution_count": 200,
     "metadata": {},
     "output_type": "execute_result"
    }
   ],
   "source": [
    "data_Min_Max(RFM_Customers,[ 'Frecuency Actual del Cliente','Monetary Actual'], True).columns"
   ]
  },
  {
   "cell_type": "markdown",
   "id": "e24fac1f",
   "metadata": {},
   "source": [
    "###### Data_ln "
   ]
  },
  {
   "cell_type": "code",
   "execution_count": 206,
   "id": "be53ba1f",
   "metadata": {
    "collapsed": true
   },
   "outputs": [
    {
     "data": {
      "text/html": [
       "<div>\n",
       "<style scoped>\n",
       "    .dataframe tbody tr th:only-of-type {\n",
       "        vertical-align: middle;\n",
       "    }\n",
       "\n",
       "    .dataframe tbody tr th {\n",
       "        vertical-align: top;\n",
       "    }\n",
       "\n",
       "    .dataframe thead th {\n",
       "        text-align: right;\n",
       "    }\n",
       "</style>\n",
       "<table border=\"1\" class=\"dataframe\">\n",
       "  <thead>\n",
       "    <tr style=\"text-align: right;\">\n",
       "      <th></th>\n",
       "      <th>Cliente</th>\n",
       "      <th>Recency Actual</th>\n",
       "      <th>Frecuency Actual del Cliente</th>\n",
       "      <th>Monetary Actual</th>\n",
       "      <th>Actividad del cliente</th>\n",
       "      <th>Frecuency Actual del Cliente (Escala Min Max) (Escala ln)</th>\n",
       "      <th>Monetary Actual (Escala Min Max) (Escala ln)</th>\n",
       "    </tr>\n",
       "  </thead>\n",
       "  <tbody>\n",
       "    <tr>\n",
       "      <th>0</th>\n",
       "      <td>10003742</td>\n",
       "      <td>521</td>\n",
       "      <td>0.003344</td>\n",
       "      <td>28600.000000</td>\n",
       "      <td>Fugado</td>\n",
       "      <td>-7.487191</td>\n",
       "      <td>-5.854068</td>\n",
       "    </tr>\n",
       "    <tr>\n",
       "      <th>1</th>\n",
       "      <td>10007508</td>\n",
       "      <td>0</td>\n",
       "      <td>0.201752</td>\n",
       "      <td>117683.471154</td>\n",
       "      <td>Activo</td>\n",
       "      <td>-0.843141</td>\n",
       "      <td>-3.346390</td>\n",
       "    </tr>\n",
       "    <tr>\n",
       "      <th>2</th>\n",
       "      <td>10017269</td>\n",
       "      <td>3</td>\n",
       "      <td>0.059365</td>\n",
       "      <td>29699.448718</td>\n",
       "      <td>Activo</td>\n",
       "      <td>-2.104450</td>\n",
       "      <td>-5.723767</td>\n",
       "    </tr>\n",
       "    <tr>\n",
       "      <th>3</th>\n",
       "      <td>10023880</td>\n",
       "      <td>47</td>\n",
       "      <td>0.039591</td>\n",
       "      <td>38390.000000</td>\n",
       "      <td>Activo</td>\n",
       "      <td>-2.537324</td>\n",
       "      <td>-5.047931</td>\n",
       "    </tr>\n",
       "    <tr>\n",
       "      <th>4</th>\n",
       "      <td>10028999</td>\n",
       "      <td>32</td>\n",
       "      <td>0.017541</td>\n",
       "      <td>29060.307692</td>\n",
       "      <td>Activo</td>\n",
       "      <td>-3.463699</td>\n",
       "      <td>-5.797435</td>\n",
       "    </tr>\n",
       "    <tr>\n",
       "      <th>...</th>\n",
       "      <td>...</td>\n",
       "      <td>...</td>\n",
       "      <td>...</td>\n",
       "      <td>...</td>\n",
       "      <td>...</td>\n",
       "      <td>...</td>\n",
       "      <td>...</td>\n",
       "    </tr>\n",
       "    <tr>\n",
       "      <th>5068</th>\n",
       "      <td>9992154</td>\n",
       "      <td>69</td>\n",
       "      <td>0.056885</td>\n",
       "      <td>46135.600000</td>\n",
       "      <td>Activo</td>\n",
       "      <td>-2.149520</td>\n",
       "      <td>-4.684781</td>\n",
       "    </tr>\n",
       "    <tr>\n",
       "      <th>5069</th>\n",
       "      <td>9993925</td>\n",
       "      <td>0</td>\n",
       "      <td>0.408158</td>\n",
       "      <td>200374.351750</td>\n",
       "      <td>Activo</td>\n",
       "      <td>-0.130703</td>\n",
       "      <td>-2.729784</td>\n",
       "    </tr>\n",
       "    <tr>\n",
       "      <th>5070</th>\n",
       "      <td>9994662</td>\n",
       "      <td>12</td>\n",
       "      <td>0.015996</td>\n",
       "      <td>28700.000000</td>\n",
       "      <td>Activo</td>\n",
       "      <td>-3.576756</td>\n",
       "      <td>-5.841489</td>\n",
       "    </tr>\n",
       "    <tr>\n",
       "      <th>5071</th>\n",
       "      <td>9994800</td>\n",
       "      <td>118</td>\n",
       "      <td>0.025931</td>\n",
       "      <td>27060.000000</td>\n",
       "      <td>Fugandose</td>\n",
       "      <td>-3.006027</td>\n",
       "      <td>-6.070902</td>\n",
       "    </tr>\n",
       "    <tr>\n",
       "      <th>5072</th>\n",
       "      <td>9997223</td>\n",
       "      <td>465</td>\n",
       "      <td>0.003344</td>\n",
       "      <td>23980.000000</td>\n",
       "      <td>Fugado</td>\n",
       "      <td>-7.487191</td>\n",
       "      <td>-6.733087</td>\n",
       "    </tr>\n",
       "  </tbody>\n",
       "</table>\n",
       "<p>5073 rows × 7 columns</p>\n",
       "</div>"
      ],
      "text/plain": [
       "       Cliente  Recency Actual  Frecuency Actual del Cliente  Monetary Actual  \\\n",
       "0     10003742             521                      0.003344     28600.000000   \n",
       "1     10007508               0                      0.201752    117683.471154   \n",
       "2     10017269               3                      0.059365     29699.448718   \n",
       "3     10023880              47                      0.039591     38390.000000   \n",
       "4     10028999              32                      0.017541     29060.307692   \n",
       "...        ...             ...                           ...              ...   \n",
       "5068   9992154              69                      0.056885     46135.600000   \n",
       "5069   9993925               0                      0.408158    200374.351750   \n",
       "5070   9994662              12                      0.015996     28700.000000   \n",
       "5071   9994800             118                      0.025931     27060.000000   \n",
       "5072   9997223             465                      0.003344     23980.000000   \n",
       "\n",
       "     Actividad del cliente  \\\n",
       "0                   Fugado   \n",
       "1                   Activo   \n",
       "2                   Activo   \n",
       "3                   Activo   \n",
       "4                   Activo   \n",
       "...                    ...   \n",
       "5068                Activo   \n",
       "5069                Activo   \n",
       "5070                Activo   \n",
       "5071             Fugandose   \n",
       "5072                Fugado   \n",
       "\n",
       "      Frecuency Actual del Cliente (Escala Min Max) (Escala ln)  \\\n",
       "0                                             -7.487191           \n",
       "1                                             -0.843141           \n",
       "2                                             -2.104450           \n",
       "3                                             -2.537324           \n",
       "4                                             -3.463699           \n",
       "...                                                 ...           \n",
       "5068                                          -2.149520           \n",
       "5069                                          -0.130703           \n",
       "5070                                          -3.576756           \n",
       "5071                                          -3.006027           \n",
       "5072                                          -7.487191           \n",
       "\n",
       "      Monetary Actual (Escala Min Max) (Escala ln)  \n",
       "0                                        -5.854068  \n",
       "1                                        -3.346390  \n",
       "2                                        -5.723767  \n",
       "3                                        -5.047931  \n",
       "4                                        -5.797435  \n",
       "...                                            ...  \n",
       "5068                                     -4.684781  \n",
       "5069                                     -2.729784  \n",
       "5070                                     -5.841489  \n",
       "5071                                     -6.070902  \n",
       "5072                                     -6.733087  \n",
       "\n",
       "[5073 rows x 7 columns]"
      ]
     },
     "execution_count": 206,
     "metadata": {},
     "output_type": "execute_result"
    }
   ],
   "source": [
    "# data_Min_Max(RFM_Customers,[ 'Frecuency Actual del Cliente','Monetary Actual'], True).columns\n",
    "data_ln( data_Min_Max(RFM_Customers,[ 'Frecuency Actual del Cliente','Monetary Actual'], False),\n",
    "            [i + ' (Escala Min Max)'for i in [ 'Frecuency Actual del Cliente','Monetary Actual']]\n",
    "           , True)"
   ]
  },
  {
   "cell_type": "markdown",
   "id": "4c465103",
   "metadata": {},
   "source": [
    "###### Def  FxM función\n",
    "`Df_Pond_FxM(RFM_df,weighted_F,weighted_M): `"
   ]
  },
  {
   "cell_type": "code",
   "execution_count": 219,
   "id": "a92be893",
   "metadata": {},
   "outputs": [],
   "source": [
    "def Df_Pond_FxM(RFM_df ,  Col_FM , weighted_F,weighted_M):\n",
    "    \"\"\"\n",
    "    Entrega un df:\n",
    "    Df_Pond_FxM(RFM_df,W_F,W_M):\n",
    "    W_F pond de F\n",
    "    W_M pond de M\n",
    "    Col_FM:(F,M)\n",
    "    \"\"\"\n",
    "\n",
    "    df=RFM_df.copy()\n",
    "#     Ln_B=True\n",
    "#     Ln_B=False\n",
    "#     if(Ln_B):\n",
    "#         df['$(F \\times W_F + M \\times W_M)$']=df.apply(lambda x:\n",
    "#             x[ 'Frecuency Actual del Cliente' + ' (Escala ln)']* weighted_F +\\\n",
    "#             x['Monetary Actual'+ ' (Escala ln)']*weighted_M,axis=1 )\n",
    "#     else:\n",
    "    if((Col_FM[0] in df.columns)&(Col_FM[1] in df.columns)):\n",
    "        df['$(F \\times W_F + M \\times W_M)$']=df.apply(lambda x:\n",
    "            x[Col_FM[0]]* weighted_F +\\\n",
    "            x[Col_FM[1]]*weighted_M,axis=1 )\n",
    "    else:\n",
    "        print('Col_FM entregado no corresponde con las oclumnas de df',Col_FM)\n",
    "    return df"
   ]
  },
  {
   "cell_type": "code",
   "execution_count": 220,
   "id": "c15d384d",
   "metadata": {
    "scrolled": true
   },
   "outputs": [
    {
     "data": {
      "text/html": [
       "<div>\n",
       "<style scoped>\n",
       "    .dataframe tbody tr th:only-of-type {\n",
       "        vertical-align: middle;\n",
       "    }\n",
       "\n",
       "    .dataframe tbody tr th {\n",
       "        vertical-align: top;\n",
       "    }\n",
       "\n",
       "    .dataframe thead th {\n",
       "        text-align: right;\n",
       "    }\n",
       "</style>\n",
       "<table border=\"1\" class=\"dataframe\">\n",
       "  <thead>\n",
       "    <tr style=\"text-align: right;\">\n",
       "      <th></th>\n",
       "      <th>Cliente</th>\n",
       "      <th>Recency Actual</th>\n",
       "      <th>Frecuency Actual del Cliente</th>\n",
       "      <th>Monetary Actual</th>\n",
       "      <th>Actividad del cliente</th>\n",
       "      <th>Frecuency Actual del Cliente (Escala Min Max) (Escala ln)</th>\n",
       "      <th>Monetary Actual (Escala Min Max) (Escala ln)</th>\n",
       "      <th>$(F \\times W_F + M \\times W_M)$</th>\n",
       "    </tr>\n",
       "  </thead>\n",
       "  <tbody>\n",
       "    <tr>\n",
       "      <th>0</th>\n",
       "      <td>10003742</td>\n",
       "      <td>521</td>\n",
       "      <td>0.003344</td>\n",
       "      <td>28600.000000</td>\n",
       "      <td>Fugado</td>\n",
       "      <td>-7.487191</td>\n",
       "      <td>-5.854068</td>\n",
       "      <td>-13.341259</td>\n",
       "    </tr>\n",
       "    <tr>\n",
       "      <th>1</th>\n",
       "      <td>10007508</td>\n",
       "      <td>0</td>\n",
       "      <td>0.201752</td>\n",
       "      <td>117683.471154</td>\n",
       "      <td>Activo</td>\n",
       "      <td>-0.843141</td>\n",
       "      <td>-3.346390</td>\n",
       "      <td>-4.189531</td>\n",
       "    </tr>\n",
       "    <tr>\n",
       "      <th>2</th>\n",
       "      <td>10017269</td>\n",
       "      <td>3</td>\n",
       "      <td>0.059365</td>\n",
       "      <td>29699.448718</td>\n",
       "      <td>Activo</td>\n",
       "      <td>-2.104450</td>\n",
       "      <td>-5.723767</td>\n",
       "      <td>-7.828217</td>\n",
       "    </tr>\n",
       "    <tr>\n",
       "      <th>3</th>\n",
       "      <td>10023880</td>\n",
       "      <td>47</td>\n",
       "      <td>0.039591</td>\n",
       "      <td>38390.000000</td>\n",
       "      <td>Activo</td>\n",
       "      <td>-2.537324</td>\n",
       "      <td>-5.047931</td>\n",
       "      <td>-7.585255</td>\n",
       "    </tr>\n",
       "    <tr>\n",
       "      <th>4</th>\n",
       "      <td>10028999</td>\n",
       "      <td>32</td>\n",
       "      <td>0.017541</td>\n",
       "      <td>29060.307692</td>\n",
       "      <td>Activo</td>\n",
       "      <td>-3.463699</td>\n",
       "      <td>-5.797435</td>\n",
       "      <td>-9.261134</td>\n",
       "    </tr>\n",
       "  </tbody>\n",
       "</table>\n",
       "</div>"
      ],
      "text/plain": [
       "    Cliente  Recency Actual  Frecuency Actual del Cliente  Monetary Actual  \\\n",
       "0  10003742             521                      0.003344     28600.000000   \n",
       "1  10007508               0                      0.201752    117683.471154   \n",
       "2  10017269               3                      0.059365     29699.448718   \n",
       "3  10023880              47                      0.039591     38390.000000   \n",
       "4  10028999              32                      0.017541     29060.307692   \n",
       "\n",
       "  Actividad del cliente  \\\n",
       "0                Fugado   \n",
       "1                Activo   \n",
       "2                Activo   \n",
       "3                Activo   \n",
       "4                Activo   \n",
       "\n",
       "   Frecuency Actual del Cliente (Escala Min Max) (Escala ln)  \\\n",
       "0                                          -7.487191           \n",
       "1                                          -0.843141           \n",
       "2                                          -2.104450           \n",
       "3                                          -2.537324           \n",
       "4                                          -3.463699           \n",
       "\n",
       "   Monetary Actual (Escala Min Max) (Escala ln)  \\\n",
       "0                                     -5.854068   \n",
       "1                                     -3.346390   \n",
       "2                                     -5.723767   \n",
       "3                                     -5.047931   \n",
       "4                                     -5.797435   \n",
       "\n",
       "   $(F \\times W_F + M \\times W_M)$  \n",
       "0                       -13.341259  \n",
       "1                        -4.189531  \n",
       "2                        -7.828217  \n",
       "3                        -7.585255  \n",
       "4                        -9.261134  "
      ]
     },
     "execution_count": 220,
     "metadata": {},
     "output_type": "execute_result"
    }
   ],
   "source": [
    "# (Escala ln)\n",
    "# RFM_df =Df_Pond_FxM(RFM_Customers,1,1)\n",
    "RFM_df =Df_Pond_FxM(\n",
    "    data_ln( data_Min_Max(RFM_Customers\n",
    "                          ,[ 'Frecuency Actual del Cliente','Monetary Actual'], False)\n",
    "            ,[i + ' (Escala Min Max)'for i in [ 'Frecuency Actual del Cliente','Monetary Actual']],True)\n",
    "            ,[i + ' (Escala Min Max) (Escala ln)'for i in [ 'Frecuency Actual del Cliente','Monetary Actual']]\n",
    "            ,1,1)\n",
    "\n",
    "RFM_df.head()"
   ]
  },
  {
   "cell_type": "code",
   "execution_count": 224,
   "id": "9d66ce46",
   "metadata": {},
   "outputs": [
    {
     "data": {
      "text/html": [
       "<div>\n",
       "<style scoped>\n",
       "    .dataframe tbody tr th:only-of-type {\n",
       "        vertical-align: middle;\n",
       "    }\n",
       "\n",
       "    .dataframe tbody tr th {\n",
       "        vertical-align: top;\n",
       "    }\n",
       "\n",
       "    .dataframe thead th {\n",
       "        text-align: right;\n",
       "    }\n",
       "</style>\n",
       "<table border=\"1\" class=\"dataframe\">\n",
       "  <thead>\n",
       "    <tr style=\"text-align: right;\">\n",
       "      <th></th>\n",
       "      <th>count</th>\n",
       "      <th>mean</th>\n",
       "      <th>std</th>\n",
       "      <th>min</th>\n",
       "      <th>25%</th>\n",
       "      <th>50%</th>\n",
       "      <th>75%</th>\n",
       "      <th>max</th>\n",
       "    </tr>\n",
       "  </thead>\n",
       "  <tbody>\n",
       "    <tr>\n",
       "      <th>Recency Actual</th>\n",
       "      <td>3206.0</td>\n",
       "      <td>25.526201</td>\n",
       "      <td>25.659849</td>\n",
       "      <td>0.000000</td>\n",
       "      <td>4.000000</td>\n",
       "      <td>14.000000</td>\n",
       "      <td>45.000000</td>\n",
       "      <td>8.900000e+01</td>\n",
       "    </tr>\n",
       "    <tr>\n",
       "      <th>Frecuency Actual del Cliente</th>\n",
       "      <td>3206.0</td>\n",
       "      <td>0.065208</td>\n",
       "      <td>0.071303</td>\n",
       "      <td>0.003137</td>\n",
       "      <td>0.015759</td>\n",
       "      <td>0.033734</td>\n",
       "      <td>0.092097</td>\n",
       "      <td>4.616323e-01</td>\n",
       "    </tr>\n",
       "    <tr>\n",
       "      <th>Monetary Actual</th>\n",
       "      <td>3206.0</td>\n",
       "      <td>84251.677253</td>\n",
       "      <td>175578.756763</td>\n",
       "      <td>24200.000000</td>\n",
       "      <td>29150.000000</td>\n",
       "      <td>32145.339869</td>\n",
       "      <td>62739.772727</td>\n",
       "      <td>2.754333e+06</td>\n",
       "    </tr>\n",
       "    <tr>\n",
       "      <th>Frecuency Actual del Cliente (Escala Min Max) (Escala ln)</th>\n",
       "      <td>3206.0</td>\n",
       "      <td>-2.676483</td>\n",
       "      <td>1.249609</td>\n",
       "      <td>-9.099217</td>\n",
       "      <td>-3.595309</td>\n",
       "      <td>-2.712208</td>\n",
       "      <td>-1.646009</td>\n",
       "      <td>-6.707132e-03</td>\n",
       "    </tr>\n",
       "    <tr>\n",
       "      <th>Monetary Actual (Escala Min Max) (Escala ln)</th>\n",
       "      <td>3206.0</td>\n",
       "      <td>-4.897253</td>\n",
       "      <td>1.231957</td>\n",
       "      <td>-6.668167</td>\n",
       "      <td>-5.786764</td>\n",
       "      <td>-5.483348</td>\n",
       "      <td>-4.182314</td>\n",
       "      <td>-7.543815e-03</td>\n",
       "    </tr>\n",
       "    <tr>\n",
       "      <th>$(F \\times W_F + M \\times W_M)$</th>\n",
       "      <td>3206.0</td>\n",
       "      <td>-7.573736</td>\n",
       "      <td>2.157146</td>\n",
       "      <td>-14.722240</td>\n",
       "      <td>-9.294908</td>\n",
       "      <td>-7.986222</td>\n",
       "      <td>-5.790108</td>\n",
       "      <td>-1.118787e+00</td>\n",
       "    </tr>\n",
       "  </tbody>\n",
       "</table>\n",
       "</div>"
      ],
      "text/plain": [
       "                                                     count          mean  \\\n",
       "Recency Actual                                      3206.0     25.526201   \n",
       "Frecuency Actual del Cliente                        3206.0      0.065208   \n",
       "Monetary Actual                                     3206.0  84251.677253   \n",
       "Frecuency Actual del Cliente (Escala Min Max) (...  3206.0     -2.676483   \n",
       "Monetary Actual (Escala Min Max) (Escala ln)        3206.0     -4.897253   \n",
       "$(F \\times W_F + M \\times W_M)$                     3206.0     -7.573736   \n",
       "\n",
       "                                                              std  \\\n",
       "Recency Actual                                          25.659849   \n",
       "Frecuency Actual del Cliente                             0.071303   \n",
       "Monetary Actual                                     175578.756763   \n",
       "Frecuency Actual del Cliente (Escala Min Max) (...       1.249609   \n",
       "Monetary Actual (Escala Min Max) (Escala ln)             1.231957   \n",
       "$(F \\times W_F + M \\times W_M)$                          2.157146   \n",
       "\n",
       "                                                             min  \\\n",
       "Recency Actual                                          0.000000   \n",
       "Frecuency Actual del Cliente                            0.003137   \n",
       "Monetary Actual                                     24200.000000   \n",
       "Frecuency Actual del Cliente (Escala Min Max) (...     -9.099217   \n",
       "Monetary Actual (Escala Min Max) (Escala ln)           -6.668167   \n",
       "$(F \\times W_F + M \\times W_M)$                       -14.722240   \n",
       "\n",
       "                                                             25%  \\\n",
       "Recency Actual                                          4.000000   \n",
       "Frecuency Actual del Cliente                            0.015759   \n",
       "Monetary Actual                                     29150.000000   \n",
       "Frecuency Actual del Cliente (Escala Min Max) (...     -3.595309   \n",
       "Monetary Actual (Escala Min Max) (Escala ln)           -5.786764   \n",
       "$(F \\times W_F + M \\times W_M)$                        -9.294908   \n",
       "\n",
       "                                                             50%  \\\n",
       "Recency Actual                                         14.000000   \n",
       "Frecuency Actual del Cliente                            0.033734   \n",
       "Monetary Actual                                     32145.339869   \n",
       "Frecuency Actual del Cliente (Escala Min Max) (...     -2.712208   \n",
       "Monetary Actual (Escala Min Max) (Escala ln)           -5.483348   \n",
       "$(F \\times W_F + M \\times W_M)$                        -7.986222   \n",
       "\n",
       "                                                             75%           max  \n",
       "Recency Actual                                         45.000000  8.900000e+01  \n",
       "Frecuency Actual del Cliente                            0.092097  4.616323e-01  \n",
       "Monetary Actual                                     62739.772727  2.754333e+06  \n",
       "Frecuency Actual del Cliente (Escala Min Max) (...     -1.646009 -6.707132e-03  \n",
       "Monetary Actual (Escala Min Max) (Escala ln)           -4.182314 -7.543815e-03  \n",
       "$(F \\times W_F + M \\times W_M)$                        -5.790108 -1.118787e+00  "
      ]
     },
     "execution_count": 224,
     "metadata": {},
     "output_type": "execute_result"
    }
   ],
   "source": [
    "RFM_df[RFM_df['Actividad del cliente']=='Activo'].describe().T"
   ]
  },
  {
   "cell_type": "markdown",
   "id": "965ef504",
   "metadata": {},
   "source": [
    "# Funciones relacionadas a K-means"
   ]
  },
  {
   "cell_type": "markdown",
   "id": "6d461951",
   "metadata": {
    "heading_collapsed": true
   },
   "source": [
    "## Funciones de ajuste "
   ]
  },
  {
   "cell_type": "markdown",
   "id": "719e566f",
   "metadata": {
    "heading_collapsed": true,
    "hidden": true
   },
   "source": [
    "### Curva Cantidad de Clusters en KMeans \n",
    "`Curva_kmeans`"
   ]
  },
  {
   "cell_type": "markdown",
   "id": "637085a7",
   "metadata": {
    "heading_collapsed": true,
    "hidden": true
   },
   "source": [
    "###### Función "
   ]
  },
  {
   "cell_type": "code",
   "execution_count": 128,
   "id": "590504a1",
   "metadata": {
    "hidden": true,
    "scrolled": true
   },
   "outputs": [],
   "source": [
    "from sklearn.cluster import KMeans\n",
    "import matplotlib.pyplot as plt\n",
    "from sklearn.preprocessing import StandardScaler\n",
    "\n",
    "Col=['Frecuency Actual del Cliente','Monetary Actual',\n",
    "    '$(F \\times W_F + M \\times W_M)$'\n",
    "    ]\n",
    "\n",
    "def Curva_kmeans(D_Clientes_Frec,Col):\n",
    "    X=D_Clientes_Frec.fillna(0)\n",
    "    X_std=X[Col].copy()\n",
    "\n",
    "\n",
    "    \n",
    "    X_std =\\\n",
    "    pd.DataFrame(StandardScaler().fit_transform(X_std),columns=X_std.columns)\n",
    "\n",
    "\n",
    "    #kmeans = KMeans(n_clusters=6)\n",
    "\n",
    "\n",
    "\n",
    "    #la suma del error cuadrático para diferentes valores de k\n",
    "    SSE = []\n",
    "    for i in range(1, 21):\n",
    "      km = KMeans(n_clusters=i)\n",
    "      km.fit(X_std)\n",
    "      SSE.append(km.inertia_)\n",
    "\n",
    "    # plot\n",
    "\n",
    "    plt.plot(range(1, 21), SSE,'-o', color='black')\n",
    "    plt.xlabel('Número of clusters')\n",
    "    plt.ylabel('SSE')\n",
    "    plt.show()\n",
    "    return(X_std)\n"
   ]
  },
  {
   "cell_type": "markdown",
   "id": "ea2e4a47",
   "metadata": {
    "heading_collapsed": true,
    "hidden": true
   },
   "source": [
    "###### Resultado\n"
   ]
  },
  {
   "cell_type": "code",
   "execution_count": 134,
   "id": "cdf463e5",
   "metadata": {
    "hidden": true
   },
   "outputs": [
    {
     "data": {
      "text/plain": [
       "Index(['Cliente', 'Recency Actual', 'Frecuency Actual del Cliente',\n",
       "       'Monetary Actual', 'Actividad del cliente',\n",
       "       'Frecuency Actual del Cliente (Escala ln)',\n",
       "       'Monetary Actual (Escala ln)', '$(F \\times W_F + M \\times W_M)$'],\n",
       "      dtype='object')"
      ]
     },
     "execution_count": 134,
     "metadata": {},
     "output_type": "execute_result"
    }
   ],
   "source": [
    "RFM_df.columns"
   ]
  },
  {
   "cell_type": "code",
   "execution_count": 136,
   "id": "b3eff840",
   "metadata": {
    "hidden": true,
    "scrolled": true
   },
   "outputs": [
    {
     "data": {
      "image/png": "[encoded data removed]",
      "text/plain": [
       "<Figure size 432x288 with 1 Axes>"
      ]
     },
     "metadata": {
      "needs_background": "light"
     },
     "output_type": "display_data"
    }
   ],
   "source": [
    "Col=['Frecuency Actual del Cliente','Monetary Actual','$(F \\times W_F + M \\times W_M)$']\n",
    "# Col=['Frecuency Actual del Cliente (Escala ln)','Monetary Actual (Escala ln)', '$(F \\times W_F + M \\times W_M)$']\n",
    "Y_std=Curva_kmeans(RFM_df[RFM_df['Actividad del cliente']=='Activo']\n",
    "             ,Col)"
   ]
  },
  {
   "cell_type": "code",
   "execution_count": 138,
   "id": "612fd104",
   "metadata": {
    "hidden": true,
    "scrolled": true
   },
   "outputs": [
    {
     "data": {
      "image/png": "[encoded data removed]",
      "text/plain": [
       "<Figure size 432x288 with 1 Axes>"
      ]
     },
     "metadata": {
      "needs_background": "light"
     },
     "output_type": "display_data"
    }
   ],
   "source": [
    "# Col=['Frecuency Actual del Cliente','Monetary Actual','$(F \\times W_F + M \\times W_M)$']\n",
    "Col=['Frecuency Actual del Cliente (Escala ln)',\n",
    "       'Monetary Actual (Escala ln)', '$(F \\times W_F + M \\times W_M)$']\n",
    "Y_std=Curva_kmeans(RFM_df[RFM_df['Actividad del cliente']=='Activo']\n",
    "             ,Col)"
   ]
  },
  {
   "cell_type": "markdown",
   "id": "a090a8b5",
   "metadata": {
    "heading_collapsed": true,
    "hidden": true
   },
   "source": [
    "### Cantidad de variables "
   ]
  },
  {
   "cell_type": "code",
   "execution_count": 139,
   "id": "e9a181d2",
   "metadata": {
    "hidden": true
   },
   "outputs": [
    {
     "name": "stdout",
     "output_type": "stream",
     "text": [
      "Cantidad de columnas 3\n"
     ]
    },
    {
     "data": {
      "image/png": "[encoded data removed]",
      "text/plain": [
       "<Figure size 432x288 with 1 Axes>"
      ]
     },
     "metadata": {
      "needs_background": "light"
     },
     "output_type": "display_data"
    }
   ],
   "source": [
    "#grafica de los features\n",
    "from sklearn.decomposition import PCA\n",
    "def Columnas_def(X_std):\n",
    "    print('Cantidad de columnas',len(list(X_std.columns)))\n",
    "\n",
    "    # Crear una instancia PCA: pca\n",
    "    pca = PCA()\n",
    "    principalComponents = pca.fit_transform(X_std)\n",
    "\n",
    "    # Graficar el porcetanje de la varianza que es explicada por cada componente\n",
    "    features = range(pca.n_components_)\n",
    "    plt.bar(features, pca.explained_variance_ratio_, color='black')\n",
    "    plt.xlabel('PCA features')\n",
    "    plt.ylabel('variance %')\n",
    "    plt.xticks(features)\n",
    "\n",
    "    # Guardar las componentes en un dataframe\n",
    "    PCA_components = pd.DataFrame(principalComponents)\n",
    "#     return(PCA_components)\n",
    "Columnas_def(Y_std)"
   ]
  },
  {
   "cell_type": "markdown",
   "id": "b687ef31",
   "metadata": {},
   "source": [
    "## Proceso de Clustering "
   ]
  },
  {
   "cell_type": "markdown",
   "id": "0216f071",
   "metadata": {
    "heading_collapsed": true
   },
   "source": [
    "###### función \n",
    "`def_Col_cluster(D_Clientes,Col,Numero_de_clusters):`\n"
   ]
  },
  {
   "cell_type": "code",
   "execution_count": 161,
   "id": "ddaf6ad9",
   "metadata": {
    "hidden": true
   },
   "outputs": [],
   "source": [
    "def def_Col_cluster(D_Clientes, Col \n",
    "                    , Numero_de_clusters, ln_Col_tra=False):\n",
    "\n",
    "    print(Numero_de_clusters)\n",
    "\n",
    "    # Col=list(D_Clientes.columns)#=D_Clientes.fillna(0)\n",
    "    # Col=Col[Col.index('Frecuencia mes promedio'):]\n",
    "    # Col\n",
    "\n",
    "    X=D_Clientes.fillna(0).copy()\n",
    "    if(ln_Col_tra):\n",
    "        X_std =data_ln(X[Col],Col,True).copy()\n",
    "    X_std=X[Col].copy()\n",
    "#     for s in ['Frecuency Actual del Cliente',\n",
    "#              'Monetary Actual']:\n",
    "#         if(s in Col):\n",
    "#             print(s)\n",
    "#             X_std[s]=\\\n",
    "#             X_std[s].apply(lambda x: np.log(x))\n",
    "    \n",
    "    #from sklearn.preprocessing import StandardScaler\n",
    "    \n",
    "    \n",
    "    X_std = pd.DataFrame(StandardScaler().fit_transform(X_std),columns=X_std.columns)\n",
    "    \n",
    "    #=========================================\n",
    "    # Modelo Kmenas\n",
    "    #=========================================\n",
    "    #from sklearn.cluster import KMeans\n",
    "    kmeans = KMeans(n_clusters=Numero_de_clusters)\n",
    "    kfit = kmeans.fit(X_std)\n",
    "    identified_clusters = kfit.predict(X_std)\n",
    "    X['identified_clusters']=identified_clusters\n",
    "    X['identified_clusters']=X['identified_clusters'].astype('category')\n",
    "    \n",
    "    if( 'Frecuency Actual del Cliente' in X.columns ):\n",
    "        X['F-1']= X['Frecuency Actual del Cliente'].apply(lambda x: x**(-1))\n",
    "    return(X)"
   ]
  },
  {
   "cell_type": "markdown",
   "id": "93dbf16a",
   "metadata": {},
   "source": [
    "###### Resultado "
   ]
  },
  {
   "cell_type": "code",
   "execution_count": 162,
   "id": "8ac9e3a1",
   "metadata": {
    "collapsed": true
   },
   "outputs": [
    {
     "name": "stdout",
     "output_type": "stream",
     "text": [
      "5\n"
     ]
    },
    {
     "data": {
      "text/html": [
       "<div>\n",
       "<style scoped>\n",
       "    .dataframe tbody tr th:only-of-type {\n",
       "        vertical-align: middle;\n",
       "    }\n",
       "\n",
       "    .dataframe tbody tr th {\n",
       "        vertical-align: top;\n",
       "    }\n",
       "\n",
       "    .dataframe thead th {\n",
       "        text-align: right;\n",
       "    }\n",
       "</style>\n",
       "<table border=\"1\" class=\"dataframe\">\n",
       "  <thead>\n",
       "    <tr style=\"text-align: right;\">\n",
       "      <th></th>\n",
       "      <th>Cliente</th>\n",
       "      <th>Recency Actual</th>\n",
       "      <th>Frecuency Actual del Cliente</th>\n",
       "      <th>Monetary Actual</th>\n",
       "      <th>Actividad del cliente</th>\n",
       "      <th>Frecuency Actual del Cliente (Escala ln)</th>\n",
       "      <th>Monetary Actual (Escala ln)</th>\n",
       "      <th>$(F \\times W_F + M \\times W_M)$</th>\n",
       "      <th>identified_clusters</th>\n",
       "      <th>F-1</th>\n",
       "    </tr>\n",
       "  </thead>\n",
       "  <tbody>\n",
       "    <tr>\n",
       "      <th>1</th>\n",
       "      <td>10007508</td>\n",
       "      <td>0</td>\n",
       "      <td>0.201752</td>\n",
       "      <td>117683.471154</td>\n",
       "      <td>Activo</td>\n",
       "      <td>-1.600714</td>\n",
       "      <td>11.675754</td>\n",
       "      <td>10.075040</td>\n",
       "      <td>1</td>\n",
       "      <td>4.956570</td>\n",
       "    </tr>\n",
       "    <tr>\n",
       "      <th>2</th>\n",
       "      <td>10017269</td>\n",
       "      <td>3</td>\n",
       "      <td>0.059365</td>\n",
       "      <td>29699.448718</td>\n",
       "      <td>Activo</td>\n",
       "      <td>-2.824055</td>\n",
       "      <td>10.298884</td>\n",
       "      <td>7.474829</td>\n",
       "      <td>0</td>\n",
       "      <td>16.845022</td>\n",
       "    </tr>\n",
       "    <tr>\n",
       "      <th>3</th>\n",
       "      <td>10023880</td>\n",
       "      <td>47</td>\n",
       "      <td>0.039591</td>\n",
       "      <td>38390.000000</td>\n",
       "      <td>Activo</td>\n",
       "      <td>-3.229161</td>\n",
       "      <td>10.555552</td>\n",
       "      <td>7.326391</td>\n",
       "      <td>0</td>\n",
       "      <td>25.258465</td>\n",
       "    </tr>\n",
       "    <tr>\n",
       "      <th>4</th>\n",
       "      <td>10028999</td>\n",
       "      <td>32</td>\n",
       "      <td>0.017541</td>\n",
       "      <td>29060.307692</td>\n",
       "      <td>Activo</td>\n",
       "      <td>-4.043197</td>\n",
       "      <td>10.277129</td>\n",
       "      <td>6.233931</td>\n",
       "      <td>3</td>\n",
       "      <td>57.008334</td>\n",
       "    </tr>\n",
       "    <tr>\n",
       "      <th>6</th>\n",
       "      <td>10032204</td>\n",
       "      <td>5</td>\n",
       "      <td>0.007030</td>\n",
       "      <td>30206.000000</td>\n",
       "      <td>Activo</td>\n",
       "      <td>-4.957570</td>\n",
       "      <td>10.315796</td>\n",
       "      <td>5.358226</td>\n",
       "      <td>3</td>\n",
       "      <td>142.247750</td>\n",
       "    </tr>\n",
       "    <tr>\n",
       "      <th>...</th>\n",
       "      <td>...</td>\n",
       "      <td>...</td>\n",
       "      <td>...</td>\n",
       "      <td>...</td>\n",
       "      <td>...</td>\n",
       "      <td>...</td>\n",
       "      <td>...</td>\n",
       "      <td>...</td>\n",
       "      <td>...</td>\n",
       "      <td>...</td>\n",
       "    </tr>\n",
       "    <tr>\n",
       "      <th>5065</th>\n",
       "      <td>9988772</td>\n",
       "      <td>47</td>\n",
       "      <td>0.012990</td>\n",
       "      <td>29150.000000</td>\n",
       "      <td>Activo</td>\n",
       "      <td>-4.343564</td>\n",
       "      <td>10.280210</td>\n",
       "      <td>5.936646</td>\n",
       "      <td>3</td>\n",
       "      <td>76.981444</td>\n",
       "    </tr>\n",
       "    <tr>\n",
       "      <th>5067</th>\n",
       "      <td>9991757</td>\n",
       "      <td>4</td>\n",
       "      <td>0.044332</td>\n",
       "      <td>196977.777778</td>\n",
       "      <td>Activo</td>\n",
       "      <td>-3.116051</td>\n",
       "      <td>12.190846</td>\n",
       "      <td>9.074795</td>\n",
       "      <td>2</td>\n",
       "      <td>22.557123</td>\n",
       "    </tr>\n",
       "    <tr>\n",
       "      <th>5068</th>\n",
       "      <td>9992154</td>\n",
       "      <td>69</td>\n",
       "      <td>0.056885</td>\n",
       "      <td>46135.600000</td>\n",
       "      <td>Activo</td>\n",
       "      <td>-2.866732</td>\n",
       "      <td>10.739340</td>\n",
       "      <td>7.872609</td>\n",
       "      <td>4</td>\n",
       "      <td>17.579468</td>\n",
       "    </tr>\n",
       "    <tr>\n",
       "      <th>5069</th>\n",
       "      <td>9993925</td>\n",
       "      <td>0</td>\n",
       "      <td>0.408158</td>\n",
       "      <td>200374.351750</td>\n",
       "      <td>Activo</td>\n",
       "      <td>-0.896101</td>\n",
       "      <td>12.207943</td>\n",
       "      <td>11.311842</td>\n",
       "      <td>1</td>\n",
       "      <td>2.450031</td>\n",
       "    </tr>\n",
       "    <tr>\n",
       "      <th>5070</th>\n",
       "      <td>9994662</td>\n",
       "      <td>12</td>\n",
       "      <td>0.015996</td>\n",
       "      <td>28700.000000</td>\n",
       "      <td>Activo</td>\n",
       "      <td>-4.135417</td>\n",
       "      <td>10.264652</td>\n",
       "      <td>6.129236</td>\n",
       "      <td>3</td>\n",
       "      <td>62.515629</td>\n",
       "    </tr>\n",
       "  </tbody>\n",
       "</table>\n",
       "<p>3206 rows × 10 columns</p>\n",
       "</div>"
      ],
      "text/plain": [
       "       Cliente  Recency Actual  Frecuency Actual del Cliente  Monetary Actual  \\\n",
       "1     10007508               0                      0.201752    117683.471154   \n",
       "2     10017269               3                      0.059365     29699.448718   \n",
       "3     10023880              47                      0.039591     38390.000000   \n",
       "4     10028999              32                      0.017541     29060.307692   \n",
       "6     10032204               5                      0.007030     30206.000000   \n",
       "...        ...             ...                           ...              ...   \n",
       "5065   9988772              47                      0.012990     29150.000000   \n",
       "5067   9991757               4                      0.044332    196977.777778   \n",
       "5068   9992154              69                      0.056885     46135.600000   \n",
       "5069   9993925               0                      0.408158    200374.351750   \n",
       "5070   9994662              12                      0.015996     28700.000000   \n",
       "\n",
       "     Actividad del cliente  Frecuency Actual del Cliente (Escala ln)  \\\n",
       "1                   Activo                                 -1.600714   \n",
       "2                   Activo                                 -2.824055   \n",
       "3                   Activo                                 -3.229161   \n",
       "4                   Activo                                 -4.043197   \n",
       "6                   Activo                                 -4.957570   \n",
       "...                    ...                                       ...   \n",
       "5065                Activo                                 -4.343564   \n",
       "5067                Activo                                 -3.116051   \n",
       "5068                Activo                                 -2.866732   \n",
       "5069                Activo                                 -0.896101   \n",
       "5070                Activo                                 -4.135417   \n",
       "\n",
       "      Monetary Actual (Escala ln)  $(F \\times W_F + M \\times W_M)$  \\\n",
       "1                       11.675754                        10.075040   \n",
       "2                       10.298884                         7.474829   \n",
       "3                       10.555552                         7.326391   \n",
       "4                       10.277129                         6.233931   \n",
       "6                       10.315796                         5.358226   \n",
       "...                           ...                              ...   \n",
       "5065                    10.280210                         5.936646   \n",
       "5067                    12.190846                         9.074795   \n",
       "5068                    10.739340                         7.872609   \n",
       "5069                    12.207943                        11.311842   \n",
       "5070                    10.264652                         6.129236   \n",
       "\n",
       "     identified_clusters         F-1  \n",
       "1                      1    4.956570  \n",
       "2                      0   16.845022  \n",
       "3                      0   25.258465  \n",
       "4                      3   57.008334  \n",
       "6                      3  142.247750  \n",
       "...                  ...         ...  \n",
       "5065                   3   76.981444  \n",
       "5067                   2   22.557123  \n",
       "5068                   4   17.579468  \n",
       "5069                   1    2.450031  \n",
       "5070                   3   62.515629  \n",
       "\n",
       "[3206 rows x 10 columns]"
      ]
     },
     "execution_count": 162,
     "metadata": {},
     "output_type": "execute_result"
    }
   ],
   "source": [
    "def_Col_cluster(RFM_df[RFM_df['Actividad del cliente']=='Activo'],Col,5)"
   ]
  },
  {
   "cell_type": "code",
   "execution_count": 163,
   "id": "5e9287b0",
   "metadata": {
    "scrolled": true
   },
   "outputs": [
    {
     "name": "stdout",
     "output_type": "stream",
     "text": [
      "5\n"
     ]
    },
    {
     "data": {
      "text/html": [
       "<div>\n",
       "<style scoped>\n",
       "    .dataframe tbody tr th:only-of-type {\n",
       "        vertical-align: middle;\n",
       "    }\n",
       "\n",
       "    .dataframe tbody tr th {\n",
       "        vertical-align: top;\n",
       "    }\n",
       "\n",
       "    .dataframe thead th {\n",
       "        text-align: right;\n",
       "    }\n",
       "</style>\n",
       "<table border=\"1\" class=\"dataframe\">\n",
       "  <thead>\n",
       "    <tr style=\"text-align: right;\">\n",
       "      <th></th>\n",
       "      <th>Recency Actual</th>\n",
       "      <th>Frecuency Actual del Cliente</th>\n",
       "      <th>Monetary Actual</th>\n",
       "      <th>Frecuency Actual del Cliente (Escala ln)</th>\n",
       "      <th>Monetary Actual (Escala ln)</th>\n",
       "      <th>$(F \\times W_F + M \\times W_M)$</th>\n",
       "      <th>F-1</th>\n",
       "    </tr>\n",
       "    <tr>\n",
       "      <th>identified_clusters</th>\n",
       "      <th></th>\n",
       "      <th></th>\n",
       "      <th></th>\n",
       "      <th></th>\n",
       "      <th></th>\n",
       "      <th></th>\n",
       "      <th></th>\n",
       "    </tr>\n",
       "  </thead>\n",
       "  <tbody>\n",
       "    <tr>\n",
       "      <th>0</th>\n",
       "      <td>21.408867</td>\n",
       "      <td>0.063909</td>\n",
       "      <td>588520.342559</td>\n",
       "      <td>-3.036602</td>\n",
       "      <td>13.053986</td>\n",
       "      <td>10.017384</td>\n",
       "      <td>27.754807</td>\n",
       "    </tr>\n",
       "    <tr>\n",
       "      <th>1</th>\n",
       "      <td>45.289530</td>\n",
       "      <td>0.011683</td>\n",
       "      <td>29676.150030</td>\n",
       "      <td>-4.513140</td>\n",
       "      <td>10.288914</td>\n",
       "      <td>5.775774</td>\n",
       "      <td>98.603559</td>\n",
       "    </tr>\n",
       "    <tr>\n",
       "      <th>2</th>\n",
       "      <td>10.676514</td>\n",
       "      <td>0.112543</td>\n",
       "      <td>45630.561418</td>\n",
       "      <td>-2.291885</td>\n",
       "      <td>10.676655</td>\n",
       "      <td>8.384770</td>\n",
       "      <td>10.965913</td>\n",
       "    </tr>\n",
       "    <tr>\n",
       "      <th>3</th>\n",
       "      <td>6.563147</td>\n",
       "      <td>0.167228</td>\n",
       "      <td>123488.966623</td>\n",
       "      <td>-1.920479</td>\n",
       "      <td>11.639853</td>\n",
       "      <td>9.719374</td>\n",
       "      <td>7.956589</td>\n",
       "    </tr>\n",
       "    <tr>\n",
       "      <th>4</th>\n",
       "      <td>27.234840</td>\n",
       "      <td>0.031076</td>\n",
       "      <td>35642.018023</td>\n",
       "      <td>-3.532111</td>\n",
       "      <td>10.426446</td>\n",
       "      <td>6.894335</td>\n",
       "      <td>36.288809</td>\n",
       "    </tr>\n",
       "  </tbody>\n",
       "</table>\n",
       "</div>"
      ],
      "text/plain": [
       "                     Recency Actual  Frecuency Actual del Cliente  \\\n",
       "identified_clusters                                                 \n",
       "0                         21.408867                      0.063909   \n",
       "1                         45.289530                      0.011683   \n",
       "2                         10.676514                      0.112543   \n",
       "3                          6.563147                      0.167228   \n",
       "4                         27.234840                      0.031076   \n",
       "\n",
       "                     Monetary Actual  \\\n",
       "identified_clusters                    \n",
       "0                      588520.342559   \n",
       "1                       29676.150030   \n",
       "2                       45630.561418   \n",
       "3                      123488.966623   \n",
       "4                       35642.018023   \n",
       "\n",
       "                     Frecuency Actual del Cliente (Escala ln)  \\\n",
       "identified_clusters                                             \n",
       "0                                                   -3.036602   \n",
       "1                                                   -4.513140   \n",
       "2                                                   -2.291885   \n",
       "3                                                   -1.920479   \n",
       "4                                                   -3.532111   \n",
       "\n",
       "                     Monetary Actual (Escala ln)  \\\n",
       "identified_clusters                                \n",
       "0                                      13.053986   \n",
       "1                                      10.288914   \n",
       "2                                      10.676655   \n",
       "3                                      11.639853   \n",
       "4                                      10.426446   \n",
       "\n",
       "                     $(F \\times W_F + M \\times W_M)$        F-1  \n",
       "identified_clusters                                              \n",
       "0                                          10.017384  27.754807  \n",
       "1                                           5.775774  98.603559  \n",
       "2                                           8.384770  10.965913  \n",
       "3                                           9.719374   7.956589  \n",
       "4                                           6.894335  36.288809  "
      ]
     },
     "execution_count": 163,
     "metadata": {},
     "output_type": "execute_result"
    }
   ],
   "source": [
    "df_resultado=def_Col_cluster(RFM_df[RFM_df['Actividad del cliente']=='Activo'],Col,5)\n",
    "df_resultado.groupby('identified_clusters').mean()"
   ]
  },
  {
   "cell_type": "markdown",
   "id": "12d58f96",
   "metadata": {},
   "source": [
    "###### con ajuste de W "
   ]
  },
  {
   "cell_type": "code",
   "execution_count": 98,
   "id": "dd38d4f9",
   "metadata": {},
   "outputs": [
    {
     "name": "stdout",
     "output_type": "stream",
     "text": [
      "5\n"
     ]
    },
    {
     "data": {
      "text/html": [
       "<div>\n",
       "<style scoped>\n",
       "    .dataframe tbody tr th:only-of-type {\n",
       "        vertical-align: middle;\n",
       "    }\n",
       "\n",
       "    .dataframe tbody tr th {\n",
       "        vertical-align: top;\n",
       "    }\n",
       "\n",
       "    .dataframe thead th {\n",
       "        text-align: right;\n",
       "    }\n",
       "</style>\n",
       "<table border=\"1\" class=\"dataframe\">\n",
       "  <thead>\n",
       "    <tr style=\"text-align: right;\">\n",
       "      <th></th>\n",
       "      <th>Recency Actual</th>\n",
       "      <th>Frecuency Actual del Cliente</th>\n",
       "      <th>Monetary Actual</th>\n",
       "      <th>$(F \\times W_F + M \\times W_M)$</th>\n",
       "      <th>F-1</th>\n",
       "    </tr>\n",
       "    <tr>\n",
       "      <th>identified_clusters</th>\n",
       "      <th></th>\n",
       "      <th></th>\n",
       "      <th></th>\n",
       "      <th></th>\n",
       "      <th></th>\n",
       "    </tr>\n",
       "  </thead>\n",
       "  <tbody>\n",
       "    <tr>\n",
       "      <th>0</th>\n",
       "      <td>43.046392</td>\n",
       "      <td>0.013251</td>\n",
       "      <td>3.073829e+04</td>\n",
       "      <td>3.073830e+04</td>\n",
       "      <td>89.431477</td>\n",
       "    </tr>\n",
       "    <tr>\n",
       "      <th>1</th>\n",
       "      <td>6.202759</td>\n",
       "      <td>0.159224</td>\n",
       "      <td>6.321101e+04</td>\n",
       "      <td>6.321117e+04</td>\n",
       "      <td>7.536389</td>\n",
       "    </tr>\n",
       "    <tr>\n",
       "      <th>2</th>\n",
       "      <td>27.636364</td>\n",
       "      <td>0.065449</td>\n",
       "      <td>1.113426e+06</td>\n",
       "      <td>1.113426e+06</td>\n",
       "      <td>25.283544</td>\n",
       "    </tr>\n",
       "    <tr>\n",
       "      <th>3</th>\n",
       "      <td>23.082314</td>\n",
       "      <td>0.043773</td>\n",
       "      <td>3.627197e+04</td>\n",
       "      <td>3.627202e+04</td>\n",
       "      <td>26.815597</td>\n",
       "    </tr>\n",
       "    <tr>\n",
       "      <th>4</th>\n",
       "      <td>13.235795</td>\n",
       "      <td>0.098081</td>\n",
       "      <td>2.341162e+05</td>\n",
       "      <td>2.341163e+05</td>\n",
       "      <td>19.232968</td>\n",
       "    </tr>\n",
       "  </tbody>\n",
       "</table>\n",
       "</div>"
      ],
      "text/plain": [
       "                     Recency Actual  Frecuency Actual del Cliente  \\\n",
       "identified_clusters                                                 \n",
       "0                         43.046392                      0.013251   \n",
       "1                          6.202759                      0.159224   \n",
       "2                         27.636364                      0.065449   \n",
       "3                         23.082314                      0.043773   \n",
       "4                         13.235795                      0.098081   \n",
       "\n",
       "                     Monetary Actual  $(F \\times W_F + M \\times W_M)$  \\\n",
       "identified_clusters                                                     \n",
       "0                       3.073829e+04                     3.073830e+04   \n",
       "1                       6.321101e+04                     6.321117e+04   \n",
       "2                       1.113426e+06                     1.113426e+06   \n",
       "3                       3.627197e+04                     3.627202e+04   \n",
       "4                       2.341162e+05                     2.341163e+05   \n",
       "\n",
       "                           F-1  \n",
       "identified_clusters             \n",
       "0                    89.431477  \n",
       "1                     7.536389  \n",
       "2                    25.283544  \n",
       "3                    26.815597  \n",
       "4                    19.232968  "
      ]
     },
     "execution_count": 98,
     "metadata": {},
     "output_type": "execute_result"
    }
   ],
   "source": [
    "w_f,w_m=(1,1)\n",
    "RFM_df_i=Df_Pond_FxM(RFM_Customers\\\n",
    "                     [RFM_Customers['Actividad del cliente']=='Activo']\n",
    "                     ,w_f,w_m)\n",
    "rfm_clust=def_Col_cluster(\n",
    "    RFM_df_i[RFM_df_i['Actividad del cliente']=='Activo']\n",
    "    ,Col,5)\n",
    "rfm_clust.groupby('identified_clusters').mean()"
   ]
  },
  {
   "cell_type": "code",
   "execution_count": 99,
   "id": "18a00b13",
   "metadata": {},
   "outputs": [
    {
     "data": {
      "text/plain": [
       "Index(['Cliente', 'Recency Actual', 'Frecuency Actual del Cliente',\n",
       "       'Monetary Actual', 'Actividad del cliente',\n",
       "       '$(F \\times W_F + M \\times W_M)$', 'identified_clusters', 'F-1'],\n",
       "      dtype='object')"
      ]
     },
     "execution_count": 99,
     "metadata": {},
     "output_type": "execute_result"
    }
   ],
   "source": [
    "rfm_clust.columns"
   ]
  },
  {
   "cell_type": "code",
   "execution_count": 111,
   "id": "706b0c73",
   "metadata": {
    "scrolled": true
   },
   "outputs": [
    {
     "name": "stdout",
     "output_type": "stream",
     "text": [
      "F-1\n",
      "Frecuency Actual del Cliente\n",
      "Monetary Actual\n"
     ]
    },
    {
     "data": {
      "image/png": "[encoded data removed]",
      "text/plain": [
       "<Figure size 640x480 with 1 Axes>"
      ]
     },
     "metadata": {},
     "output_type": "display_data"
    },
    {
     "data": {
      "text/plain": [
       "<ggplot: (149697075703)>"
      ]
     },
     "execution_count": 111,
     "metadata": {},
     "output_type": "execute_result"
    }
   ],
   "source": [
    "(\n",
    "    ggplot( data_ln(rfm_clust,\n",
    "                   ['F-1','Frecuency Actual del Cliente','Monetary Actual'])\n",
    "           \n",
    "           , aes(y='Monetary Actual',\n",
    "                          x='F-1'\n",
    "#                              'Frecuency Actual del Cliente'\n",
    "#                              'F-1'\n",
    "                         ,fill='identified_clusters'\n",
    "                            ,color='identified_clusters'\n",
    "                         ))\\\n",
    "#                 + labs(y='Disposición a pagar')\\\n",
    "                + geom_point(\n",
    "#         aes(color='Cluster de Clientes'),\n",
    "        alpha=0.7)\\\n",
    "#                 +geom_smooth()\\\n",
    "#                 +ggtitle(('Dispersión Clusters Clientes'+\n",
    "#                           ' \\n Disposición a pagar v/s '+\n",
    "#                          'Cluster de Semana'))\\\n",
    "            +ggtitle('DispersionCluster clientes'+\n",
    "                     '\\n ($W_M $'+str(w_f)+', $W_M$ '+str(w_m) +')'\n",
    "                     )\n",
    "               +theme(axis_text_x = element_text(angle=90, hjust=1))\\\n",
    "\n",
    "\n",
    "    )\n"
   ]
  },
  {
   "cell_type": "code",
   "execution_count": 78,
   "id": "de9d98c3",
   "metadata": {},
   "outputs": [
    {
     "data": {
      "text/plain": [
       "0.22"
      ]
     },
     "execution_count": 78,
     "metadata": {},
     "output_type": "execute_result"
    }
   ],
   "source": [
    "np.round(0.22,2)"
   ]
  },
  {
   "cell_type": "code",
   "execution_count": 80,
   "id": "64f10f71",
   "metadata": {},
   "outputs": [
    {
     "data": {
      "text/plain": [
       "[0.0, 0.1, 0.2, 0.3, 0.4, 0.5, 0.6, 0.7, 0.8, 0.9]"
      ]
     },
     "execution_count": 80,
     "metadata": {},
     "output_type": "execute_result"
    }
   ],
   "source": []
  },
  {
   "cell_type": "code",
   "execution_count": 87,
   "id": "98dc4ba6",
   "metadata": {
    "collapsed": true
   },
   "outputs": [
    {
     "name": "stdout",
     "output_type": "stream",
     "text": [
      "5\n",
      "5\n",
      "5\n",
      "5\n",
      "5\n",
      "5\n",
      "5\n",
      "5\n",
      "5\n",
      "5\n",
      "5\n",
      "5\n",
      "5\n",
      "5\n",
      "5\n",
      "5\n",
      "5\n",
      "5\n",
      "5\n",
      "5\n",
      "5\n",
      "5\n",
      "5\n",
      "5\n",
      "5\n",
      "5\n",
      "5\n",
      "5\n",
      "5\n",
      "5\n",
      "5\n",
      "5\n",
      "5\n",
      "5\n",
      "5\n",
      "5\n",
      "5\n",
      "5\n",
      "5\n",
      "5\n",
      "5\n",
      "5\n",
      "5\n",
      "5\n",
      "5\n",
      "5\n",
      "5\n",
      "5\n",
      "5\n",
      "5\n",
      "5\n",
      "5\n",
      "5\n",
      "5\n",
      "5\n",
      "5\n",
      "5\n",
      "5\n",
      "5\n",
      "5\n",
      "5\n",
      "5\n",
      "5\n",
      "5\n",
      "5\n",
      "5\n",
      "5\n",
      "5\n",
      "5\n",
      "5\n",
      "5\n",
      "5\n",
      "5\n",
      "5\n",
      "5\n",
      "5\n",
      "5\n",
      "5\n",
      "5\n",
      "5\n",
      "5\n",
      "5\n",
      "5\n",
      "5\n",
      "5\n",
      "5\n",
      "5\n",
      "5\n",
      "5\n",
      "5\n",
      "5\n",
      "5\n",
      "5\n",
      "5\n",
      "5\n",
      "5\n",
      "5\n",
      "5\n",
      "5\n",
      "5\n"
     ]
    }
   ],
   "source": [
    "Gplot=[]\n",
    "for f in range(10):\n",
    "    for m in range(10):\n",
    "        w_f = np.round(f*0.1,2)\n",
    "        w_m = np.round(m*0.1,2)\n",
    "        Gplot.append\\\n",
    "        (\n",
    "            ggplot(\n",
    "                def_Col_cluster(\n",
    "                Df_Pond_FxM(RFM_Customers\\\n",
    "                             [RFM_Customers['Actividad del cliente']=='Activo']\n",
    "                             ,w_f,w_m)\n",
    "                   ,Col,5)\n",
    "                   , aes(y='Monetary Actual',\n",
    "                                  x='F-1'\n",
    "                                 ,fill='identified_clusters'\n",
    "                                    ,color='identified_clusters'\n",
    "                                 ))\\\n",
    "        #                 + labs(y='Disposición a pagar')\\\n",
    "                        + geom_point(\n",
    "        #         aes(color='Cluster de Clientes'),\n",
    "                alpha=0.7)\\\n",
    "        #                 +geom_smooth()\\\n",
    "        #                 +ggtitle(('Dispersión Clusters Clientes'+\n",
    "        #                           ' \\n Disposición a pagar v/s '+\n",
    "        #                          'Cluster de Semana'))\\\n",
    "            +ggtitle('DispersionCluster clientes'+\n",
    "                      '\\n ($W_M $'+str(w_f)+', $W_M$ '+str(w_m) +')'\n",
    "                     )\n",
    "        #                           ' \\n Disposición a pagar v/s '+\n",
    "        #                          'Cluster de Semana'))\\\n",
    "\n",
    "                       +theme(figure_size=(3,3)\n",
    "        #                         axis_text_x = element_text(angle=90,hjust=1)\n",
    "                                                    )\\\n",
    "\n",
    "        )\n"
   ]
  },
  {
   "cell_type": "markdown",
   "id": "2762da79",
   "metadata": {
    "scrolled": true
   },
   "source": [
    "```python\n",
    "file_name=('Tipos Clust Activo RFM W_m w_F')\n",
    "\n",
    "pngfill=      Png_file_direct_Graphic_Canal_Material\\\n",
    "        +\"\\\\Cluster\\\\RFM\"\n",
    "\n",
    "start_time = time.time()\n",
    "save_as_pdf_pages(\n",
    "                    Gplot\n",
    "                    ,pngfill \n",
    "            +\"\\\\\"+ file_name + \".pdf\")\n",
    "time_convert(time.time()-start_time)\n",
    "```"
   ]
  }
 ],
 "metadata": {
  "celltoolbar": "Raw Cell Format",
  "kernelspec": {
   "display_name": "Python 3",
   "language": "python",
   "name": "python3"
  },
  "language_info": {
   "codemirror_mode": {
    "name": "ipython",
    "version": 3
   },
   "file_extension": ".py",
   "mimetype": "text/x-python",
   "name": "python",
   "nbconvert_exporter": "python",
   "pygments_lexer": "ipython3",
   "version": "3.8.5"
  },
  "toc": {
   "base_numbering": 1,
   "nav_menu": {
    "height": "89px",
    "width": "334px"
   },
   "number_sections": true,
   "sideBar": true,
   "skip_h1_title": false,
   "title_cell": "Table of Contents",
   "title_sidebar": "Contents",
   "toc_cell": false,
   "toc_position": {
    "height": "calc(100% - 180px)",
    "left": "10px",
    "top": "150px",
    "width": "245.043px"
   },
   "toc_section_display": true,
   "toc_window_display": true
  }
 },
 "nbformat": 4,
 "nbformat_minor": 5
}
