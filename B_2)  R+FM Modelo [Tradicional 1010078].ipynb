{
 "cells": [
  {
   "cell_type": "markdown",
   "id": "0b65c7b6",
   "metadata": {},
   "source": [
    "Available Themes: \n",
    "- chesterish\n",
    "- grade3\n",
    "- gruvboxd\n",
    "- gruvboxl\n",
    "    color beach, letras negras\n",
    "- monokai\n",
    "- oceans16\n",
    "- onedork\n",
    "- solarizedd\n",
    "- solarizedl\n",
    "    color beach mas claro"
   ]
  },
  {
   "cell_type": "code",
   "execution_count": 1,
   "id": "aa7a547e",
   "metadata": {},
   "outputs": [],
   "source": [
    "# !jt -l\n",
    "# !jt -t solarizedl -T\n",
    "# !jt -r"
   ]
  },
  {
   "cell_type": "markdown",
   "id": "37df9336",
   "metadata": {
    "heading_collapsed": true
   },
   "source": [
    "## Listado de cosas pendientes\n",
    "\n"
   ]
  },
  {
   "cell_type": "markdown",
   "id": "8e317dae",
   "metadata": {
    "hidden": true
   },
   "source": [
    "\n",
    "__Clusterings a desarrollar__\n",
    "1. [X] Clustering RFM+\n",
    "2. [ ] Clustering RF KG Valoración\n",
    "3. [ ] Clustering RFM KG Valoración\n",
    "4. [ ] Clustering RFM KG Valoración\n",
    "\n",
    "\n",
    "\n",
    "\n",
    "\n",
    "__Pasos RFM__\n",
    "1. [X] Data Customer All\n",
    "2. [X] Data Facturas All\n",
    "3. [X] Construcción Caracteristicas a usar\n",
    "    - [X] Un modelo por cada week tipe\n",
    "    - [X] Modelo que reemplza W por $C_W$\n",
    "3. [X] Dispersión puntos RFM\n",
    "4. [X] Modelo Clustering de R+FM\n",
    "    - [X] Defionir R, aparte\n",
    "    - [X] Defionir FxM\n",
    "    - [X] Calcular Clustering FxM\n",
    "5. [ ] Descripción del Cluster contruido por R+FM\n"
   ]
  },
  {
   "cell_type": "markdown",
   "id": "21ed6134",
   "metadata": {
    "heading_collapsed": true
   },
   "source": [
    "## Apuntes\n"
   ]
  },
  {
   "cell_type": "markdown",
   "id": "e05ad59c",
   "metadata": {
    "hidden": true
   },
   "source": [
    "La disposicipon de pago, se construye por etapas.\n",
    "\n",
    "1. [ ] Se define el modelo de regresión general:\n",
    "   1. [ ] Como forma introductoria **qué es** (Ecuación).\n",
    "   2. [ ] Se presenta un rago de precios para este modelo de regresión, por medio de un grafico de dispersión.\n",
    "   3. [ ] Explicación de lo que representan los coeficientes del modelo.\n",
    "   4. [ ] Diferencias entre la interpretación de estos si es Log()/Nivel.\n",
    "2. [ ] Se recoge el atributo del modelo llamado Semanas, estas Poseen la particularidad de influir en el precio, como se mencionó anteriormente, es por ello que se adieren en el modelo.\n",
    "3. [ ] Las semanas."
   ]
  },
  {
   "cell_type": "markdown",
   "id": "48cc505f",
   "metadata": {},
   "source": [
    "# Inicio\n"
   ]
  },
  {
   "cell_type": "markdown",
   "id": "7c2a8234",
   "metadata": {},
   "source": [
    "\n",
    "__Rename__\n",
    "Recordar que la columna llamada\n",
    "\n",
    "- `Precio promedio` ahora es `Precio`\n",
    "- `Centro.1` ahora es `Centro`\n",
    "- `Centro` ahora es `Centro_Cod`\n",
    "\n",
    "Presenta los parametros del modelo:\n",
    "\n",
    "- Dirección datos\n",
    "- Dirección Graficos\n",
    "- _Material a analizar_\n",
    "- _Canal a analizar_\n",
    "- _Zona de los Datos_\n",
    "- _Año de inicio de analizis_\n",
    "\n",
    "Base de datos\n",
    "\n",
    "\n",
    "`Tipo_de_Cliente`\n",
    "`Y_producto`\n",
    "`Año_inicio`\n",
    "\n",
    "`file_direct_Graphic` "
   ]
  },
  {
   "cell_type": "markdown",
   "id": "8bad43fc",
   "metadata": {},
   "source": [
    "## Parametros \n",
    "data frame `data_i`\n",
    "\n",
    "\n",
    "> - Producto `i_producto = Y_producto`\n",
    "> -Para el Canal `Tipo_de_Cliente`\n",
    "> -Variable a predecir/Grafico `Y_Variable`\n",
    "\n",
    "Columnas de interes para predecir `X_col`\n",
    "\n",
    "Diccionario del grupo de columnas `Dic_col`"
   ]
  },
  {
   "cell_type": "code",
   "execution_count": 2,
   "id": "a0737e98",
   "metadata": {},
   "outputs": [],
   "source": [
    "#===================================\n",
    "# Archivo\n",
    "#===================================\n",
    "Zona_df='Z001'\n",
    "\n",
    "#===================================\n",
    "# Clientes\n",
    "#===================================\n",
    "Tipo_de_Cliente='Tradicional'\n",
    "\n",
    "#===================================\n",
    "# Producto de interes\n",
    "#===================================\n",
    "Y_producto='1010078'\n",
    "\n",
    "\n",
    "#===================================\n",
    "# Año de Partida\n",
    "#===================================\n",
    "Año_inicio='2018'\n",
    "\n",
    "\n",
    "\n",
    "\n",
    "# Ordenador de escritorio\n",
    "\n",
    "file_direct_O=\"C:/Users/user/Documents/Data/Data Clear/\"+Zona_df+\"/\"\n",
    "file_direct_Clear=\"C:/Users/user/Documents/Data/Data Clear/\"\n",
    "file_direct_Graphic='C:/Users/user/Documents/Graficos'\n",
    "Png_file_direct_Graphic=\"C:\\\\Users\\\\user\\\\Documents\\\\Graficos\"\n",
    "file_direct_Result_Data=\"C:/Users/user/Documents/Data/Data Resultante/\"+Zona_df+\"/\"\n",
    "\"\"\"\n",
    "\n",
    "#Notebook\n",
    "file_direct_O=\"C:/Users/rolft/Documents/Repositorios/Data/Data Clear/\"+Zona_df+\"/\"\n",
    "file_direct_Clear=\"C:/Users/rolft/Documents/Repositorios/Data/Data Clear/\"\n",
    "file_direct_Graphic='C:/Users/rolft/Documents/Repositorios/Graficos'\n",
    "Png_file_direct_Graphic='C:\\\\Users\\\\rolft\\\\Documents\\\\Repositorios\\\\Graficos'\n",
    "\"\"\"\n",
    "#Graficos\n",
    "file_direct_Graphic_Canal=file_direct_Graphic+\"/\"+Tipo_de_Cliente\n",
    "file_direct_Graphic_Canal_Material=file_direct_Graphic_Canal+'/'+Y_producto\n",
    "\n",
    "Png_file_direct_Graphic_Canal=Png_file_direct_Graphic+'\\\\'+'Canal '+Tipo_de_Cliente\n",
    "Png_file_direct_Graphic_Canal_Material=Png_file_direct_Graphic_Canal+'\\\\'+Y_producto\n"
   ]
  },
  {
   "cell_type": "markdown",
   "id": "f80e374d",
   "metadata": {},
   "source": [
    "## Intalar paquetes, Abrir data y ajustarla "
   ]
  },
  {
   "cell_type": "markdown",
   "id": "27dbf202",
   "metadata": {},
   "source": [
    "#### Base Generales"
   ]
  },
  {
   "cell_type": "code",
   "execution_count": 3,
   "id": "faaa036d",
   "metadata": {
    "scrolled": true
   },
   "outputs": [],
   "source": [
    "#from adjustText import adjust_text\n",
    "# from adjustText import *"
   ]
  },
  {
   "cell_type": "code",
   "execution_count": 4,
   "id": "0ea91ad7",
   "metadata": {},
   "outputs": [],
   "source": [
    "#=====================================================\n",
    "                # BASE \n",
    "#-----------------------------------------------------\n",
    "import pandas as pd\n",
    "import numpy as np\n",
    "import matplotlib.pyplot as plt\n",
    "\n",
    "#from geopandas import *\n",
    "\n",
    "from plotnine import *\n",
    "\n",
    "#para ajustar las fechas\n",
    "import datetime\n",
    "\n",
    "#para calcular el skew de un array() o list()\n",
    "from scipy.stats import skew "
   ]
  },
  {
   "cell_type": "code",
   "execution_count": 5,
   "id": "8916d4cd",
   "metadata": {},
   "outputs": [],
   "source": [
    "#=====================================================\n",
    "                # sklearn \n",
    "#-----------------------------------------------------\n",
    "\n",
    "#Separador de datos en train/test\n",
    "from sklearn.model_selection import train_test_split\n",
    "\n",
    "#Prediccion Ridge Regression\n",
    "from sklearn.linear_model import Ridge"
   ]
  },
  {
   "cell_type": "code",
   "execution_count": 6,
   "id": "8d82be85",
   "metadata": {},
   "outputs": [],
   "source": [
    "#=====================================================\n",
    "                # statsmodels \n",
    "#-----------------------------------------------------\n",
    "import statsmodels.api as sm\n",
    "import statsmodels.formula.api as smf\n",
    "from statsmodels.tools.sm_exceptions import ConvergenceWarning\n",
    "\n",
    "\n",
    "#from statsmodels.regression.mixed_linear_model import MixedLMResults\n",
    "# No se para qué sirve este"
   ]
  },
  {
   "cell_type": "code",
   "execution_count": 7,
   "id": "734ff701",
   "metadata": {},
   "outputs": [],
   "source": [
    "#====================================================\n",
    "#librerias para crear division de series temporales\n",
    "#====================================================\n",
    "\n",
    "from mizani.breaks import date_breaks\n",
    "from mizani.formatters import date_format"
   ]
  },
  {
   "cell_type": "code",
   "execution_count": 8,
   "id": "34160d20",
   "metadata": {},
   "outputs": [],
   "source": [
    "# stopwatch\n",
    "import time\n",
    "def time_convert(sec):\n",
    "  mins = sec // 60\n",
    "  sec = sec % 60\n",
    "  hours = mins // 60\n",
    "  mins = mins % 60\n",
    "  print(\"Time Lapsed = {0}:{1}:{2}\".format(int(hours),int(mins),sec),'\\n H:m:s')\n",
    "#==================================\n",
    "#          Example\n",
    "#    input(\"Press Enter to start\")\n",
    "start_time = time.time()\n",
    "#    input(\"Press Enter to stop\")\n",
    "#    end_time = time.time()\n",
    "#    time_lapsed = end_time - start_time\n",
    "#    time_convert(time_lapsed)\n",
    "#================================="
   ]
  },
  {
   "cell_type": "code",
   "execution_count": 9,
   "id": "b400675d",
   "metadata": {},
   "outputs": [],
   "source": [
    "#Histograma con porcentajes\n",
    "from mizani.formatters import percent_format"
   ]
  },
  {
   "cell_type": "markdown",
   "id": "c41b992c",
   "metadata": {},
   "source": [
    "### Propios"
   ]
  },
  {
   "cell_type": "code",
   "execution_count": 10,
   "id": "14581f8c",
   "metadata": {},
   "outputs": [],
   "source": [
    "import data_read as dr\n",
    "import R_FM_Func"
   ]
  },
  {
   "cell_type": "markdown",
   "id": "0e0194b5",
   "metadata": {},
   "source": [
    "### Funciones Propias\n",
    "```python\n",
    "#Mes_name\n",
    "data_i.Mes.apply(Mes_name)\n",
    "```\n",
    ">Transforma la columna mes numerica en el nombre del mes"
   ]
  },
  {
   "cell_type": "markdown",
   "id": "66a752f5",
   "metadata": {},
   "source": [
    "#### Numero a Meses "
   ]
  },
  {
   "cell_type": "markdown",
   "id": "76bc8afd",
   "metadata": {},
   "source": [
    "__Forma de crear una etiqueta para un valor especifico__\n",
    "```python\n",
    "#[Y_Graph]\n",
    "dfz=df.copy()\n",
    "dfz['Año select']=dfz.apply( lambda x: x['Año'] if x['Año']==2020 else '',axis=1)\n",
    "dfz\n",
    "```"
   ]
  },
  {
   "cell_type": "code",
   "execution_count": 11,
   "id": "ad8627c9",
   "metadata": {},
   "outputs": [],
   "source": [
    "#===================================\n",
    "# Dicionario MES\n",
    "#===================================\n",
    "\n",
    "#===================================\n",
    "# Fecha\n",
    "D=['Enero','Febrero','Marzo','Abril',\n",
    " 'Mayo','Junio','Julio','Agosto',\n",
    " 'Septiembre','Octubre',\n",
    " 'Noviembre','Diciembre']\n",
    "Month_dic={i:D[i-1]  for i in range(1,13)}\n",
    "#===========================================\n",
    "\n",
    "\n",
    "def Mes_name(x):\n",
    "    D=['Enero','Febrero','Marzo','Abril',\n",
    "    'Mayo','Junio','Julio','Agosto',\n",
    "    'Septiembre','Octubre',\n",
    "    'Noviembre','Diciembre']\n",
    "    return(D[int(x)-1])"
   ]
  },
  {
   "cell_type": "markdown",
   "id": "526cdb46",
   "metadata": {},
   "source": [
    "#### Función estandariza ciertas columnas a LN "
   ]
  },
  {
   "cell_type": "code",
   "execution_count": 12,
   "id": "c11c18d1",
   "metadata": {},
   "outputs": [],
   "source": [
    "# ['Frecuency Actual del Cliente','Monetary Actual']\n",
    "def data_ln(dx,ln_col,drop_columns):\n",
    "    \"\"\"\n",
    "    Pasa un listado de columnas a Ln\n",
    "    \n",
    "        dx: dataframe\n",
    "        ln_col: (Array) Listado de columnas a escalar \n",
    "        drop_columns: (True or False)  Eliminar columnas del listado\n",
    "    \"\"\"\n",
    "    df_x=dx.copy()\n",
    "    for s in ln_col:\n",
    "        if(s in df_x.columns):\n",
    "            print(s)\n",
    "            df_x[s + '(Escala ln)']=\\\n",
    "            df_x[s].apply(lambda x: np.log(x))\n",
    "    if(drop_columns):\n",
    "        df_x.drop(columns = ln_col)\n",
    "    return(df_x)"
   ]
  },
  {
   "cell_type": "markdown",
   "id": "b646c867",
   "metadata": {},
   "source": [
    "## Dicionario \n",
    "rename aplicado a `Precio promedio`"
   ]
  },
  {
   "cell_type": "code",
   "execution_count": 13,
   "id": "4a726445",
   "metadata": {},
   "outputs": [],
   "source": [
    "Dic_col={'Base':\n",
    "                             ['Material (Nombre)', 'Kilos Venta KG', 'Precio','Cliente'],\n",
    "        'Fecha':\n",
    "                             ['Día natural','Día Semana','Semana', 'Mes', 'Año'],\n",
    "        'Ubicacion':\n",
    "                             ['Centro','Población'],\n",
    "        'Cliente Categoria':\n",
    "                             ['Cluster','Segmento.1', 'Categoría Cliente'],\n",
    "        'Cliente Atributos':\n",
    "                             ['Año Creación', 'Material Favorito','Frecuencia Historica'] \n",
    "         ,'RFM Row':\n",
    "                 ['Recency días','Frecuency_Row','Monetary']\n",
    "        ,'RFM Customers':\n",
    "                 ['Recency Actual','Frecuency Actual del Cliente','Monetary Actual']\n",
    "        ,'Ticket Row':\n",
    "                 ['Ticket Promedio','Ticket CV']\n",
    "        ,'Ticket Customers':\n",
    "                 ['Ticket Promedio Actual','Ticket CV Actual']\n",
    "        }"
   ]
  },
  {
   "cell_type": "markdown",
   "id": "38e12a83",
   "metadata": {},
   "source": [
    "### Colores \n",
    "\n",
    "[Link colores muestra y configuración](https://www.rapidtables.com/web/color/RGB_Color.html)"
   ]
  },
  {
   "cell_type": "code",
   "execution_count": 14,
   "id": "dbbf1e78",
   "metadata": {},
   "outputs": [
    {
     "data": {
      "text/plain": [
       "'57DB5F'"
      ]
     },
     "execution_count": 14,
     "metadata": {},
     "output_type": "execute_result"
    }
   ],
   "source": [
    "('{:X}{:X}{:X}').format(31, 119, 180)\n",
    "('{:X}{:X}{:X}').format(219, 96, 97)\n",
    "('{:X}{:X}{:X}').format(87, 219, 95)"
   ]
  },
  {
   "cell_type": "markdown",
   "id": "f5e71982",
   "metadata": {},
   "source": [
    "## Datos\n",
    "- `data_rfm`: Facturaciones \n",
    "- `Data_Customers_Full`: Clientes con todos los atributos\n",
    "<!-- - `Df_Week`: Semanas, Con su respectivo cluster  -->"
   ]
  },
  {
   "cell_type": "markdown",
   "id": "f75ddb6a",
   "metadata": {},
   "source": [
    "### Factuas con Week Tipe\n",
    "`data_rfm`"
   ]
  },
  {
   "cell_type": "code",
   "execution_count": 15,
   "id": "e3ab4bd1",
   "metadata": {},
   "outputs": [
    {
     "name": "stdout",
     "output_type": "stream",
     "text": [
      "C:/Users/user/Documents/Data/Data Clear/Z001/data_1010078_CT R.csv\n",
      "R (198596, 19)\n",
      "C:/Users/user/Documents/Data/Data Clear/Z001/data_1010078_CT F.csv\n",
      "F (198596, 19)\n",
      "C:/Users/user/Documents/Data/Data Clear/Z001/data_1010078_CT M.csv\n",
      "M (198596, 20)\n",
      "------------------------------------------------\n",
      "Merge\n",
      "RF (198596, 20)\n",
      "RFM (198596, 22)\n",
      "Material (Nombre)       object\n",
      "Kilos Venta KG           int64\n",
      "Precio                   int64\n",
      "Día natural             object\n",
      "Día Semana              object\n",
      "Semana                  object\n",
      "Mes                     object\n",
      "Año                     object\n",
      "Población               object\n",
      "Centro                  object\n",
      "Cliente                 object\n",
      "Cluster                 object\n",
      "Segmento.1              object\n",
      "Categoría Cliente       object\n",
      "Año Creación            object\n",
      "Material Favorito       object\n",
      "Frecuencia Historica    object\n",
      "Mes_num                 object\n",
      "Recency                 object\n",
      "Frecuency_Row            int64\n",
      "Ingreso de Venta CLP     int64\n",
      "Monetary                 int64\n",
      "Recency días             int64\n",
      "dtype: object\n",
      "Variable                               object\n",
      "Atributo                               object\n",
      "Semana                                 object\n",
      "Ingresos de Venta                     float64\n",
      "Cant compras                          float64\n",
      "Precio Promedio Ponderado CLP / KG    float64\n",
      "Ventas promedio Kg                    float64\n",
      "Precio Promedio                       float64\n",
      "Coef.                                 float64\n",
      "$e^{βi}$                              float64\n",
      "$\\%\\triangle Y$                       float64\n",
      "Tipo de Semana                         object\n",
      "dtype: object\n",
      "0\n"
     ]
    }
   ],
   "source": [
    "data_rfm=dr.RFM_Data_func(file_direct_O)\n",
    "data_rfm=dr.Ajuste_data_RFM(data_rfm)\n",
    "data_rfm=dr.Merge_Week(file_direct_O,data_rfm)\n"
   ]
  },
  {
   "cell_type": "markdown",
   "id": "e95413d4",
   "metadata": {},
   "source": [
    "### Data Clientes\n",
    "`Data_Customers_Full`\n"
   ]
  },
  {
   "cell_type": "markdown",
   "id": "3bd35ca2",
   "metadata": {},
   "source": [
    "#### RFM\n",
    "`Customers_data`"
   ]
  },
  {
   "cell_type": "code",
   "execution_count": 16,
   "id": "1513a90f",
   "metadata": {},
   "outputs": [
    {
     "name": "stdout",
     "output_type": "stream",
     "text": [
      "Cliente                           object\n",
      "Fecha ultima Compra               object\n",
      "Recency Actual                     int64\n",
      "Fecha Creacion                    object\n",
      "Frecuency Actual del Cliente     float64\n",
      "Kilos Venta KG Promedio          float64\n",
      "Precio Promedio                  float64\n",
      "Año Creación Promedio              int64\n",
      "Frecuencia Historica Promedio      int64\n",
      "Ingreso de Venta Promedio        float64\n",
      "dtype: object\n",
      "(5073, 10)\n"
     ]
    },
    {
     "data": {
      "text/html": [
       "<div>\n",
       "<style scoped>\n",
       "    .dataframe tbody tr th:only-of-type {\n",
       "        vertical-align: middle;\n",
       "    }\n",
       "\n",
       "    .dataframe tbody tr th {\n",
       "        vertical-align: top;\n",
       "    }\n",
       "\n",
       "    .dataframe thead th {\n",
       "        text-align: right;\n",
       "    }\n",
       "</style>\n",
       "<table border=\"1\" class=\"dataframe\">\n",
       "  <thead>\n",
       "    <tr style=\"text-align: right;\">\n",
       "      <th></th>\n",
       "      <th>Cliente</th>\n",
       "      <th>Fecha ultima Compra</th>\n",
       "      <th>Recency Actual</th>\n",
       "      <th>Fecha Creacion</th>\n",
       "      <th>Frecuency Actual del Cliente</th>\n",
       "      <th>Kilos Venta KG Promedio</th>\n",
       "      <th>Precio Promedio</th>\n",
       "      <th>Año Creación Promedio</th>\n",
       "      <th>Frecuencia Historica Promedio</th>\n",
       "      <th>Monetary Actual</th>\n",
       "    </tr>\n",
       "  </thead>\n",
       "  <tbody>\n",
       "    <tr>\n",
       "      <th>0</th>\n",
       "      <td>10003742</td>\n",
       "      <td>2020-05-23</td>\n",
       "      <td>521</td>\n",
       "      <td>2020-05-23</td>\n",
       "      <td>0.003344</td>\n",
       "      <td>22.000000</td>\n",
       "      <td>1300.000000</td>\n",
       "      <td>2007</td>\n",
       "      <td>19</td>\n",
       "      <td>28600.000000</td>\n",
       "    </tr>\n",
       "    <tr>\n",
       "      <th>1</th>\n",
       "      <td>10007508</td>\n",
       "      <td>2021-10-26</td>\n",
       "      <td>0</td>\n",
       "      <td>2018-03-01</td>\n",
       "      <td>0.201752</td>\n",
       "      <td>93.158654</td>\n",
       "      <td>1266.894231</td>\n",
       "      <td>2007</td>\n",
       "      <td>464</td>\n",
       "      <td>117683.471154</td>\n",
       "    </tr>\n",
       "    <tr>\n",
       "      <th>2</th>\n",
       "      <td>10017269</td>\n",
       "      <td>2021-10-23</td>\n",
       "      <td>3</td>\n",
       "      <td>2018-01-27</td>\n",
       "      <td>0.059365</td>\n",
       "      <td>22.038462</td>\n",
       "      <td>1347.782051</td>\n",
       "      <td>2007</td>\n",
       "      <td>101</td>\n",
       "      <td>29699.448718</td>\n",
       "    </tr>\n",
       "    <tr>\n",
       "      <th>3</th>\n",
       "      <td>10023880</td>\n",
       "      <td>2021-09-09</td>\n",
       "      <td>47</td>\n",
       "      <td>2018-12-28</td>\n",
       "      <td>0.039591</td>\n",
       "      <td>27.500000</td>\n",
       "      <td>1400.000000</td>\n",
       "      <td>2007</td>\n",
       "      <td>383</td>\n",
       "      <td>38390.000000</td>\n",
       "    </tr>\n",
       "    <tr>\n",
       "      <th>4</th>\n",
       "      <td>10028999</td>\n",
       "      <td>2021-09-24</td>\n",
       "      <td>32</td>\n",
       "      <td>2019-11-05</td>\n",
       "      <td>0.017541</td>\n",
       "      <td>22.000000</td>\n",
       "      <td>1320.923077</td>\n",
       "      <td>2007</td>\n",
       "      <td>62</td>\n",
       "      <td>29060.307692</td>\n",
       "    </tr>\n",
       "  </tbody>\n",
       "</table>\n",
       "</div>"
      ],
      "text/plain": [
       "    Cliente Fecha ultima Compra  Recency Actual Fecha Creacion  \\\n",
       "0  10003742          2020-05-23             521     2020-05-23   \n",
       "1  10007508          2021-10-26               0     2018-03-01   \n",
       "2  10017269          2021-10-23               3     2018-01-27   \n",
       "3  10023880          2021-09-09              47     2018-12-28   \n",
       "4  10028999          2021-09-24              32     2019-11-05   \n",
       "\n",
       "   Frecuency Actual del Cliente  Kilos Venta KG Promedio  Precio Promedio  \\\n",
       "0                      0.003344                22.000000      1300.000000   \n",
       "1                      0.201752                93.158654      1266.894231   \n",
       "2                      0.059365                22.038462      1347.782051   \n",
       "3                      0.039591                27.500000      1400.000000   \n",
       "4                      0.017541                22.000000      1320.923077   \n",
       "\n",
       "   Año Creación Promedio  Frecuencia Historica Promedio  Monetary Actual  \n",
       "0                   2007                             19     28600.000000  \n",
       "1                   2007                            464    117683.471154  \n",
       "2                   2007                            101     29699.448718  \n",
       "3                   2007                            383     38390.000000  \n",
       "4                   2007                             62     29060.307692  "
      ]
     },
     "execution_count": 16,
     "metadata": {},
     "output_type": "execute_result"
    }
   ],
   "source": [
    "Customers_data=dr.Customers_csv_RFM(file_direct_O)\n",
    "Customers_data=dr.Ajuste_Clientes_RFM(Customers_data)\n",
    "print(Customers_data.shape)\n",
    "Customers_data.head()"
   ]
  },
  {
   "cell_type": "markdown",
   "id": "eaa8af16",
   "metadata": {},
   "source": [
    "### Val\n",
    "`df_VC`"
   ]
  },
  {
   "cell_type": "code",
   "execution_count": 17,
   "id": "d84615af",
   "metadata": {},
   "outputs": [
    {
     "name": "stdout",
     "output_type": "stream",
     "text": [
      "Cliente                                         object\n",
      "%△Valoración Promedio \\n Tipo de Semana 0      float64\n",
      "%△Valoración Promedio \\n Tipo de Semana 1      float64\n",
      "%△Valoración Promedio \\n Tipo de Semana 2      float64\n",
      "%△Valoración Promedio \\n Tipo de Semana 3      float64\n",
      "%△Valoración Promedio \\n Tipo de Semana 4      float64\n",
      "Kilos Venta KG Promedio \\n Tipo de Semana 0    float64\n",
      "Kilos Venta KG Promedio \\n Tipo de Semana 1    float64\n",
      "Kilos Venta KG Promedio \\n Tipo de Semana 2    float64\n",
      "Kilos Venta KG Promedio \\n Tipo de Semana 3    float64\n",
      "Kilos Venta KG Promedio \\n Tipo de Semana 4    float64\n",
      "dtype: object\n"
     ]
    }
   ],
   "source": [
    "df_VC=dr.Val_Clientes_weeks(file_direct_O)"
   ]
  },
  {
   "cell_type": "markdown",
   "id": "82b0fc08",
   "metadata": {},
   "source": [
    "### Data Customers Full\n",
    "`Data_Customers_Full`"
   ]
  },
  {
   "cell_type": "code",
   "execution_count": 18,
   "id": "23876d91",
   "metadata": {},
   "outputs": [
    {
     "name": "stdout",
     "output_type": "stream",
     "text": [
      "(5073, 11) (5073, 10) 5073\n",
      "Cliente                0\n",
      "Ticket std Actual    367\n",
      "dtype: int64\n",
      "(5073, 13)\n",
      "(5073, 23)\n",
      "(5073, 24)\n",
      "(5073, 24)\n"
     ]
    },
    {
     "data": {
      "text/plain": [
       "Cliente                                         object\n",
       "%△Valoración Promedio \\n Tipo de Semana 0      float64\n",
       "%△Valoración Promedio \\n Tipo de Semana 1      float64\n",
       "%△Valoración Promedio \\n Tipo de Semana 2      float64\n",
       "%△Valoración Promedio \\n Tipo de Semana 3      float64\n",
       "%△Valoración Promedio \\n Tipo de Semana 4      float64\n",
       "Kilos Venta KG Promedio \\n Tipo de Semana 0    float64\n",
       "Kilos Venta KG Promedio \\n Tipo de Semana 1    float64\n",
       "Kilos Venta KG Promedio \\n Tipo de Semana 2    float64\n",
       "Kilos Venta KG Promedio \\n Tipo de Semana 3    float64\n",
       "Kilos Venta KG Promedio \\n Tipo de Semana 4    float64\n",
       "Fecha ultima Compra                             object\n",
       "Recency Actual                                   int64\n",
       "Fecha Creacion                                  object\n",
       "Frecuency Actual del Cliente                   float64\n",
       "Kilos Venta KG Promedio                        float64\n",
       "Precio Promedio                                float64\n",
       "Año Creación Promedio                            int64\n",
       "Frecuencia Historica Promedio                    int64\n",
       "Monetary Actual                                float64\n",
       "Ticket Promedio Actual                         float64\n",
       "Ticket std Actual                              float64\n",
       "Ticket CV Actual                               float64\n",
       "$F^{-1}$ Actual                                float64\n",
       "dtype: object"
      ]
     },
     "execution_count": 18,
     "metadata": {},
     "output_type": "execute_result"
    }
   ],
   "source": [
    "print(df_VC.shape\n",
    ",Customers_data.shape\n",
    ",len(data_rfm.Cliente.unique()))\n",
    "Data_Customers_Full=dr.Customer_KG_Mean(data_rfm,Customers_data,df_VC)\n",
    "print(Data_Customers_Full.shape)\n",
    "(Data_Customers_Full.dtypes)"
   ]
  },
  {
   "cell_type": "markdown",
   "id": "b717509e",
   "metadata": {},
   "source": [
    "# Data solo RFM  \n",
    "\n",
    "`RFM_Customers=Clientes_i_RFM[['Cliente']+Dic_col['RFM Customers']].copy()`\n",
    "\n",
    "\n",
    "- `Estado_R(x):` función de apply\n",
    "- `DF_Estado_R(DF):` Función modifica recency\n",
    "- `Df_Pond_FxM(RFM_df ,  Col_FM , weighted_F,weighted_M):`"
   ]
  },
  {
   "cell_type": "markdown",
   "id": "68de1cc2",
   "metadata": {
    "heading_collapsed": true
   },
   "source": [
    "#### Apuntes "
   ]
  },
  {
   "cell_type": "markdown",
   "id": "4afd39d7",
   "metadata": {
    "hidden": true
   },
   "source": [
    "##### Funciones\n",
    "1. Ajuste De Datos\n",
    "   - Estado R\n",
    "     - `Estado_R(X)` por apply\n",
    "     - DF_Estado_R(DF) ajusta directamnte el DF ingresado\n",
    "   - `data_Min_Max(dx,Min_Max_col,drop_columns)`\n",
    "     > Entrega un df copiado\n",
    "     >> Ajusta las columnas del arreglo Min_Max_col\n",
    "     \n",
    "     - dx dataframe\n",
    "     - Min_Max_col: (Array) Listado de columnas a escalar\n",
    "     - drop_columns: (True or False)  Eliminar columnas del listado\n",
    "   - `data_ln(dx,ln_col,drop_columns)`\n",
    "    \n",
    "        >Pasa un listado de columnas a Ln y entrga una copia del dataframe\n",
    "     - dx: dataframe\n",
    "     - ln_col: (Array) Listado de columnas a escalar\n",
    "     - drop_columns: (True or False)  Eliminar columnas del listado\n",
    "\n",
    "   - `Df_Pond_FxM(RFM_df ,  Col_FM , weighted_F,weighted_M):`\n",
    "\n",
    "      > Entrega una copia del df:\n",
    "       >>con una nueva columna llamda $(F \\times W_F + M \\times W_M)$\n",
    "\n",
    "     - W_F pond de F\n",
    "     - W_M pond de M\n",
    "     - Col_FM:(F,M)\n",
    "2. Ajuste de K-means\n",
    "   - `Curva_kmeans(D_Clientes_Frec,Col)`\n",
    "       >Permite definir el numero de K segmentos de K-means.\n",
    "3. Proceso de Clustering K-means\n",
    "   - `def_Col_cluster(D_Clientes, Col, Numero_de_clusters, ln_Col_tra=False)`\n",
    "\n",
    "   >Entrega(DataFrame):\n",
    "   >>Una copia del dataframe `D_Clientes` Con una columna adicional llamada `identified_clusters` con los el cluster que pertenece cada cliente.(Cada fila).\n",
    "\n",
    "   > - D_Clientes: Dataframe a clusterizar (pd.DataFrame)\n",
    "   > - Col: Columnas utilizadas para el clustering (Array)\n",
    "   > - Numero_de_clusters: K segmentos a generar (int)\n",
    "   > - ln_Col_tra=False: Si las columnas ya fueron ajustadas con Ln (Bulean logical value)"
   ]
  },
  {
   "cell_type": "markdown",
   "id": "3453a871",
   "metadata": {},
   "source": [
    "## Datos y columnas \n",
    "`RFM_Customers`"
   ]
  },
  {
   "cell_type": "code",
   "execution_count": 19,
   "id": "c5b95957",
   "metadata": {},
   "outputs": [
    {
     "data": {
      "text/plain": [
       "(5073, 24)"
      ]
     },
     "execution_count": 19,
     "metadata": {},
     "output_type": "execute_result"
    }
   ],
   "source": [
    "Data_Customers_Full.shape"
   ]
  },
  {
   "cell_type": "code",
   "execution_count": 20,
   "id": "f242163a",
   "metadata": {
    "scrolled": true
   },
   "outputs": [
    {
     "data": {
      "text/plain": [
       "(5073, 5)"
      ]
     },
     "execution_count": 20,
     "metadata": {},
     "output_type": "execute_result"
    }
   ],
   "source": [
    "#=======================================\n",
    "# DATA FRAME\n",
    "#=======================================\n",
    "\n",
    "#Copio el data frame solo con las columnas de interes,\n",
    "#además contruyo el atributo Estado\n",
    "RFM_Customers=\\\n",
    "R_FM_Func.DF_Estado_R(\n",
    "    Data_Customers_Full[['Cliente']+Dic_col['RFM Customers']].copy()\n",
    "                )\n",
    "RFM_Customers.shape"
   ]
  },
  {
   "cell_type": "markdown",
   "id": "e9ce20cb",
   "metadata": {},
   "source": [
    "### Estandarizado"
   ]
  },
  {
   "cell_type": "code",
   "execution_count": 21,
   "id": "2358cc97",
   "metadata": {
    "scrolled": false
   },
   "outputs": [
    {
     "data": {
      "text/plain": [
       "(5073, 7)"
      ]
     },
     "execution_count": 21,
     "metadata": {},
     "output_type": "execute_result"
    }
   ],
   "source": [
    "#=======================================\n",
    "# ESTANDARIZO\n",
    "#=======================================\n",
    "\n",
    "Col_FM=['Frecuency Actual del Cliente','Monetary Actual']          \n",
    "RFM_Customers=\\\n",
    "R_FM_Func.data_Norm_satandar(\n",
    "   R_FM_Func.data_ln(\n",
    "       RFM_Customers,Col_FM,False)\n",
    "   ,[c + ' (Escala ln)' for c in Col_FM]\n",
    "   ,True)\n",
    "RFM_Customers.shape"
   ]
  },
  {
   "cell_type": "markdown",
   "id": "14ceccfd",
   "metadata": {},
   "source": [
    "### Aplico la función FxM\n",
    "$W_F= 1$, $W_M=0.3$"
   ]
  },
  {
   "cell_type": "code",
   "execution_count": 22,
   "id": "5d43d017",
   "metadata": {},
   "outputs": [
    {
     "data": {
      "text/html": [
       "<div>\n",
       "<style scoped>\n",
       "    .dataframe tbody tr th:only-of-type {\n",
       "        vertical-align: middle;\n",
       "    }\n",
       "\n",
       "    .dataframe tbody tr th {\n",
       "        vertical-align: top;\n",
       "    }\n",
       "\n",
       "    .dataframe thead th {\n",
       "        text-align: right;\n",
       "    }\n",
       "</style>\n",
       "<table border=\"1\" class=\"dataframe\">\n",
       "  <thead>\n",
       "    <tr style=\"text-align: right;\">\n",
       "      <th></th>\n",
       "      <th>Cliente</th>\n",
       "      <th>Recency Actual</th>\n",
       "      <th>Frecuency Actual del Cliente</th>\n",
       "      <th>Monetary Actual</th>\n",
       "      <th>Actividad del cliente</th>\n",
       "      <th>Frecuency Actual del Cliente (Escala ln) (Normalizado)</th>\n",
       "      <th>Monetary Actual (Escala ln) (Normalizado)</th>\n",
       "      <th>$(F \\times W_F + M \\times W_M)$</th>\n",
       "    </tr>\n",
       "  </thead>\n",
       "  <tbody>\n",
       "    <tr>\n",
       "      <th>0</th>\n",
       "      <td>10003742</td>\n",
       "      <td>521</td>\n",
       "      <td>0.003344</td>\n",
       "      <td>28600.0</td>\n",
       "      <td>Fugado</td>\n",
       "      <td>-1.536961</td>\n",
       "      <td>-0.5268</td>\n",
       "      <td>-1.695001</td>\n",
       "    </tr>\n",
       "  </tbody>\n",
       "</table>\n",
       "</div>"
      ],
      "text/plain": [
       "    Cliente  Recency Actual  Frecuency Actual del Cliente  Monetary Actual  \\\n",
       "0  10003742             521                      0.003344          28600.0   \n",
       "\n",
       "  Actividad del cliente  \\\n",
       "0                Fugado   \n",
       "\n",
       "   Frecuency Actual del Cliente (Escala ln) (Normalizado)  \\\n",
       "0                                          -1.536961        \n",
       "\n",
       "   Monetary Actual (Escala ln) (Normalizado)  $(F \\times W_F + M \\times W_M)$  \n",
       "0                                    -0.5268                        -1.695001  "
      ]
     },
     "execution_count": 22,
     "metadata": {},
     "output_type": "execute_result"
    }
   ],
   "source": [
    "(w_f,w_m)=(1,0.3)\n",
    "RFM_Customers=R_FM_Func.Df_Pond_FxM(\n",
    "                        RFM_Customers , \n",
    "                        [c + ' (Escala ln)'+' (Normalizado)' for c in Col_FM]\n",
    "                        # [ 'Frecuency Actual del Cliente (Escala Min Max) (Escala ln)',\n",
    "                        # 'Monetary Actual (Escala Min Max) (Escala ln)']\n",
    "                        , 1, 0.3 )\n",
    "RFM_Customers.head(1)"
   ]
  },
  {
   "cell_type": "markdown",
   "id": "2ff6eec8",
   "metadata": {},
   "source": [
    "### Prueba K-means"
   ]
  },
  {
   "cell_type": "code",
   "execution_count": 23,
   "id": "8e1e4b20",
   "metadata": {},
   "outputs": [
    {
     "data": {
      "text/html": [
       "<div>\n",
       "<style scoped>\n",
       "    .dataframe tbody tr th:only-of-type {\n",
       "        vertical-align: middle;\n",
       "    }\n",
       "\n",
       "    .dataframe tbody tr th {\n",
       "        vertical-align: top;\n",
       "    }\n",
       "\n",
       "    .dataframe thead th {\n",
       "        text-align: right;\n",
       "    }\n",
       "</style>\n",
       "<table border=\"1\" class=\"dataframe\">\n",
       "  <thead>\n",
       "    <tr style=\"text-align: right;\">\n",
       "      <th></th>\n",
       "      <th>Cliente</th>\n",
       "      <th>Recency Actual</th>\n",
       "      <th>Frecuency Actual del Cliente</th>\n",
       "      <th>Monetary Actual</th>\n",
       "      <th>Actividad del cliente</th>\n",
       "      <th>Frecuency Actual del Cliente (Escala ln) (Normalizado)</th>\n",
       "      <th>Monetary Actual (Escala ln) (Normalizado)</th>\n",
       "      <th>$(F \\times W_F + M \\times W_M)$</th>\n",
       "      <th>identified_clusters</th>\n",
       "      <th>F-1</th>\n",
       "    </tr>\n",
       "  </thead>\n",
       "  <tbody>\n",
       "    <tr>\n",
       "      <th>0</th>\n",
       "      <td>10003742</td>\n",
       "      <td>521</td>\n",
       "      <td>0.003344</td>\n",
       "      <td>28600.000000</td>\n",
       "      <td>Fugado</td>\n",
       "      <td>-1.536961</td>\n",
       "      <td>-0.526800</td>\n",
       "      <td>-1.695001</td>\n",
       "      <td>0</td>\n",
       "      <td>299.000000</td>\n",
       "    </tr>\n",
       "    <tr>\n",
       "      <th>1</th>\n",
       "      <td>10007508</td>\n",
       "      <td>0</td>\n",
       "      <td>0.201752</td>\n",
       "      <td>117683.471154</td>\n",
       "      <td>Activo</td>\n",
       "      <td>1.839562</td>\n",
       "      <td>1.409578</td>\n",
       "      <td>2.262435</td>\n",
       "      <td>3</td>\n",
       "      <td>4.956570</td>\n",
       "    </tr>\n",
       "    <tr>\n",
       "      <th>2</th>\n",
       "      <td>10017269</td>\n",
       "      <td>3</td>\n",
       "      <td>0.059365</td>\n",
       "      <td>29699.448718</td>\n",
       "      <td>Activo</td>\n",
       "      <td>0.832022</td>\n",
       "      <td>-0.475164</td>\n",
       "      <td>0.689473</td>\n",
       "      <td>1</td>\n",
       "      <td>16.845022</td>\n",
       "    </tr>\n",
       "    <tr>\n",
       "      <th>3</th>\n",
       "      <td>10023880</td>\n",
       "      <td>47</td>\n",
       "      <td>0.039591</td>\n",
       "      <td>38390.000000</td>\n",
       "      <td>Activo</td>\n",
       "      <td>0.498378</td>\n",
       "      <td>-0.123821</td>\n",
       "      <td>0.461232</td>\n",
       "      <td>1</td>\n",
       "      <td>25.258465</td>\n",
       "    </tr>\n",
       "    <tr>\n",
       "      <th>4</th>\n",
       "      <td>10028999</td>\n",
       "      <td>32</td>\n",
       "      <td>0.017541</td>\n",
       "      <td>29060.307692</td>\n",
       "      <td>Activo</td>\n",
       "      <td>-0.172059</td>\n",
       "      <td>-0.504944</td>\n",
       "      <td>-0.323542</td>\n",
       "      <td>2</td>\n",
       "      <td>57.008334</td>\n",
       "    </tr>\n",
       "  </tbody>\n",
       "</table>\n",
       "</div>"
      ],
      "text/plain": [
       "    Cliente  Recency Actual  Frecuency Actual del Cliente  Monetary Actual  \\\n",
       "0  10003742             521                      0.003344     28600.000000   \n",
       "1  10007508               0                      0.201752    117683.471154   \n",
       "2  10017269               3                      0.059365     29699.448718   \n",
       "3  10023880              47                      0.039591     38390.000000   \n",
       "4  10028999              32                      0.017541     29060.307692   \n",
       "\n",
       "  Actividad del cliente  \\\n",
       "0                Fugado   \n",
       "1                Activo   \n",
       "2                Activo   \n",
       "3                Activo   \n",
       "4                Activo   \n",
       "\n",
       "   Frecuency Actual del Cliente (Escala ln) (Normalizado)  \\\n",
       "0                                          -1.536961        \n",
       "1                                           1.839562        \n",
       "2                                           0.832022        \n",
       "3                                           0.498378        \n",
       "4                                          -0.172059        \n",
       "\n",
       "   Monetary Actual (Escala ln) (Normalizado)  $(F \\times W_F + M \\times W_M)$  \\\n",
       "0                                  -0.526800                        -1.695001   \n",
       "1                                   1.409578                         2.262435   \n",
       "2                                  -0.475164                         0.689473   \n",
       "3                                  -0.123821                         0.461232   \n",
       "4                                  -0.504944                        -0.323542   \n",
       "\n",
       "  identified_clusters         F-1  \n",
       "0                   0  299.000000  \n",
       "1                   3    4.956570  \n",
       "2                   1   16.845022  \n",
       "3                   1   25.258465  \n",
       "4                   2   57.008334  "
      ]
     },
     "execution_count": 23,
     "metadata": {},
     "output_type": "execute_result"
    }
   ],
   "source": [
    "R_FM_Func.def_Col_cluster(\n",
    "    RFM_Customers,\n",
    "    [c + ' (Escala ln)'+' (Normalizado)' for c in Col_FM]\n",
    "     +['$(F \\times W_F + M \\times W_M)$'],5\n",
    "    ).head()"
   ]
  },
  {
   "cell_type": "markdown",
   "id": "508798da",
   "metadata": {},
   "source": [
    "# K-means"
   ]
  },
  {
   "cell_type": "markdown",
   "id": "5ee1c43e",
   "metadata": {},
   "source": [
    "## Clustering"
   ]
  },
  {
   "cell_type": "markdown",
   "id": "4f1b9522",
   "metadata": {},
   "source": [
    "#### R_FM como dicionario para rediriguir según la actividad\n",
    "`R_FM_Customers`"
   ]
  },
  {
   "cell_type": "code",
   "execution_count": 24,
   "id": "627f8cf4",
   "metadata": {},
   "outputs": [
    {
     "name": "stdout",
     "output_type": "stream",
     "text": [
      "Activo (3222, 8)\n",
      "Fugandose (1232, 8)\n",
      "Fugando (619, 8)\n"
     ]
    }
   ],
   "source": [
    "R_FM_Customers={\n",
    "    'Activo':RFM_Customers[RFM_Customers['Actividad del cliente']=='Activo']\n",
    "    ,'Fugandose':RFM_Customers[RFM_Customers['Actividad del cliente']=='Fugandose']\n",
    "    ,'Fugando':RFM_Customers[RFM_Customers['Actividad del cliente']=='Fugado']\n",
    "}\n",
    "for a in R_FM_Customers.keys(): print(a ,R_FM_Customers[a].shape)"
   ]
  },
  {
   "cell_type": "markdown",
   "id": "978f7570",
   "metadata": {},
   "source": [
    "#### Curva K-means\n",
    "`R_FM_Func.Curva_kmeans`"
   ]
  },
  {
   "cell_type": "code",
   "execution_count": 25,
   "id": "8001ac08",
   "metadata": {},
   "outputs": [
    {
     "name": "stdout",
     "output_type": "stream",
     "text": [
      "Activo\n"
     ]
    },
    {
     "data": {
      "image/png": "[encoded data removed]",
      "text/plain": [
       "<Figure size 432x288 with 1 Axes>"
      ]
     },
     "metadata": {
      "needs_background": "light"
     },
     "output_type": "display_data"
    },
    {
     "name": "stdout",
     "output_type": "stream",
     "text": [
      "Fugandose\n"
     ]
    },
    {
     "data": {
      "image/png": "[encoded data removed]",
      "text/plain": [
       "<Figure size 432x288 with 1 Axes>"
      ]
     },
     "metadata": {
      "needs_background": "light"
     },
     "output_type": "display_data"
    },
    {
     "name": "stdout",
     "output_type": "stream",
     "text": [
      "Fugando\n"
     ]
    },
    {
     "data": {
      "image/png": "[encoded data removed]",
      "text/plain": [
       "<Figure size 432x288 with 1 Axes>"
      ]
     },
     "metadata": {
      "needs_background": "light"
     },
     "output_type": "display_data"
    }
   ],
   "source": [
    "Col_FM=['Frecuency Actual del Cliente', 'Monetary Actual']\n",
    "for a in R_FM_Customers.keys(): \n",
    "    print(a)\n",
    "    R_FM_Func.Curva_kmeans(\n",
    "    R_FM_Customers[a],\n",
    "    [c + ' (Escala ln)'+' (Normalizado)' for c in Col_FM]\n",
    "     +['$(F \\times W_F + M \\times W_M)$']\n",
    "    )[0]"
   ]
  },
  {
   "cell_type": "markdown",
   "id": "fd1fea1c",
   "metadata": {},
   "source": [
    "### Clustering \n",
    "`R_FM_Func.def_Col_cluster`"
   ]
  },
  {
   "cell_type": "code",
   "execution_count": 26,
   "id": "a216224f",
   "metadata": {},
   "outputs": [
    {
     "data": {
      "text/html": [
       "<div>\n",
       "<style scoped>\n",
       "    .dataframe tbody tr th:only-of-type {\n",
       "        vertical-align: middle;\n",
       "    }\n",
       "\n",
       "    .dataframe tbody tr th {\n",
       "        vertical-align: top;\n",
       "    }\n",
       "\n",
       "    .dataframe thead th {\n",
       "        text-align: right;\n",
       "    }\n",
       "</style>\n",
       "<table border=\"1\" class=\"dataframe\">\n",
       "  <thead>\n",
       "    <tr style=\"text-align: right;\">\n",
       "      <th></th>\n",
       "      <th>Cliente</th>\n",
       "      <th>Recency Actual</th>\n",
       "      <th>Frecuency Actual del Cliente</th>\n",
       "      <th>Monetary Actual</th>\n",
       "      <th>Actividad del cliente</th>\n",
       "      <th>Frecuency Actual del Cliente (Escala ln) (Normalizado)</th>\n",
       "      <th>Monetary Actual (Escala ln) (Normalizado)</th>\n",
       "      <th>$(F \\times W_F + M \\times W_M)$</th>\n",
       "      <th>identified_clusters</th>\n",
       "      <th>F-1</th>\n",
       "    </tr>\n",
       "  </thead>\n",
       "  <tbody>\n",
       "    <tr>\n",
       "      <th>1</th>\n",
       "      <td>10007508</td>\n",
       "      <td>0</td>\n",
       "      <td>0.201752</td>\n",
       "      <td>117683.471154</td>\n",
       "      <td>Activo</td>\n",
       "      <td>1.839562</td>\n",
       "      <td>1.409578</td>\n",
       "      <td>2.262435</td>\n",
       "      <td>1</td>\n",
       "      <td>4.956570</td>\n",
       "    </tr>\n",
       "    <tr>\n",
       "      <th>2</th>\n",
       "      <td>10017269</td>\n",
       "      <td>3</td>\n",
       "      <td>0.059365</td>\n",
       "      <td>29699.448718</td>\n",
       "      <td>Activo</td>\n",
       "      <td>0.832022</td>\n",
       "      <td>-0.475164</td>\n",
       "      <td>0.689473</td>\n",
       "      <td>4</td>\n",
       "      <td>16.845022</td>\n",
       "    </tr>\n",
       "    <tr>\n",
       "      <th>3</th>\n",
       "      <td>10023880</td>\n",
       "      <td>47</td>\n",
       "      <td>0.039591</td>\n",
       "      <td>38390.000000</td>\n",
       "      <td>Activo</td>\n",
       "      <td>0.498378</td>\n",
       "      <td>-0.123821</td>\n",
       "      <td>0.461232</td>\n",
       "      <td>4</td>\n",
       "      <td>25.258465</td>\n",
       "    </tr>\n",
       "    <tr>\n",
       "      <th>4</th>\n",
       "      <td>10028999</td>\n",
       "      <td>32</td>\n",
       "      <td>0.017541</td>\n",
       "      <td>29060.307692</td>\n",
       "      <td>Activo</td>\n",
       "      <td>-0.172059</td>\n",
       "      <td>-0.504944</td>\n",
       "      <td>-0.323542</td>\n",
       "      <td>0</td>\n",
       "      <td>57.008334</td>\n",
       "    </tr>\n",
       "    <tr>\n",
       "      <th>6</th>\n",
       "      <td>10032204</td>\n",
       "      <td>5</td>\n",
       "      <td>0.007030</td>\n",
       "      <td>30206.000000</td>\n",
       "      <td>Activo</td>\n",
       "      <td>-0.925133</td>\n",
       "      <td>-0.452014</td>\n",
       "      <td>-1.060737</td>\n",
       "      <td>0</td>\n",
       "      <td>142.247750</td>\n",
       "    </tr>\n",
       "  </tbody>\n",
       "</table>\n",
       "</div>"
      ],
      "text/plain": [
       "    Cliente  Recency Actual  Frecuency Actual del Cliente  Monetary Actual  \\\n",
       "1  10007508               0                      0.201752    117683.471154   \n",
       "2  10017269               3                      0.059365     29699.448718   \n",
       "3  10023880              47                      0.039591     38390.000000   \n",
       "4  10028999              32                      0.017541     29060.307692   \n",
       "6  10032204               5                      0.007030     30206.000000   \n",
       "\n",
       "  Actividad del cliente  \\\n",
       "1                Activo   \n",
       "2                Activo   \n",
       "3                Activo   \n",
       "4                Activo   \n",
       "6                Activo   \n",
       "\n",
       "   Frecuency Actual del Cliente (Escala ln) (Normalizado)  \\\n",
       "1                                           1.839562        \n",
       "2                                           0.832022        \n",
       "3                                           0.498378        \n",
       "4                                          -0.172059        \n",
       "6                                          -0.925133        \n",
       "\n",
       "   Monetary Actual (Escala ln) (Normalizado)  $(F \\times W_F + M \\times W_M)$  \\\n",
       "1                                   1.409578                         2.262435   \n",
       "2                                  -0.475164                         0.689473   \n",
       "3                                  -0.123821                         0.461232   \n",
       "4                                  -0.504944                        -0.323542   \n",
       "6                                  -0.452014                        -1.060737   \n",
       "\n",
       "  identified_clusters         F-1  \n",
       "1                   1    4.956570  \n",
       "2                   4   16.845022  \n",
       "3                   4   25.258465  \n",
       "4                   0   57.008334  \n",
       "6                   0  142.247750  "
      ]
     },
     "execution_count": 26,
     "metadata": {},
     "output_type": "execute_result"
    }
   ],
   "source": [
    "Col_FM=['Frecuency Actual del Cliente', 'Monetary Actual']\n",
    "A_Clust=[]\n",
    "for i in R_FM_Customers.keys():\n",
    "    R_FM_Customers[i]=\\\n",
    "      R_FM_Func.def_Col_cluster(\n",
    "       R_FM_Customers[i] \n",
    "            ,[c + ' (Escala ln)'+' (Normalizado)' for c in Col_FM]\n",
    "            +['$(F \\times W_F + M \\times W_M)$']\n",
    "        ,5)\n",
    "R_FM_Customers['Activo'].head()"
   ]
  },
  {
   "cell_type": "markdown",
   "id": "185829f1",
   "metadata": {},
   "source": [
    "## Descripción"
   ]
  },
  {
   "cell_type": "code",
   "execution_count": 27,
   "id": "011e316a",
   "metadata": {},
   "outputs": [
    {
     "name": "stdout",
     "output_type": "stream",
     "text": [
      "dict_keys(['Activo', 'Fugandose', 'Fugando'])\n"
     ]
    },
    {
     "data": {
      "text/html": [
       "<div>\n",
       "<style scoped>\n",
       "    .dataframe tbody tr th:only-of-type {\n",
       "        vertical-align: middle;\n",
       "    }\n",
       "\n",
       "    .dataframe tbody tr th {\n",
       "        vertical-align: top;\n",
       "    }\n",
       "\n",
       "    .dataframe thead th {\n",
       "        text-align: right;\n",
       "    }\n",
       "</style>\n",
       "<table border=\"1\" class=\"dataframe\">\n",
       "  <thead>\n",
       "    <tr style=\"text-align: right;\">\n",
       "      <th></th>\n",
       "      <th>Cliente</th>\n",
       "      <th>Recency Actual</th>\n",
       "      <th>Frecuency Actual del Cliente</th>\n",
       "      <th>Monetary Actual</th>\n",
       "      <th>Actividad del cliente</th>\n",
       "      <th>Frecuency Actual del Cliente (Escala ln) (Normalizado)</th>\n",
       "      <th>Monetary Actual (Escala ln) (Normalizado)</th>\n",
       "      <th>$(F \\times W_F + M \\times W_M)$</th>\n",
       "      <th>identified_clusters</th>\n",
       "      <th>F-1</th>\n",
       "    </tr>\n",
       "  </thead>\n",
       "  <tbody>\n",
       "    <tr>\n",
       "      <th>1</th>\n",
       "      <td>10007508</td>\n",
       "      <td>0</td>\n",
       "      <td>0.201752</td>\n",
       "      <td>117683.471154</td>\n",
       "      <td>Activo</td>\n",
       "      <td>1.839562</td>\n",
       "      <td>1.409578</td>\n",
       "      <td>2.262435</td>\n",
       "      <td>1</td>\n",
       "      <td>4.956570</td>\n",
       "    </tr>\n",
       "    <tr>\n",
       "      <th>2</th>\n",
       "      <td>10017269</td>\n",
       "      <td>3</td>\n",
       "      <td>0.059365</td>\n",
       "      <td>29699.448718</td>\n",
       "      <td>Activo</td>\n",
       "      <td>0.832022</td>\n",
       "      <td>-0.475164</td>\n",
       "      <td>0.689473</td>\n",
       "      <td>4</td>\n",
       "      <td>16.845022</td>\n",
       "    </tr>\n",
       "    <tr>\n",
       "      <th>3</th>\n",
       "      <td>10023880</td>\n",
       "      <td>47</td>\n",
       "      <td>0.039591</td>\n",
       "      <td>38390.000000</td>\n",
       "      <td>Activo</td>\n",
       "      <td>0.498378</td>\n",
       "      <td>-0.123821</td>\n",
       "      <td>0.461232</td>\n",
       "      <td>4</td>\n",
       "      <td>25.258465</td>\n",
       "    </tr>\n",
       "    <tr>\n",
       "      <th>4</th>\n",
       "      <td>10028999</td>\n",
       "      <td>32</td>\n",
       "      <td>0.017541</td>\n",
       "      <td>29060.307692</td>\n",
       "      <td>Activo</td>\n",
       "      <td>-0.172059</td>\n",
       "      <td>-0.504944</td>\n",
       "      <td>-0.323542</td>\n",
       "      <td>0</td>\n",
       "      <td>57.008334</td>\n",
       "    </tr>\n",
       "    <tr>\n",
       "      <th>6</th>\n",
       "      <td>10032204</td>\n",
       "      <td>5</td>\n",
       "      <td>0.007030</td>\n",
       "      <td>30206.000000</td>\n",
       "      <td>Activo</td>\n",
       "      <td>-0.925133</td>\n",
       "      <td>-0.452014</td>\n",
       "      <td>-1.060737</td>\n",
       "      <td>0</td>\n",
       "      <td>142.247750</td>\n",
       "    </tr>\n",
       "  </tbody>\n",
       "</table>\n",
       "</div>"
      ],
      "text/plain": [
       "    Cliente  Recency Actual  Frecuency Actual del Cliente  Monetary Actual  \\\n",
       "1  10007508               0                      0.201752    117683.471154   \n",
       "2  10017269               3                      0.059365     29699.448718   \n",
       "3  10023880              47                      0.039591     38390.000000   \n",
       "4  10028999              32                      0.017541     29060.307692   \n",
       "6  10032204               5                      0.007030     30206.000000   \n",
       "\n",
       "  Actividad del cliente  \\\n",
       "1                Activo   \n",
       "2                Activo   \n",
       "3                Activo   \n",
       "4                Activo   \n",
       "6                Activo   \n",
       "\n",
       "   Frecuency Actual del Cliente (Escala ln) (Normalizado)  \\\n",
       "1                                           1.839562        \n",
       "2                                           0.832022        \n",
       "3                                           0.498378        \n",
       "4                                          -0.172059        \n",
       "6                                          -0.925133        \n",
       "\n",
       "   Monetary Actual (Escala ln) (Normalizado)  $(F \\times W_F + M \\times W_M)$  \\\n",
       "1                                   1.409578                         2.262435   \n",
       "2                                  -0.475164                         0.689473   \n",
       "3                                  -0.123821                         0.461232   \n",
       "4                                  -0.504944                        -0.323542   \n",
       "6                                  -0.452014                        -1.060737   \n",
       "\n",
       "  identified_clusters         F-1  \n",
       "1                   1    4.956570  \n",
       "2                   4   16.845022  \n",
       "3                   4   25.258465  \n",
       "4                   0   57.008334  \n",
       "6                   0  142.247750  "
      ]
     },
     "execution_count": 27,
     "metadata": {},
     "output_type": "execute_result"
    }
   ],
   "source": [
    "print(R_FM_Customers.keys())\n",
    "R_FM_Customers['Activo'].head()"
   ]
  },
  {
   "cell_type": "code",
   "execution_count": 28,
   "id": "78ac06e1",
   "metadata": {},
   "outputs": [
    {
     "data": {
      "text/plain": [
       "(180375, 33)"
      ]
     },
     "execution_count": 28,
     "metadata": {},
     "output_type": "execute_result"
    }
   ],
   "source": [
    "pd.merge(R_FM_Customers['Activo'],data_rfm,how='left').shape"
   ]
  },
  {
   "cell_type": "markdown",
   "id": "270563ec",
   "metadata": {},
   "source": [
    "### Tabla"
   ]
  },
  {
   "cell_type": "code",
   "execution_count": 30,
   "id": "0cc44b18",
   "metadata": {},
   "outputs": [
    {
     "data": {
      "text/plain": [
       "Index(['Cliente', 'Recency Actual', 'Frecuency Actual del Cliente',\n",
       "       'Monetary Actual', 'Actividad del cliente',\n",
       "       'Frecuency Actual del Cliente (Escala ln) (Normalizado)',\n",
       "       'Monetary Actual (Escala ln) (Normalizado)',\n",
       "       '$(F \\times W_F + M \\times W_M)$', 'identified_clusters', 'F-1',\n",
       "       'Semana', 'Tipo de Semana', 'Material (Nombre)', 'Kilos Venta KG',\n",
       "       'Precio', 'Día natural', 'Día Semana', 'Mes', 'Año', 'Población',\n",
       "       'Centro', 'Cluster', 'Segmento.1', 'Categoría Cliente', 'Año Creación',\n",
       "       'Material Favorito', 'Frecuencia Historica', 'Mes_num', 'Recency',\n",
       "       'Frecuency_Row', 'Ingreso de Venta CLP', 'Monetary', 'Recency días'],\n",
       "      dtype='object')"
      ]
     },
     "execution_count": 30,
     "metadata": {},
     "output_type": "execute_result"
    }
   ],
   "source": [
    "df_C=pd.merge(\n",
    "    R_FM_Customers['Activo']\n",
    ",data_rfm,how='left')\n",
    "df_C.columns"
   ]
  },
  {
   "cell_type": "code",
   "execution_count": 33,
   "id": "64e22d87",
   "metadata": {},
   "outputs": [
    {
     "data": {
      "text/html": [
       "<div>\n",
       "<style scoped>\n",
       "    .dataframe tbody tr th:only-of-type {\n",
       "        vertical-align: middle;\n",
       "    }\n",
       "\n",
       "    .dataframe tbody tr th {\n",
       "        vertical-align: top;\n",
       "    }\n",
       "\n",
       "    .dataframe thead th {\n",
       "        text-align: right;\n",
       "    }\n",
       "</style>\n",
       "<table border=\"1\" class=\"dataframe\">\n",
       "  <thead>\n",
       "    <tr style=\"text-align: right;\">\n",
       "      <th>identified_clusters</th>\n",
       "      <th>0</th>\n",
       "      <th>1</th>\n",
       "      <th>2</th>\n",
       "      <th>3</th>\n",
       "      <th>4</th>\n",
       "    </tr>\n",
       "  </thead>\n",
       "  <tbody>\n",
       "    <tr>\n",
       "      <th>Recency Actual</th>\n",
       "      <td>43.876500</td>\n",
       "      <td>4.540824</td>\n",
       "      <td>7.280202</td>\n",
       "      <td>19.187345</td>\n",
       "      <td>23.961017</td>\n",
       "    </tr>\n",
       "    <tr>\n",
       "      <th>Frecuency Actual del Cliente</th>\n",
       "      <td>0.013084</td>\n",
       "      <td>0.210877</td>\n",
       "      <td>0.157516</td>\n",
       "      <td>0.091056</td>\n",
       "      <td>0.037697</td>\n",
       "    </tr>\n",
       "    <tr>\n",
       "      <th>Monetary Actual</th>\n",
       "      <td>30098.287359</td>\n",
       "      <td>126831.278013</td>\n",
       "      <td>44555.866176</td>\n",
       "      <td>649640.972552</td>\n",
       "      <td>35583.975480</td>\n",
       "    </tr>\n",
       "    <tr>\n",
       "      <th>Frecuency Actual del Cliente (Escala ln) (Normalizado)</th>\n",
       "      <td>-0.453718</td>\n",
       "      <td>1.793938</td>\n",
       "      <td>1.544215</td>\n",
       "      <td>1.003017</td>\n",
       "      <td>0.408299</td>\n",
       "    </tr>\n",
       "    <tr>\n",
       "      <th>Monetary Actual (Escala ln) (Normalizado)</th>\n",
       "      <td>-0.473715</td>\n",
       "      <td>1.367259</td>\n",
       "      <td>0.033846</td>\n",
       "      <td>3.487557</td>\n",
       "      <td>-0.291589</td>\n",
       "    </tr>\n",
       "    <tr>\n",
       "      <th>$(F \\times W_F + M \\times W_M)$</th>\n",
       "      <td>-0.595833</td>\n",
       "      <td>2.204115</td>\n",
       "      <td>1.554369</td>\n",
       "      <td>2.049284</td>\n",
       "      <td>0.320822</td>\n",
       "    </tr>\n",
       "    <tr>\n",
       "      <th>F-1</th>\n",
       "      <td>85.283992</td>\n",
       "      <td>5.920052</td>\n",
       "      <td>7.939071</td>\n",
       "      <td>17.657585</td>\n",
       "      <td>30.024183</td>\n",
       "    </tr>\n",
       "    <tr>\n",
       "      <th>Kilos Venta KG</th>\n",
       "      <td>23.498121</td>\n",
       "      <td>101.432263</td>\n",
       "      <td>33.787709</td>\n",
       "      <td>601.930902</td>\n",
       "      <td>27.305732</td>\n",
       "    </tr>\n",
       "    <tr>\n",
       "      <th>Precio</th>\n",
       "      <td>1282.648891</td>\n",
       "      <td>1276.011014</td>\n",
       "      <td>1327.537921</td>\n",
       "      <td>1138.281178</td>\n",
       "      <td>1314.350127</td>\n",
       "    </tr>\n",
       "    <tr>\n",
       "      <th>Frecuency_Row</th>\n",
       "      <td>0.120955</td>\n",
       "      <td>0.007678</td>\n",
       "      <td>0.010407</td>\n",
       "      <td>0.018032</td>\n",
       "      <td>0.043628</td>\n",
       "    </tr>\n",
       "    <tr>\n",
       "      <th>Ingreso de Venta CLP</th>\n",
       "      <td>30098.287359</td>\n",
       "      <td>126831.278013</td>\n",
       "      <td>44555.866176</td>\n",
       "      <td>649640.972552</td>\n",
       "      <td>35583.975480</td>\n",
       "    </tr>\n",
       "    <tr>\n",
       "      <th>Monetary</th>\n",
       "      <td>26134.442007</td>\n",
       "      <td>112259.879894</td>\n",
       "      <td>41856.579995</td>\n",
       "      <td>563696.484880</td>\n",
       "      <td>33282.141277</td>\n",
       "    </tr>\n",
       "    <tr>\n",
       "      <th>Recency días</th>\n",
       "      <td>85.771785</td>\n",
       "      <td>6.442565</td>\n",
       "      <td>8.615687</td>\n",
       "      <td>15.762627</td>\n",
       "      <td>30.779417</td>\n",
       "    </tr>\n",
       "  </tbody>\n",
       "</table>\n",
       "</div>"
      ],
      "text/plain": [
       "identified_clusters                                            0  \\\n",
       "Recency Actual                                         43.876500   \n",
       "Frecuency Actual del Cliente                            0.013084   \n",
       "Monetary Actual                                     30098.287359   \n",
       "Frecuency Actual del Cliente (Escala ln) (Norma...     -0.453718   \n",
       "Monetary Actual (Escala ln) (Normalizado)              -0.473715   \n",
       "$(F \\times W_F + M \\times W_M)$                        -0.595833   \n",
       "F-1                                                    85.283992   \n",
       "Kilos Venta KG                                         23.498121   \n",
       "Precio                                               1282.648891   \n",
       "Frecuency_Row                                           0.120955   \n",
       "Ingreso de Venta CLP                                30098.287359   \n",
       "Monetary                                            26134.442007   \n",
       "Recency días                                           85.771785   \n",
       "\n",
       "identified_clusters                                             1  \\\n",
       "Recency Actual                                           4.540824   \n",
       "Frecuency Actual del Cliente                             0.210877   \n",
       "Monetary Actual                                     126831.278013   \n",
       "Frecuency Actual del Cliente (Escala ln) (Norma...       1.793938   \n",
       "Monetary Actual (Escala ln) (Normalizado)                1.367259   \n",
       "$(F \\times W_F + M \\times W_M)$                          2.204115   \n",
       "F-1                                                      5.920052   \n",
       "Kilos Venta KG                                         101.432263   \n",
       "Precio                                                1276.011014   \n",
       "Frecuency_Row                                            0.007678   \n",
       "Ingreso de Venta CLP                                126831.278013   \n",
       "Monetary                                            112259.879894   \n",
       "Recency días                                             6.442565   \n",
       "\n",
       "identified_clusters                                            2  \\\n",
       "Recency Actual                                          7.280202   \n",
       "Frecuency Actual del Cliente                            0.157516   \n",
       "Monetary Actual                                     44555.866176   \n",
       "Frecuency Actual del Cliente (Escala ln) (Norma...      1.544215   \n",
       "Monetary Actual (Escala ln) (Normalizado)               0.033846   \n",
       "$(F \\times W_F + M \\times W_M)$                         1.554369   \n",
       "F-1                                                     7.939071   \n",
       "Kilos Venta KG                                         33.787709   \n",
       "Precio                                               1327.537921   \n",
       "Frecuency_Row                                           0.010407   \n",
       "Ingreso de Venta CLP                                44555.866176   \n",
       "Monetary                                            41856.579995   \n",
       "Recency días                                            8.615687   \n",
       "\n",
       "identified_clusters                                             3  \\\n",
       "Recency Actual                                          19.187345   \n",
       "Frecuency Actual del Cliente                             0.091056   \n",
       "Monetary Actual                                     649640.972552   \n",
       "Frecuency Actual del Cliente (Escala ln) (Norma...       1.003017   \n",
       "Monetary Actual (Escala ln) (Normalizado)                3.487557   \n",
       "$(F \\times W_F + M \\times W_M)$                          2.049284   \n",
       "F-1                                                     17.657585   \n",
       "Kilos Venta KG                                         601.930902   \n",
       "Precio                                                1138.281178   \n",
       "Frecuency_Row                                            0.018032   \n",
       "Ingreso de Venta CLP                                649640.972552   \n",
       "Monetary                                            563696.484880   \n",
       "Recency días                                            15.762627   \n",
       "\n",
       "identified_clusters                                            4  \n",
       "Recency Actual                                         23.961017  \n",
       "Frecuency Actual del Cliente                            0.037697  \n",
       "Monetary Actual                                     35583.975480  \n",
       "Frecuency Actual del Cliente (Escala ln) (Norma...      0.408299  \n",
       "Monetary Actual (Escala ln) (Normalizado)              -0.291589  \n",
       "$(F \\times W_F + M \\times W_M)$                         0.320822  \n",
       "F-1                                                    30.024183  \n",
       "Kilos Venta KG                                         27.305732  \n",
       "Precio                                               1314.350127  \n",
       "Frecuency_Row                                           0.043628  \n",
       "Ingreso de Venta CLP                                35583.975480  \n",
       "Monetary                                            33282.141277  \n",
       "Recency días                                           30.779417  "
      ]
     },
     "execution_count": 33,
     "metadata": {},
     "output_type": "execute_result"
    }
   ],
   "source": [
    "df_C.groupby('identified_clusters').mean().T"
   ]
  },
  {
   "cell_type": "markdown",
   "id": "6561c43e",
   "metadata": {},
   "source": [
    "### GRafica de dispersion"
   ]
  },
  {
   "cell_type": "code",
   "execution_count": 67,
   "id": "9a7de7e6",
   "metadata": {},
   "outputs": [
    {
     "data": {
      "text/plain": [
       "['Activo', 'Fugandose', 'Fugando']"
      ]
     },
     "execution_count": 67,
     "metadata": {},
     "output_type": "execute_result"
    }
   ],
   "source": []
  },
  {
   "cell_type": "code",
   "execution_count": 75,
   "id": "15126126",
   "metadata": {},
   "outputs": [
    {
     "name": "stdout",
     "output_type": "stream",
     "text": [
      "Activo\n"
     ]
    }
   ],
   "source": [
    "a=list(R_FM_Customers.keys())[0]\n",
    "rfm_clust_x=R_FM_Customers[a].copy()\n",
    "print(rfm_clust_x['Actividad del cliente'].unique()[0])"
   ]
  },
  {
   "cell_type": "code",
   "execution_count": 76,
   "id": "30eef4da",
   "metadata": {},
   "outputs": [
    {
     "data": {
      "image/png": "[encoded data removed]",
      "text/plain": [
       "<Figure size 640x480 with 1 Axes>"
      ]
     },
     "metadata": {},
     "output_type": "display_data"
    },
    {
     "data": {
      "text/plain": [
       "<ggplot: (78867838883)>"
      ]
     },
     "execution_count": 76,
     "metadata": {},
     "output_type": "execute_result"
    }
   ],
   "source": [
    "rfm_clust_x['Monetary Actual \\n en Millones de CLP']=\\\n",
    "rfm_clust_x['Monetary Actual'].apply(lambda x: x/10**6)\n",
    "rfm_clust_x['Cluster']=rfm_clust_x.identified_clusters.apply(lambda x:   'Segmento '+str(x) )\n",
    "GGplot_rfm_x=\\\n",
    "(\n",
    "    ggplot(\n",
    "        #             rfm_clust\n",
    "        rfm_clust_x\n",
    "        , aes(y='Monetary Actual'+' (Escala ln) (Normalizado)'\n",
    "        #                  'Monetary Actual \\n en Millones de CLP',\n",
    "            ,x='F-1'\n",
    "            #'Frecuency Actual del Cliente'\n",
    "            #'F-1'\n",
    "             ,fill='Cluster'\n",
    "            ,color='Cluster'\n",
    "                     ))\\\n",
    "        #                 + labs(y='Disposición a pagar')\\\n",
    "            + geom_point(\n",
    "        #         aes(color='Cluster de Clientes'),\n",
    "                alpha=0.7)\\\n",
    "        #                 +geom_smooth()\\\n",
    "        #                 +ggtitle(('Dispersión Clusters Clientes'+\n",
    "        #                           ' \\n Disposición a pagar v/s '+\n",
    "        #                          'Cluster de Semana'))\\\n",
    "        +ylab('Monetary Actual'+'\\n'+' (Escala ln) (Normalizado)')\n",
    "        +xlab('$Frecuency^{-1} [días]$')\n",
    "        +ggtitle('Dispersion Cluster clientes '+\n",
    "                rfm_clust_x['Actividad del cliente'].unique()[0]+'s'+\n",
    "                 '\\n ($W_F $'+str(w_f)+', $W_M$ '+str(w_m) +')'\n",
    "                 )\n",
    "        +theme(axis_text_x = element_text(angle=90, hjust=1))\\\n",
    "\n",
    "\n",
    "    )\n",
    "GGplot_rfm_x"
   ]
  },
  {
   "cell_type": "code",
   "execution_count": 77,
   "id": "a9b5058f",
   "metadata": {},
   "outputs": [
    {
     "name": "stdout",
     "output_type": "stream",
     "text": [
      "Frecuency Actual del Cliente\n",
      "Monetary Actual\n"
     ]
    },
    {
     "data": {
      "image/png": "[encoded data removed]",
      "text/plain": [
       "<Figure size 640x480 with 1 Axes>"
      ]
     },
     "metadata": {},
     "output_type": "display_data"
    },
    {
     "data": {
      "text/plain": [
       "<ggplot: (78868020706)>"
      ]
     },
     "execution_count": 77,
     "metadata": {},
     "output_type": "execute_result"
    }
   ],
   "source": [
    "GGplot_rfm_FM=\\\n",
    "(\n",
    "    ggplot(\n",
    "        #             rfm_clust\n",
    "        data_ln(rfm_clust_x, ['Frecuency Actual del Cliente',\n",
    "                             'Monetary Actual'],False)\n",
    "        , aes(y='Monetary Actual'+' (Escala ln) (Normalizado)'\n",
    "        #                  'Monetary Actual \\n en Millones de CLP',\n",
    "            ,x='Frecuency Actual del Cliente'+' (Escala ln) (Normalizado)'\n",
    "            #'F-1'\n",
    "             ,fill='Cluster'\n",
    "            ,color='Cluster'\n",
    "                     ))\\\n",
    "        #                 + labs(y='Disposición a pagar')\\\n",
    "            + geom_point(\n",
    "        #         aes(color='Cluster de Clientes'),\n",
    "                alpha=0.7)\\\n",
    "        #                 +geom_smooth()\\\n",
    "        #                 +ggtitle(('Dispersión Clusters Clientes'+\n",
    "        #                           ' \\n Disposición a pagar v/s '+\n",
    "        #                          'Cluster de Semana'))\\\n",
    "        +ylab('Monetary Actual'+'\\n'+' (Escala ln) (Normalizado)')\n",
    "        +xlab('Frecuency'+'\\n'+' (Escala ln) (Normalizado)')\n",
    "        +ggtitle('Dispersion Cluster clientes '+\n",
    "                rfm_clust_x['Actividad del cliente'].unique()[0]+'s'+\n",
    "                 '\\n ($W_F $'+str(w_f)+', $W_M$ '+str(w_m) +')'\n",
    "                 )\n",
    "        +theme(axis_text_x = element_text(angle=90, hjust=1))\\\n",
    "\n",
    "\n",
    "    )\n",
    "GGplot_rfm_FM"
   ]
  },
  {
   "cell_type": "markdown",
   "id": "b5b7d812",
   "metadata": {},
   "source": [
    "### Save"
   ]
  },
  {
   "cell_type": "code",
   "execution_count": 78,
   "id": "37b46173",
   "metadata": {},
   "outputs": [
    {
     "data": {
      "text/plain": [
       "'C:\\\\Users\\\\user\\\\Documents\\\\Graficos\\\\Canal Tradicional\\\\1010078\\\\Cluster\\\\RFM'"
      ]
     },
     "execution_count": 78,
     "metadata": {},
     "output_type": "execute_result"
    }
   ],
   "source": [
    "Png_file_direct_Graphic_Canal_Material+\"\\\\Cluster\\\\RFM\""
   ]
  },
  {
   "cell_type": "code",
   "execution_count": 80,
   "id": "24ac206e",
   "metadata": {},
   "outputs": [
    {
     "name": "stdout",
     "output_type": "stream",
     "text": [
      "Time Lapsed = 0:0:1.6024577617645264 \n",
      " H:m:s\n"
     ]
    }
   ],
   "source": [
    "# ```python\n",
    "#============================\n",
    "# W_F y W_F con la dispersion de los clusters generados\n",
    "#============================\n",
    "file_name=('Clusters r+fm Activo W Disp')\n",
    "    \n",
    "pngfill= Png_file_direct_Graphic_Canal_Material+\"\\\\Cluster\\\\RFM\"\n",
    "\n",
    "start_time = time.time()\n",
    "save_as_pdf_pages(\n",
    "                  \n",
    "                  [ GGplot_rfm_FM, GGplot_rfm_x  ]\n",
    "                    ,pngfill \n",
    "            +\"\\\\\"+ file_name + \".pdf\")\n",
    "time_convert(time.time()-start_time)\n",
    "# ```"
   ]
  },
  {
   "cell_type": "code",
   "execution_count": null,
   "id": "8fcc7dc5",
   "metadata": {},
   "outputs": [],
   "source": []
  },
  {
   "cell_type": "markdown",
   "id": "ba2629a3",
   "metadata": {},
   "source": [
    "## Ridge Regresion\n",
    "\n",
    "Se busca considerar el coeficiente que acompaña a cada segmento de clientes, para decidir que segmento es el que representa un aumento del precio"
   ]
  },
  {
   "cell_type": "code",
   "execution_count": 29,
   "id": "9156ed64",
   "metadata": {},
   "outputs": [
    {
     "name": "stdout",
     "output_type": "stream",
     "text": [
      "(0.473, 0.463)\n",
      "(0.446, 0.45)\n",
      "(0.418, 0.467)\n"
     ]
    }
   ],
   "source": [
    "data_rfm\n",
    "for a in R_FM_Customers.keys():\n",
    "    print(R_FM_Func.Func_log_log_Tip_ind_cluster(pd.merge(R_FM_Customers[a],data_rfm,how='left'),True))"
   ]
  }
 ],
 "metadata": {
  "celltoolbar": "Raw Cell Format",
  "interpreter": {
   "hash": "a077222d77dfe082b8f1dd562ad70e458ac2ab76993a0b248ab0476e32e9e8dd"
  },
  "kernelspec": {
   "display_name": "Python 3.8.5 ('base')",
   "language": "python",
   "name": "python3"
  },
  "language_info": {
   "codemirror_mode": {
    "name": "ipython",
    "version": 3
   },
   "file_extension": ".py",
   "mimetype": "text/x-python",
   "name": "python",
   "nbconvert_exporter": "python",
   "pygments_lexer": "ipython3",
   "version": "3.8.5"
  },
  "toc": {
   "base_numbering": 1,
   "nav_menu": {
    "height": "89px",
    "width": "334px"
   },
   "number_sections": true,
   "sideBar": true,
   "skip_h1_title": false,
   "title_cell": "Table of Contents",
   "title_sidebar": "Contents",
   "toc_cell": false,
   "toc_position": {
    "height": "753px",
    "left": "74px",
    "top": "52px",
    "width": "229.006px"
   },
   "toc_section_display": true,
   "toc_window_display": true
  }
 },
 "nbformat": 4,
 "nbformat_minor": 5
}
