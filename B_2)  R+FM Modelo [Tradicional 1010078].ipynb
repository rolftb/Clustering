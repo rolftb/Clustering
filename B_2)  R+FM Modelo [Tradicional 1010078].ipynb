{
 "cells": [
  {
   "cell_type": "markdown",
   "id": "0b65c7b6",
   "metadata": {},
   "source": [
    "Available Themes: \n",
    "- chesterish\n",
    "- grade3\n",
    "- gruvboxd\n",
    "- gruvboxl\n",
    "    color beach, letras negras\n",
    "- monokai\n",
    "- oceans16\n",
    "- onedork\n",
    "- solarizedd\n",
    "- solarizedl\n",
    "    color beach mas claro"
   ]
  },
  {
   "cell_type": "code",
   "execution_count": 1,
   "id": "aa7a547e",
   "metadata": {},
   "outputs": [],
   "source": [
    "# !jt -l\n",
    "# !jt -t solarizedl -T\n",
    "# !jt -r"
   ]
  },
  {
   "cell_type": "markdown",
   "id": "37df9336",
   "metadata": {
    "heading_collapsed": true
   },
   "source": [
    "## Listado de cosas pendientes\n",
    "\n"
   ]
  },
  {
   "cell_type": "markdown",
   "id": "8e317dae",
   "metadata": {
    "hidden": true
   },
   "source": [
    "\n",
    "__Clusterings a desarrollar__\n",
    "1. [X] Clustering RFM+\n",
    "2. [ ] Clustering RF KG Valoración\n",
    "3. [ ] Clustering RFM KG Valoración\n",
    "4. [ ] Clustering RFM KG Valoración\n",
    "\n",
    "\n",
    "\n",
    "\n",
    "\n",
    "__Pasos RFM__\n",
    "1. [X] Data Customer All\n",
    "2. [X] Data Facturas All\n",
    "3. [X] Construcción Caracteristicas a usar\n",
    "    - [X] Un modelo por cada week tipe\n",
    "    - [X] Modelo que reemplza W por $C_W$\n",
    "3. [X] Dispersión puntos RFM\n",
    "4. [X] Modelo Clustering de R+FM\n",
    "    - [X] Defionir R, aparte\n",
    "    - [X] Defionir FxM\n",
    "    - [X] Calcular Clustering FxM\n",
    "5. [ ] Descripción del Cluster contruido por R+FM\n"
   ]
  },
  {
   "cell_type": "markdown",
   "id": "21ed6134",
   "metadata": {
    "heading_collapsed": true
   },
   "source": [
    "## Apuntes\n"
   ]
  },
  {
   "cell_type": "markdown",
   "id": "e05ad59c",
   "metadata": {
    "hidden": true
   },
   "source": [
    "La disposicipon de pago, se construye por etapas.\n",
    "\n",
    "1. [ ] Se define el modelo de regresión general:\n",
    "   1. [ ] Como forma introductoria **qué es** (Ecuación).\n",
    "   2. [ ] Se presenta un rago de precios para este modelo de regresión, por medio de un grafico de dispersión.\n",
    "   3. [ ] Explicación de lo que representan los coeficientes del modelo.\n",
    "   4. [ ] Diferencias entre la interpretación de estos si es Log()/Nivel.\n",
    "2. [ ] Se recoge el atributo del modelo llamado Semanas, estas Poseen la particularidad de influir en el precio, como se mencionó anteriormente, es por ello que se adieren en el modelo.\n",
    "3. [ ] Las semanas."
   ]
  },
  {
   "cell_type": "markdown",
   "id": "48cc505f",
   "metadata": {},
   "source": [
    "# Inicio\n"
   ]
  },
  {
   "cell_type": "markdown",
   "id": "7c2a8234",
   "metadata": {},
   "source": [
    "\n",
    "__Rename__\n",
    "Recordar que la columna llamada\n",
    "\n",
    "- `Precio promedio` ahora es `Precio`\n",
    "- `Centro.1` ahora es `Centro`\n",
    "- `Centro` ahora es `Centro_Cod`\n",
    "\n",
    "Presenta los parametros del modelo:\n",
    "\n",
    "- Dirección datos\n",
    "- Dirección Graficos\n",
    "- _Material a analizar_\n",
    "- _Canal a analizar_\n",
    "- _Zona de los Datos_\n",
    "- _Año de inicio de analizis_\n",
    "\n",
    "Base de datos\n",
    "\n",
    "\n",
    "`Tipo_de_Cliente`\n",
    "`Y_producto`\n",
    "`Año_inicio`\n",
    "\n",
    "`file_direct_Graphic` "
   ]
  },
  {
   "cell_type": "markdown",
   "id": "8bad43fc",
   "metadata": {},
   "source": [
    "## Parametros \n",
    "data frame `data_i`\n",
    "\n",
    "\n",
    "> - Producto `i_producto = Y_producto`\n",
    "> -Para el Canal `Tipo_de_Cliente`\n",
    "> -Variable a predecir/Grafico `Y_Variable`\n",
    "\n",
    "Columnas de interes para predecir `X_col`\n",
    "\n",
    "Diccionario del grupo de columnas `Dic_col`"
   ]
  },
  {
   "cell_type": "code",
   "execution_count": 2,
   "id": "a0737e98",
   "metadata": {},
   "outputs": [],
   "source": [
    "#===================================\n",
    "# Archivo\n",
    "#===================================\n",
    "Zona_df='Z001'\n",
    "\n",
    "#===================================\n",
    "# Clientes\n",
    "#===================================\n",
    "Tipo_de_Cliente='Tradicional'\n",
    "\n",
    "#===================================\n",
    "# Producto de interes\n",
    "#===================================\n",
    "Y_producto='1010078'\n",
    "\n",
    "\n",
    "#===================================\n",
    "# Año de Partida\n",
    "#===================================\n",
    "Año_inicio='2018'\n",
    "\n",
    "\n",
    "\n",
    "\n",
    "# Ordenador de escritorio\n",
    "\n",
    "file_direct_O=\"C:/Users/user/Documents/Data/Data Clear/\"+Zona_df+\"/\"\n",
    "file_direct_Clear=\"C:/Users/user/Documents/Data/Data Clear/\"\n",
    "file_direct_Graphic='C:/Users/user/Documents/Graficos'\n",
    "Png_file_direct_Graphic=\"C:\\\\Users\\\\user\\\\Documents\\\\Graficos\"\n",
    "file_direct_Result_Data=\"C:/Users/user/Documents/Data/Data Resultante/\"+Zona_df+\"/\"\n",
    "\"\"\"\n",
    "\n",
    "#Notebook\n",
    "file_direct_O=\"C:/Users/rolft/Documents/Repositorios/Data/Data Clear/\"+Zona_df+\"/\"\n",
    "file_direct_Clear=\"C:/Users/rolft/Documents/Repositorios/Data/Data Clear/\"\n",
    "file_direct_Graphic='C:/Users/rolft/Documents/Repositorios/Graficos'\n",
    "Png_file_direct_Graphic='C:\\\\Users\\\\rolft\\\\Documents\\\\Repositorios\\\\Graficos'\n",
    "\"\"\"\n",
    "#Graficos\n",
    "file_direct_Graphic_Canal=file_direct_Graphic+\"/\"+Tipo_de_Cliente\n",
    "file_direct_Graphic_Canal_Material=file_direct_Graphic_Canal+'/'+Y_producto\n",
    "\n",
    "Png_file_direct_Graphic_Canal=Png_file_direct_Graphic+'\\\\'+'Canal '+Tipo_de_Cliente\n",
    "Png_file_direct_Graphic_Canal_Material=Png_file_direct_Graphic_Canal+'\\\\'+Y_producto\n"
   ]
  },
  {
   "cell_type": "markdown",
   "id": "f80e374d",
   "metadata": {},
   "source": [
    "## Intalar paquetes, Abrir data y ajustarla "
   ]
  },
  {
   "cell_type": "markdown",
   "id": "27dbf202",
   "metadata": {},
   "source": [
    "#### Base Generales"
   ]
  },
  {
   "cell_type": "code",
   "execution_count": 3,
   "id": "faaa036d",
   "metadata": {
    "scrolled": true
   },
   "outputs": [],
   "source": [
    "#from adjustText import adjust_text\n",
    "# from adjustText import *"
   ]
  },
  {
   "cell_type": "code",
   "execution_count": 4,
   "id": "0ea91ad7",
   "metadata": {},
   "outputs": [],
   "source": [
    "#=====================================================\n",
    "                # BASE \n",
    "#-----------------------------------------------------\n",
    "import pandas as pd\n",
    "import numpy as np\n",
    "import matplotlib.pyplot as plt\n",
    "\n",
    "#from geopandas import *\n",
    "\n",
    "from plotnine import *\n",
    "\n",
    "#para ajustar las fechas\n",
    "import datetime\n",
    "\n",
    "#para calcular el skew de un array() o list()\n",
    "from scipy.stats import skew "
   ]
  },
  {
   "cell_type": "code",
   "execution_count": 5,
   "id": "8916d4cd",
   "metadata": {},
   "outputs": [],
   "source": [
    "#=====================================================\n",
    "                # sklearn \n",
    "#-----------------------------------------------------\n",
    "\n",
    "#Separador de datos en train/test\n",
    "from sklearn.model_selection import train_test_split\n",
    "\n",
    "#Prediccion Ridge Regression\n",
    "from sklearn.linear_model import Ridge"
   ]
  },
  {
   "cell_type": "code",
   "execution_count": 6,
   "id": "8d82be85",
   "metadata": {},
   "outputs": [],
   "source": [
    "#=====================================================\n",
    "                # statsmodels \n",
    "#-----------------------------------------------------\n",
    "import statsmodels.api as sm\n",
    "import statsmodels.formula.api as smf\n",
    "from statsmodels.tools.sm_exceptions import ConvergenceWarning\n",
    "\n",
    "\n",
    "#from statsmodels.regression.mixed_linear_model import MixedLMResults\n",
    "# No se para qué sirve este"
   ]
  },
  {
   "cell_type": "code",
   "execution_count": 7,
   "id": "734ff701",
   "metadata": {},
   "outputs": [],
   "source": [
    "#====================================================\n",
    "#librerias para crear division de series temporales\n",
    "#====================================================\n",
    "\n",
    "from mizani.breaks import date_breaks\n",
    "from mizani.formatters import date_format"
   ]
  },
  {
   "cell_type": "code",
   "execution_count": 8,
   "id": "34160d20",
   "metadata": {},
   "outputs": [],
   "source": [
    "# stopwatch\n",
    "import time\n",
    "def time_convert(sec):\n",
    "  mins = sec // 60\n",
    "  sec = sec % 60\n",
    "  hours = mins // 60\n",
    "  mins = mins % 60\n",
    "  print(\"Time Lapsed = {0}:{1}:{2}\".format(int(hours),int(mins),sec),'\\n H:m:s')\n",
    "#==================================\n",
    "#          Example\n",
    "#    input(\"Press Enter to start\")\n",
    "start_time = time.time()\n",
    "#    input(\"Press Enter to stop\")\n",
    "#    end_time = time.time()\n",
    "#    time_lapsed = end_time - start_time\n",
    "#    time_convert(time_lapsed)\n",
    "#================================="
   ]
  },
  {
   "cell_type": "code",
   "execution_count": 9,
   "id": "b400675d",
   "metadata": {},
   "outputs": [],
   "source": [
    "#Histograma con porcentajes\n",
    "from mizani.formatters import percent_format"
   ]
  },
  {
   "cell_type": "markdown",
   "id": "c41b992c",
   "metadata": {},
   "source": [
    "### Propios"
   ]
  },
  {
   "cell_type": "code",
   "execution_count": 10,
   "id": "14581f8c",
   "metadata": {},
   "outputs": [],
   "source": [
    "import data_read as dr\n",
    "import R_FM_Func"
   ]
  },
  {
   "cell_type": "markdown",
   "id": "0e0194b5",
   "metadata": {},
   "source": [
    "### Funciones Propias\n",
    "```python\n",
    "#Mes_name\n",
    "data_i.Mes.apply(Mes_name)\n",
    "```\n",
    ">Transforma la columna mes numerica en el nombre del mes"
   ]
  },
  {
   "cell_type": "markdown",
   "id": "66a752f5",
   "metadata": {},
   "source": [
    "#### Numero a Meses "
   ]
  },
  {
   "cell_type": "markdown",
   "id": "76bc8afd",
   "metadata": {},
   "source": [
    "__Forma de crear una etiqueta para un valor especifico__\n",
    "```python\n",
    "#[Y_Graph]\n",
    "dfz=df.copy()\n",
    "dfz['Año select']=dfz.apply( lambda x: x['Año'] if x['Año']==2020 else '',axis=1)\n",
    "dfz\n",
    "```"
   ]
  },
  {
   "cell_type": "code",
   "execution_count": 11,
   "id": "ad8627c9",
   "metadata": {},
   "outputs": [],
   "source": [
    "#===================================\n",
    "# Dicionario MES\n",
    "#===================================\n",
    "\n",
    "#===================================\n",
    "# Fecha\n",
    "D=['Enero','Febrero','Marzo','Abril',\n",
    " 'Mayo','Junio','Julio','Agosto',\n",
    " 'Septiembre','Octubre',\n",
    " 'Noviembre','Diciembre']\n",
    "Month_dic={i:D[i-1]  for i in range(1,13)}\n",
    "#===========================================\n",
    "\n",
    "\n",
    "def Mes_name(x):\n",
    "    D=['Enero','Febrero','Marzo','Abril',\n",
    "    'Mayo','Junio','Julio','Agosto',\n",
    "    'Septiembre','Octubre',\n",
    "    'Noviembre','Diciembre']\n",
    "    return(D[int(x)-1])"
   ]
  },
  {
   "cell_type": "markdown",
   "id": "526cdb46",
   "metadata": {},
   "source": [
    "#### Función estandariza ciertas columnas a LN "
   ]
  },
  {
   "cell_type": "code",
   "execution_count": 12,
   "id": "c11c18d1",
   "metadata": {},
   "outputs": [],
   "source": [
    "# ['Frecuency Actual del Cliente','Monetary Actual']\n",
    "def data_ln(dx,ln_col,drop_columns):\n",
    "    \"\"\"\n",
    "    Pasa un listado de columnas a Ln\n",
    "    \n",
    "        dx: dataframe\n",
    "        ln_col: (Array) Listado de columnas a escalar \n",
    "        drop_columns: (True or False)  Eliminar columnas del listado\n",
    "    \"\"\"\n",
    "    df_x=dx.copy()\n",
    "    for s in ln_col:\n",
    "        if(s in df_x.columns):\n",
    "            print(s)\n",
    "            df_x[s + '(Escala ln)']=\\\n",
    "            df_x[s].apply(lambda x: np.log(x))\n",
    "    if(drop_columns):\n",
    "        df_x.drop(columns = ln_col)\n",
    "    return(df_x)"
   ]
  },
  {
   "cell_type": "markdown",
   "id": "b646c867",
   "metadata": {},
   "source": [
    "## Dicionario \n",
    "rename aplicado a `Precio promedio`"
   ]
  },
  {
   "cell_type": "code",
   "execution_count": 13,
   "id": "4a726445",
   "metadata": {},
   "outputs": [],
   "source": [
    "Dic_col={'Base':\n",
    "                             ['Material (Nombre)', 'Kilos Venta KG', 'Precio','Cliente'],\n",
    "        'Fecha':\n",
    "                             ['Día natural','Día Semana','Semana', 'Mes', 'Año'],\n",
    "        'Ubicacion':\n",
    "                             ['Centro','Población'],\n",
    "        'Cliente Categoria':\n",
    "                             ['Cluster','Segmento.1', 'Categoría Cliente'],\n",
    "        'Cliente Atributos':\n",
    "                             ['Año Creación', 'Material Favorito','Frecuencia Historica'] \n",
    "         ,'RFM Row':\n",
    "                 ['Recency días','Frecuency_Row','Monetary']\n",
    "        ,'RFM Customers':\n",
    "                 ['Recency Actual','Frecuency Actual del Cliente','Monetary Actual']\n",
    "        ,'Ticket Row':\n",
    "                 ['Ticket Promedio','Ticket CV']\n",
    "        ,'Ticket Customers':\n",
    "                 ['Ticket Promedio Actual','Ticket CV Actual']\n",
    "        }"
   ]
  },
  {
   "cell_type": "markdown",
   "id": "38e12a83",
   "metadata": {},
   "source": [
    "### Colores \n",
    "\n",
    "[Link colores muestra y configuración](https://www.rapidtables.com/web/color/RGB_Color.html)"
   ]
  },
  {
   "cell_type": "code",
   "execution_count": 14,
   "id": "dbbf1e78",
   "metadata": {},
   "outputs": [
    {
     "data": {
      "text/plain": [
       "'57DB5F'"
      ]
     },
     "execution_count": 14,
     "metadata": {},
     "output_type": "execute_result"
    }
   ],
   "source": [
    "('{:X}{:X}{:X}').format(31, 119, 180)\n",
    "('{:X}{:X}{:X}').format(219, 96, 97)\n",
    "('{:X}{:X}{:X}').format(87, 219, 95)"
   ]
  },
  {
   "cell_type": "markdown",
   "id": "f5e71982",
   "metadata": {},
   "source": [
    "## Datos\n",
    "- `data_rfm`: Facturaciones \n",
    "- `Data_Customers_Full`: Clientes con todos los atributos\n",
    "<!-- - `Df_Week`: Semanas, Con su respectivo cluster  -->"
   ]
  },
  {
   "cell_type": "markdown",
   "id": "f75ddb6a",
   "metadata": {},
   "source": [
    "### Factuas con Week Tipe\n",
    "`data_rfm`"
   ]
  },
  {
   "cell_type": "code",
   "execution_count": 15,
   "id": "e3ab4bd1",
   "metadata": {},
   "outputs": [
    {
     "name": "stdout",
     "output_type": "stream",
     "text": [
      "C:/Users/user/Documents/Data/Data Clear/Z001/data_1010078_CT R.csv\n",
      "R (198596, 19)\n",
      "C:/Users/user/Documents/Data/Data Clear/Z001/data_1010078_CT F.csv\n",
      "F (198596, 19)\n",
      "C:/Users/user/Documents/Data/Data Clear/Z001/data_1010078_CT M.csv\n",
      "M (198596, 20)\n",
      "------------------------------------------------\n",
      "Merge\n",
      "RF (198596, 20)\n",
      "RFM (198596, 22)\n",
      "Material (Nombre)       object\n",
      "Kilos Venta KG           int64\n",
      "Precio                   int64\n",
      "Día natural             object\n",
      "Día Semana              object\n",
      "Semana                  object\n",
      "Mes                     object\n",
      "Año                     object\n",
      "Población               object\n",
      "Centro                  object\n",
      "Cliente                 object\n",
      "Cluster                 object\n",
      "Segmento.1              object\n",
      "Categoría Cliente       object\n",
      "Año Creación            object\n",
      "Material Favorito       object\n",
      "Frecuencia Historica    object\n",
      "Mes_num                 object\n",
      "Recency                 object\n",
      "Frecuency_Row            int64\n",
      "Ingreso de Venta CLP     int64\n",
      "Monetary                 int64\n",
      "Recency días             int64\n",
      "dtype: object\n",
      "Variable                               object\n",
      "Atributo                               object\n",
      "Semana                                 object\n",
      "Ingresos de Venta                     float64\n",
      "Cant compras                          float64\n",
      "Precio Promedio Ponderado CLP / KG    float64\n",
      "Ventas promedio Kg                    float64\n",
      "Precio Promedio                       float64\n",
      "Coef.                                 float64\n",
      "$e^{βi}$                              float64\n",
      "$\\%\\triangle Y$                       float64\n",
      "Tipo de Semana                         object\n",
      "dtype: object\n",
      "0\n"
     ]
    }
   ],
   "source": [
    "data_rfm=dr.RFM_Data_func(file_direct_O)\n",
    "data_rfm=dr.Ajuste_data_RFM(data_rfm)\n",
    "data_rfm=dr.Merge_Week(file_direct_O,data_rfm)\n"
   ]
  },
  {
   "cell_type": "markdown",
   "id": "e95413d4",
   "metadata": {},
   "source": [
    "## Data Clientes\n",
    "`Data_Customers_Full`\n"
   ]
  },
  {
   "cell_type": "markdown",
   "id": "3bd35ca2",
   "metadata": {},
   "source": [
    "### RFM\n",
    "`Customers_data`"
   ]
  },
  {
   "cell_type": "code",
   "execution_count": 18,
   "id": "1513a90f",
   "metadata": {},
   "outputs": [
    {
     "name": "stdout",
     "output_type": "stream",
     "text": [
      "Cliente                           object\n",
      "Fecha ultima Compra               object\n",
      "Recency Actual                     int64\n",
      "Fecha Creacion                    object\n",
      "Frecuency Actual del Cliente     float64\n",
      "Kilos Venta KG Promedio          float64\n",
      "Precio Promedio                  float64\n",
      "Año Creación Promedio              int64\n",
      "Frecuencia Historica Promedio      int64\n",
      "Ingreso de Venta Promedio        float64\n",
      "dtype: object\n"
     ]
    },
    {
     "data": {
      "text/html": [
       "<div>\n",
       "<style scoped>\n",
       "    .dataframe tbody tr th:only-of-type {\n",
       "        vertical-align: middle;\n",
       "    }\n",
       "\n",
       "    .dataframe tbody tr th {\n",
       "        vertical-align: top;\n",
       "    }\n",
       "\n",
       "    .dataframe thead th {\n",
       "        text-align: right;\n",
       "    }\n",
       "</style>\n",
       "<table border=\"1\" class=\"dataframe\">\n",
       "  <thead>\n",
       "    <tr style=\"text-align: right;\">\n",
       "      <th></th>\n",
       "      <th>Cliente</th>\n",
       "      <th>Fecha ultima Compra</th>\n",
       "      <th>Recency Actual</th>\n",
       "      <th>Fecha Creacion</th>\n",
       "      <th>Frecuency Actual del Cliente</th>\n",
       "      <th>Kilos Venta KG Promedio</th>\n",
       "      <th>Precio Promedio</th>\n",
       "      <th>Año Creación Promedio</th>\n",
       "      <th>Frecuencia Historica Promedio</th>\n",
       "      <th>Monetary Actual</th>\n",
       "    </tr>\n",
       "  </thead>\n",
       "  <tbody>\n",
       "    <tr>\n",
       "      <th>0</th>\n",
       "      <td>10003742</td>\n",
       "      <td>2020-05-23</td>\n",
       "      <td>521</td>\n",
       "      <td>2020-05-23</td>\n",
       "      <td>0.003344</td>\n",
       "      <td>22.000000</td>\n",
       "      <td>1300.000000</td>\n",
       "      <td>2007</td>\n",
       "      <td>19</td>\n",
       "      <td>28600.000000</td>\n",
       "    </tr>\n",
       "    <tr>\n",
       "      <th>1</th>\n",
       "      <td>10007508</td>\n",
       "      <td>2021-10-26</td>\n",
       "      <td>0</td>\n",
       "      <td>2018-03-01</td>\n",
       "      <td>0.201752</td>\n",
       "      <td>93.158654</td>\n",
       "      <td>1266.894231</td>\n",
       "      <td>2007</td>\n",
       "      <td>464</td>\n",
       "      <td>117683.471154</td>\n",
       "    </tr>\n",
       "    <tr>\n",
       "      <th>2</th>\n",
       "      <td>10017269</td>\n",
       "      <td>2021-10-23</td>\n",
       "      <td>3</td>\n",
       "      <td>2018-01-27</td>\n",
       "      <td>0.059365</td>\n",
       "      <td>22.038462</td>\n",
       "      <td>1347.782051</td>\n",
       "      <td>2007</td>\n",
       "      <td>101</td>\n",
       "      <td>29699.448718</td>\n",
       "    </tr>\n",
       "    <tr>\n",
       "      <th>3</th>\n",
       "      <td>10023880</td>\n",
       "      <td>2021-09-09</td>\n",
       "      <td>47</td>\n",
       "      <td>2018-12-28</td>\n",
       "      <td>0.039591</td>\n",
       "      <td>27.500000</td>\n",
       "      <td>1400.000000</td>\n",
       "      <td>2007</td>\n",
       "      <td>383</td>\n",
       "      <td>38390.000000</td>\n",
       "    </tr>\n",
       "    <tr>\n",
       "      <th>4</th>\n",
       "      <td>10028999</td>\n",
       "      <td>2021-09-24</td>\n",
       "      <td>32</td>\n",
       "      <td>2019-11-05</td>\n",
       "      <td>0.017541</td>\n",
       "      <td>22.000000</td>\n",
       "      <td>1320.923077</td>\n",
       "      <td>2007</td>\n",
       "      <td>62</td>\n",
       "      <td>29060.307692</td>\n",
       "    </tr>\n",
       "  </tbody>\n",
       "</table>\n",
       "</div>"
      ],
      "text/plain": [
       "    Cliente Fecha ultima Compra  Recency Actual Fecha Creacion  \\\n",
       "0  10003742          2020-05-23             521     2020-05-23   \n",
       "1  10007508          2021-10-26               0     2018-03-01   \n",
       "2  10017269          2021-10-23               3     2018-01-27   \n",
       "3  10023880          2021-09-09              47     2018-12-28   \n",
       "4  10028999          2021-09-24              32     2019-11-05   \n",
       "\n",
       "   Frecuency Actual del Cliente  Kilos Venta KG Promedio  Precio Promedio  \\\n",
       "0                      0.003344                22.000000      1300.000000   \n",
       "1                      0.201752                93.158654      1266.894231   \n",
       "2                      0.059365                22.038462      1347.782051   \n",
       "3                      0.039591                27.500000      1400.000000   \n",
       "4                      0.017541                22.000000      1320.923077   \n",
       "\n",
       "   Año Creación Promedio  Frecuencia Historica Promedio  Monetary Actual  \n",
       "0                   2007                             19     28600.000000  \n",
       "1                   2007                            464    117683.471154  \n",
       "2                   2007                            101     29699.448718  \n",
       "3                   2007                            383     38390.000000  \n",
       "4                   2007                             62     29060.307692  "
      ]
     },
     "execution_count": 18,
     "metadata": {},
     "output_type": "execute_result"
    }
   ],
   "source": [
    "Customers_data=dr.Customers_csv_RFM(file_direct_O)\n",
    "Customers_data=dr.Ajuste_Clientes_RFM(Customers_data)\n",
    "Customers_data.head()"
   ]
  },
  {
   "cell_type": "markdown",
   "id": "eaa8af16",
   "metadata": {},
   "source": [
    "### Val\n",
    "`df_VC`"
   ]
  },
  {
   "cell_type": "code",
   "execution_count": 16,
   "id": "d84615af",
   "metadata": {},
   "outputs": [
    {
     "name": "stdout",
     "output_type": "stream",
     "text": [
      "Cliente                                         object\n",
      "%△Valoración Promedio \\n Tipo de Semana 0      float64\n",
      "%△Valoración Promedio \\n Tipo de Semana 1      float64\n",
      "%△Valoración Promedio \\n Tipo de Semana 2      float64\n",
      "%△Valoración Promedio \\n Tipo de Semana 3      float64\n",
      "%△Valoración Promedio \\n Tipo de Semana 4      float64\n",
      "Kilos Venta KG Promedio \\n Tipo de Semana 0    float64\n",
      "Kilos Venta KG Promedio \\n Tipo de Semana 1    float64\n",
      "Kilos Venta KG Promedio \\n Tipo de Semana 2    float64\n",
      "Kilos Venta KG Promedio \\n Tipo de Semana 3    float64\n",
      "Kilos Venta KG Promedio \\n Tipo de Semana 4    float64\n",
      "dtype: object\n"
     ]
    }
   ],
   "source": [
    "df_VC=dr.Val_Clientes_weeks(file_direct_O)"
   ]
  },
  {
   "cell_type": "markdown",
   "id": "82b0fc08",
   "metadata": {},
   "source": [
    "### Data Customers Full\n",
    "`Data_Customers_Full`"
   ]
  },
  {
   "cell_type": "code",
   "execution_count": 19,
   "id": "23876d91",
   "metadata": {},
   "outputs": [
    {
     "name": "stdout",
     "output_type": "stream",
     "text": [
      "(5073, 11) (5073, 10) 5073\n",
      "Cliente                0\n",
      "Ticket std Actual    367\n",
      "dtype: int64\n",
      "(5073, 13)\n",
      "(5073, 23)\n",
      "(5073, 24)\n",
      "(5, 24)\n"
     ]
    },
    {
     "data": {
      "text/plain": [
       "Cliente                                         object\n",
       "%△Valoración Promedio \\n Tipo de Semana 0      float64\n",
       "%△Valoración Promedio \\n Tipo de Semana 1      float64\n",
       "%△Valoración Promedio \\n Tipo de Semana 2      float64\n",
       "%△Valoración Promedio \\n Tipo de Semana 3      float64\n",
       "%△Valoración Promedio \\n Tipo de Semana 4      float64\n",
       "Kilos Venta KG Promedio \\n Tipo de Semana 0    float64\n",
       "Kilos Venta KG Promedio \\n Tipo de Semana 1    float64\n",
       "Kilos Venta KG Promedio \\n Tipo de Semana 2    float64\n",
       "Kilos Venta KG Promedio \\n Tipo de Semana 3    float64\n",
       "Kilos Venta KG Promedio \\n Tipo de Semana 4    float64\n",
       "Fecha ultima Compra                             object\n",
       "Recency Actual                                   int64\n",
       "Fecha Creacion                                  object\n",
       "Frecuency Actual del Cliente                   float64\n",
       "Kilos Venta KG Promedio                        float64\n",
       "Precio Promedio                                float64\n",
       "Año Creación Promedio                            int64\n",
       "Frecuencia Historica Promedio                    int64\n",
       "Monetary Actual                                float64\n",
       "Ticket Promedio Actual                         float64\n",
       "Ticket std Actual                              float64\n",
       "Ticket CV Actual                               float64\n",
       "$F^{-1}$ Actual                                float64\n",
       "dtype: object"
      ]
     },
     "execution_count": 19,
     "metadata": {},
     "output_type": "execute_result"
    }
   ],
   "source": [
    "print(df_VC.shape\n",
    ",Customers_data.shape\n",
    ",len(data_rfm.Cliente.unique()))\n",
    "Data_Customers_Full=dr.Customer_KG_Mean(data_rfm,Customers_data,df_VC).head()\n",
    "print(Data_Customers_Full.shape)\n",
    "Data_Customers_Full.dtypes"
   ]
  },
  {
   "cell_type": "markdown",
   "id": "b717509e",
   "metadata": {},
   "source": [
    "# Data solo RFM  \n",
    "\n",
    "`RFM_Customers=Clientes_i_RFM[['Cliente']+Dic_col['RFM Customers']].copy()`\n",
    "\n",
    "\n",
    "- `Estado_R(x):` función de apply\n",
    "- `DF_Estado_R(DF):` Función modifica recency\n",
    "- `Df_Pond_FxM(RFM_df ,  Col_FM , weighted_F,weighted_M):`"
   ]
  },
  {
   "cell_type": "markdown",
   "id": "68de1cc2",
   "metadata": {
    "heading_collapsed": true
   },
   "source": [
    "#### Apuntes "
   ]
  },
  {
   "cell_type": "markdown",
   "id": "4afd39d7",
   "metadata": {
    "hidden": true
   },
   "source": [
    "##### Funciones\n",
    "1. Ajuste De Datos\n",
    "   - Estado R\n",
    "     - `Estado_R(X)` por apply\n",
    "     - DF_Estado_R(DF) ajusta directamnte el DF ingresado\n",
    "   - `data_Min_Max(dx,Min_Max_col,drop_columns)`\n",
    "     > Entrega un df copiado\n",
    "     >> Ajusta las columnas del arreglo Min_Max_col\n",
    "     \n",
    "     - dx dataframe\n",
    "     - Min_Max_col: (Array) Listado de columnas a escalar\n",
    "     - drop_columns: (True or False)  Eliminar columnas del listado\n",
    "   - `data_ln(dx,ln_col,drop_columns)`\n",
    "    \n",
    "        >Pasa un listado de columnas a Ln y entrga una copia del dataframe\n",
    "     - dx: dataframe\n",
    "     - ln_col: (Array) Listado de columnas a escalar\n",
    "     - drop_columns: (True or False)  Eliminar columnas del listado\n",
    "\n",
    "   - `Df_Pond_FxM(RFM_df ,  Col_FM , weighted_F,weighted_M):`\n",
    "\n",
    "      > Entrega una copia del df:\n",
    "       >>con una nueva columna llamda $(F \\times W_F + M \\times W_M)$\n",
    "\n",
    "     - W_F pond de F\n",
    "     - W_M pond de M\n",
    "     - Col_FM:(F,M)\n",
    "2. Ajuste de K-means\n",
    "   - `Curva_kmeans(D_Clientes_Frec,Col)`\n",
    "       >Permite definir el numero de K segmentos de K-means.\n",
    "3. Proceso de Clustering K-means\n",
    "   - `def_Col_cluster(D_Clientes, Col, Numero_de_clusters, ln_Col_tra=False)`\n",
    "\n",
    "   >Entrega(DataFrame):\n",
    "   >>Una copia del dataframe `D_Clientes` Con una columna adicional llamada `identified_clusters` con los el cluster que pertenece cada cliente.(Cada fila).\n",
    "\n",
    "   > - D_Clientes: Dataframe a clusterizar (pd.DataFrame)\n",
    "   > - Col: Columnas utilizadas para el clustering (Array)\n",
    "   > - Numero_de_clusters: K segmentos a generar (int)\n",
    "   > - ln_Col_tra=False: Si las columnas ya fueron ajustadas con Ln (Bulean logical value)"
   ]
  },
  {
   "cell_type": "markdown",
   "id": "3453a871",
   "metadata": {},
   "source": [
    "## Datos y columnas "
   ]
  },
  {
   "cell_type": "markdown",
   "id": "2fa931e6",
   "metadata": {},
   "source": [
    "### Columnas y Data\n",
    "\n",
    "\n",
    "Se toma el data frame `Clientes_i` seleccionado las columnas RFM custom mas id cliente\n",
    "y se guarda en `RFM_Customers`\n",
    "\n",
    "`RFM_Customers=Clientes_i_RFM[['Cliente']+Dic_col['RFM Customers']].copy()`"
   ]
  },
  {
   "cell_type": "markdown",
   "id": "998ad3b9",
   "metadata": {},
   "source": [
    "##### Columnas "
   ]
  },
  {
   "cell_type": "markdown",
   "id": "4cd1c242",
   "metadata": {
    "heading_collapsed": true
   },
   "source": [
    "###### Data clientes"
   ]
  },
  {
   "cell_type": "code",
   "execution_count": 36,
   "id": "0f435ddc",
   "metadata": {
    "hidden": true
   },
   "outputs": [
    {
     "data": {
      "text/html": [
       "<div>\n",
       "<style scoped>\n",
       "    .dataframe tbody tr th:only-of-type {\n",
       "        vertical-align: middle;\n",
       "    }\n",
       "\n",
       "    .dataframe tbody tr th {\n",
       "        vertical-align: top;\n",
       "    }\n",
       "\n",
       "    .dataframe thead th {\n",
       "        text-align: right;\n",
       "    }\n",
       "</style>\n",
       "<table border=\"1\" class=\"dataframe\">\n",
       "  <thead>\n",
       "    <tr style=\"text-align: right;\">\n",
       "      <th></th>\n",
       "      <th>Cliente</th>\n",
       "      <th>%△Valoración Promedio \\n Tipo de Semana 0</th>\n",
       "      <th>%△Valoración Promedio \\n Tipo de Semana 1</th>\n",
       "      <th>%△Valoración Promedio \\n Tipo de Semana 2</th>\n",
       "      <th>%△Valoración Promedio \\n Tipo de Semana 3</th>\n",
       "      <th>%△Valoración Promedio \\n Tipo de Semana 4</th>\n",
       "      <th>Kilos Venta KG Promedio \\n Tipo de Semana 0</th>\n",
       "      <th>Kilos Venta KG Promedio \\n Tipo de Semana 1</th>\n",
       "      <th>Kilos Venta KG Promedio \\n Tipo de Semana 2</th>\n",
       "      <th>Kilos Venta KG Promedio \\n Tipo de Semana 3</th>\n",
       "      <th>...</th>\n",
       "      <th>Frecuency Actual del Cliente</th>\n",
       "      <th>Kilos Venta KG Promedio</th>\n",
       "      <th>Precio Promedio</th>\n",
       "      <th>Año Creación Promedio</th>\n",
       "      <th>Frecuencia Historica Promedio</th>\n",
       "      <th>Monetary Actual</th>\n",
       "      <th>Ticket Promedio Actual</th>\n",
       "      <th>Ticket std Actual</th>\n",
       "      <th>Ticket CV Actual</th>\n",
       "      <th>$F^{-1}$ Actual</th>\n",
       "    </tr>\n",
       "  </thead>\n",
       "  <tbody>\n",
       "    <tr>\n",
       "      <th>0</th>\n",
       "      <td>10003742</td>\n",
       "      <td>-0.0652580488718174</td>\n",
       "      <td>-0.0652580488718174</td>\n",
       "      <td>-0.0652580488718174</td>\n",
       "      <td>-0.0652580488718174</td>\n",
       "      <td>-0.0652580488718174</td>\n",
       "      <td>22.0</td>\n",
       "      <td>22.0</td>\n",
       "      <td>22.0</td>\n",
       "      <td>22.0</td>\n",
       "      <td>...</td>\n",
       "      <td>0.003344</td>\n",
       "      <td>22.000000</td>\n",
       "      <td>1300.000000</td>\n",
       "      <td>2007</td>\n",
       "      <td>19</td>\n",
       "      <td>28600.000000</td>\n",
       "      <td>22.000000</td>\n",
       "      <td>0.000000</td>\n",
       "      <td>0.000000</td>\n",
       "      <td>299.000000</td>\n",
       "    </tr>\n",
       "    <tr>\n",
       "      <th>1</th>\n",
       "      <td>10007508</td>\n",
       "      <td>-0.007185734905445153</td>\n",
       "      <td>0.018077218717184977</td>\n",
       "      <td>0.013714992109052858</td>\n",
       "      <td>0.02452918655320076</td>\n",
       "      <td>0.013855960433295756</td>\n",
       "      <td>89.87777777777778</td>\n",
       "      <td>96.475</td>\n",
       "      <td>95.56060606060606</td>\n",
       "      <td>90.2</td>\n",
       "      <td>...</td>\n",
       "      <td>0.201752</td>\n",
       "      <td>93.158654</td>\n",
       "      <td>1266.894231</td>\n",
       "      <td>2007</td>\n",
       "      <td>464</td>\n",
       "      <td>117683.471154</td>\n",
       "      <td>93.158654</td>\n",
       "      <td>36.215256</td>\n",
       "      <td>0.388748</td>\n",
       "      <td>4.956570</td>\n",
       "    </tr>\n",
       "    <tr>\n",
       "      <th>2</th>\n",
       "      <td>10017269</td>\n",
       "      <td>0.03046114456733656</td>\n",
       "      <td>0.019897886066589765</td>\n",
       "      <td>0.03147219540210185</td>\n",
       "      <td>0.0056993826680127755</td>\n",
       "      <td>0.0007512242388005607</td>\n",
       "      <td>21.941176470588236</td>\n",
       "      <td>22.263157894736842</td>\n",
       "      <td>22.0</td>\n",
       "      <td>22.0</td>\n",
       "      <td>...</td>\n",
       "      <td>0.059365</td>\n",
       "      <td>22.038462</td>\n",
       "      <td>1347.782051</td>\n",
       "      <td>2007</td>\n",
       "      <td>101</td>\n",
       "      <td>29699.448718</td>\n",
       "      <td>22.038462</td>\n",
       "      <td>0.612474</td>\n",
       "      <td>0.027791</td>\n",
       "      <td>16.845022</td>\n",
       "    </tr>\n",
       "    <tr>\n",
       "      <th>3</th>\n",
       "      <td>10023880</td>\n",
       "      <td>-0.030060387249354177</td>\n",
       "      <td>0.05214065915513532</td>\n",
       "      <td>0.02113362816776547</td>\n",
       "      <td>0.012619280144029242</td>\n",
       "      <td>0.007263220502570363</td>\n",
       "      <td>25.142857142857142</td>\n",
       "      <td>29.333333333333332</td>\n",
       "      <td>30.8</td>\n",
       "      <td>27.919047619047618</td>\n",
       "      <td>...</td>\n",
       "      <td>0.039591</td>\n",
       "      <td>27.500000</td>\n",
       "      <td>1400.000000</td>\n",
       "      <td>2007</td>\n",
       "      <td>383</td>\n",
       "      <td>38390.000000</td>\n",
       "      <td>27.500000</td>\n",
       "      <td>12.102631</td>\n",
       "      <td>0.440096</td>\n",
       "      <td>25.258465</td>\n",
       "    </tr>\n",
       "    <tr>\n",
       "      <th>4</th>\n",
       "      <td>10028999</td>\n",
       "      <td>-0.026308968642914484</td>\n",
       "      <td>-0.05027185123667554</td>\n",
       "      <td>0.01544649662663542</td>\n",
       "      <td>-0.07753219431426499</td>\n",
       "      <td>-0.0346666293918049</td>\n",
       "      <td>22.0</td>\n",
       "      <td>22.0</td>\n",
       "      <td>22.0</td>\n",
       "      <td>22.0</td>\n",
       "      <td>...</td>\n",
       "      <td>0.017541</td>\n",
       "      <td>22.000000</td>\n",
       "      <td>1320.923077</td>\n",
       "      <td>2007</td>\n",
       "      <td>62</td>\n",
       "      <td>29060.307692</td>\n",
       "      <td>22.000000</td>\n",
       "      <td>0.000000</td>\n",
       "      <td>0.000000</td>\n",
       "      <td>57.008334</td>\n",
       "    </tr>\n",
       "  </tbody>\n",
       "</table>\n",
       "<p>5 rows × 24 columns</p>\n",
       "</div>"
      ],
      "text/plain": [
       "    Cliente %△Valoración Promedio \\n Tipo de Semana 0  \\\n",
       "0  10003742                       -0.0652580488718174   \n",
       "1  10007508                     -0.007185734905445153   \n",
       "2  10017269                       0.03046114456733656   \n",
       "3  10023880                     -0.030060387249354177   \n",
       "4  10028999                     -0.026308968642914484   \n",
       "\n",
       "  %△Valoración Promedio \\n Tipo de Semana 1  \\\n",
       "0                       -0.0652580488718174   \n",
       "1                      0.018077218717184977   \n",
       "2                      0.019897886066589765   \n",
       "3                       0.05214065915513532   \n",
       "4                      -0.05027185123667554   \n",
       "\n",
       "  %△Valoración Promedio \\n Tipo de Semana 2  \\\n",
       "0                       -0.0652580488718174   \n",
       "1                      0.013714992109052858   \n",
       "2                       0.03147219540210185   \n",
       "3                       0.02113362816776547   \n",
       "4                       0.01544649662663542   \n",
       "\n",
       "  %△Valoración Promedio \\n Tipo de Semana 3  \\\n",
       "0                       -0.0652580488718174   \n",
       "1                       0.02452918655320076   \n",
       "2                     0.0056993826680127755   \n",
       "3                      0.012619280144029242   \n",
       "4                      -0.07753219431426499   \n",
       "\n",
       "  %△Valoración Promedio \\n Tipo de Semana 4  \\\n",
       "0                       -0.0652580488718174   \n",
       "1                      0.013855960433295756   \n",
       "2                     0.0007512242388005607   \n",
       "3                      0.007263220502570363   \n",
       "4                       -0.0346666293918049   \n",
       "\n",
       "  Kilos Venta KG Promedio \\n Tipo de Semana 0  \\\n",
       "0                                        22.0   \n",
       "1                           89.87777777777778   \n",
       "2                          21.941176470588236   \n",
       "3                          25.142857142857142   \n",
       "4                                        22.0   \n",
       "\n",
       "  Kilos Venta KG Promedio \\n Tipo de Semana 1  \\\n",
       "0                                        22.0   \n",
       "1                                      96.475   \n",
       "2                          22.263157894736842   \n",
       "3                          29.333333333333332   \n",
       "4                                        22.0   \n",
       "\n",
       "  Kilos Venta KG Promedio \\n Tipo de Semana 2  \\\n",
       "0                                        22.0   \n",
       "1                           95.56060606060606   \n",
       "2                                        22.0   \n",
       "3                                        30.8   \n",
       "4                                        22.0   \n",
       "\n",
       "  Kilos Venta KG Promedio \\n Tipo de Semana 3  ...  \\\n",
       "0                                        22.0  ...   \n",
       "1                                        90.2  ...   \n",
       "2                                        22.0  ...   \n",
       "3                          27.919047619047618  ...   \n",
       "4                                        22.0  ...   \n",
       "\n",
       "  Frecuency Actual del Cliente Kilos Venta KG Promedio  Precio Promedio  \\\n",
       "0                     0.003344               22.000000      1300.000000   \n",
       "1                     0.201752               93.158654      1266.894231   \n",
       "2                     0.059365               22.038462      1347.782051   \n",
       "3                     0.039591               27.500000      1400.000000   \n",
       "4                     0.017541               22.000000      1320.923077   \n",
       "\n",
       "  Año Creación Promedio  Frecuencia Historica Promedio  Monetary Actual  \\\n",
       "0                  2007                             19     28600.000000   \n",
       "1                  2007                            464    117683.471154   \n",
       "2                  2007                            101     29699.448718   \n",
       "3                  2007                            383     38390.000000   \n",
       "4                  2007                             62     29060.307692   \n",
       "\n",
       "   Ticket Promedio Actual  Ticket std Actual  Ticket CV Actual  \\\n",
       "0               22.000000           0.000000          0.000000   \n",
       "1               93.158654          36.215256          0.388748   \n",
       "2               22.038462           0.612474          0.027791   \n",
       "3               27.500000          12.102631          0.440096   \n",
       "4               22.000000           0.000000          0.000000   \n",
       "\n",
       "   $F^{-1}$ Actual  \n",
       "0       299.000000  \n",
       "1         4.956570  \n",
       "2        16.845022  \n",
       "3        25.258465  \n",
       "4        57.008334  \n",
       "\n",
       "[5 rows x 24 columns]"
      ]
     },
     "execution_count": 36,
     "metadata": {},
     "output_type": "execute_result"
    }
   ],
   "source": [
    "Clientes_i.head()"
   ]
  },
  {
   "cell_type": "markdown",
   "id": "c4d23b3c",
   "metadata": {
    "heading_collapsed": true
   },
   "source": [
    "###### Columnas RFM\n",
    "\n",
    "`Clientes_i_RFM[['Cliente']+Dic_col['RFM Customers']]`"
   ]
  },
  {
   "cell_type": "code",
   "execution_count": 37,
   "id": "6e6f5988",
   "metadata": {
    "hidden": true
   },
   "outputs": [
    {
     "data": {
      "text/html": [
       "<div>\n",
       "<style scoped>\n",
       "    .dataframe tbody tr th:only-of-type {\n",
       "        vertical-align: middle;\n",
       "    }\n",
       "\n",
       "    .dataframe tbody tr th {\n",
       "        vertical-align: top;\n",
       "    }\n",
       "\n",
       "    .dataframe thead th {\n",
       "        text-align: right;\n",
       "    }\n",
       "</style>\n",
       "<table border=\"1\" class=\"dataframe\">\n",
       "  <thead>\n",
       "    <tr style=\"text-align: right;\">\n",
       "      <th></th>\n",
       "      <th>Cliente</th>\n",
       "      <th>Recency Actual</th>\n",
       "      <th>Frecuency Actual del Cliente</th>\n",
       "      <th>Monetary Actual</th>\n",
       "    </tr>\n",
       "  </thead>\n",
       "  <tbody>\n",
       "    <tr>\n",
       "      <th>0</th>\n",
       "      <td>10003742</td>\n",
       "      <td>521</td>\n",
       "      <td>0.003344</td>\n",
       "      <td>28600.000000</td>\n",
       "    </tr>\n",
       "    <tr>\n",
       "      <th>1</th>\n",
       "      <td>10007508</td>\n",
       "      <td>0</td>\n",
       "      <td>0.201752</td>\n",
       "      <td>117683.471154</td>\n",
       "    </tr>\n",
       "    <tr>\n",
       "      <th>2</th>\n",
       "      <td>10017269</td>\n",
       "      <td>3</td>\n",
       "      <td>0.059365</td>\n",
       "      <td>29699.448718</td>\n",
       "    </tr>\n",
       "    <tr>\n",
       "      <th>3</th>\n",
       "      <td>10023880</td>\n",
       "      <td>47</td>\n",
       "      <td>0.039591</td>\n",
       "      <td>38390.000000</td>\n",
       "    </tr>\n",
       "    <tr>\n",
       "      <th>4</th>\n",
       "      <td>10028999</td>\n",
       "      <td>32</td>\n",
       "      <td>0.017541</td>\n",
       "      <td>29060.307692</td>\n",
       "    </tr>\n",
       "    <tr>\n",
       "      <th>...</th>\n",
       "      <td>...</td>\n",
       "      <td>...</td>\n",
       "      <td>...</td>\n",
       "      <td>...</td>\n",
       "    </tr>\n",
       "    <tr>\n",
       "      <th>5068</th>\n",
       "      <td>9992154</td>\n",
       "      <td>69</td>\n",
       "      <td>0.056885</td>\n",
       "      <td>46135.600000</td>\n",
       "    </tr>\n",
       "    <tr>\n",
       "      <th>5069</th>\n",
       "      <td>9993925</td>\n",
       "      <td>0</td>\n",
       "      <td>0.408158</td>\n",
       "      <td>200374.351750</td>\n",
       "    </tr>\n",
       "    <tr>\n",
       "      <th>5070</th>\n",
       "      <td>9994662</td>\n",
       "      <td>12</td>\n",
       "      <td>0.015996</td>\n",
       "      <td>28700.000000</td>\n",
       "    </tr>\n",
       "    <tr>\n",
       "      <th>5071</th>\n",
       "      <td>9994800</td>\n",
       "      <td>118</td>\n",
       "      <td>0.025931</td>\n",
       "      <td>27060.000000</td>\n",
       "    </tr>\n",
       "    <tr>\n",
       "      <th>5072</th>\n",
       "      <td>9997223</td>\n",
       "      <td>465</td>\n",
       "      <td>0.003344</td>\n",
       "      <td>23980.000000</td>\n",
       "    </tr>\n",
       "  </tbody>\n",
       "</table>\n",
       "<p>5073 rows × 4 columns</p>\n",
       "</div>"
      ],
      "text/plain": [
       "       Cliente  Recency Actual  Frecuency Actual del Cliente  Monetary Actual\n",
       "0     10003742             521                      0.003344     28600.000000\n",
       "1     10007508               0                      0.201752    117683.471154\n",
       "2     10017269               3                      0.059365     29699.448718\n",
       "3     10023880              47                      0.039591     38390.000000\n",
       "4     10028999              32                      0.017541     29060.307692\n",
       "...        ...             ...                           ...              ...\n",
       "5068   9992154              69                      0.056885     46135.600000\n",
       "5069   9993925               0                      0.408158    200374.351750\n",
       "5070   9994662              12                      0.015996     28700.000000\n",
       "5071   9994800             118                      0.025931     27060.000000\n",
       "5072   9997223             465                      0.003344     23980.000000\n",
       "\n",
       "[5073 rows x 4 columns]"
      ]
     },
     "execution_count": 37,
     "metadata": {},
     "output_type": "execute_result"
    }
   ],
   "source": [
    "Clientes_i_RFM[['Cliente']+Dic_col['RFM Customers']]"
   ]
  },
  {
   "cell_type": "markdown",
   "id": "617eb564",
   "metadata": {},
   "source": [
    "##### Copia especifica\n",
    "\n",
    "Se copia  \n",
    "`RFM_Customers=Clientes_i_RFM[['Cliente']+Dic_col['RFM Customers']].copy()`"
   ]
  },
  {
   "cell_type": "code",
   "execution_count": 38,
   "id": "5c5cfcf0",
   "metadata": {},
   "outputs": [],
   "source": [
    "RFM_Customers=Clientes_i_RFM[['Cliente']+Dic_col['RFM Customers']].copy()"
   ]
  },
  {
   "cell_type": "code",
   "execution_count": null,
   "metadata": {},
   "outputs": [],
   "source": []
  },
  {
   "cell_type": "markdown",
   "id": "1c29eb50",
   "metadata": {},
   "source": [
    "# Funciones de ajuste py \n",
    "\n",
    "`RFM_Customers`"
   ]
  },
  {
   "cell_type": "code",
   "execution_count": 40,
   "id": "8442b2a5",
   "metadata": {},
   "outputs": [],
   "source": [
    "import R_FM_Func\n",
    "# obj_1=R_FM_Func.Class_R_Estados()"
   ]
  },
  {
   "cell_type": "code",
   "execution_count": 21,
   "id": "f242163a",
   "metadata": {
    "scrolled": true
   },
   "outputs": [],
   "source": [
    "#Copio el data frame solo con las columnas de interes,\n",
    "#  además contruyo el atributo Estado\n",
    "RFM_Customers=\\\n",
    "R_FM_Func.DF_Estado_R(\n",
    "    Data_Customers_Full[['Cliente']+Dic_col['RFM Customers']].copy()\n",
    "                )"
   ]
  },
  {
   "cell_type": "code",
   "execution_count": 22,
   "id": "2358cc97",
   "metadata": {
    "scrolled": false
   },
   "outputs": [
    {
     "data": {
      "text/html": [
       "<div>\n",
       "<style scoped>\n",
       "    .dataframe tbody tr th:only-of-type {\n",
       "        vertical-align: middle;\n",
       "    }\n",
       "\n",
       "    .dataframe tbody tr th {\n",
       "        vertical-align: top;\n",
       "    }\n",
       "\n",
       "    .dataframe thead th {\n",
       "        text-align: right;\n",
       "    }\n",
       "</style>\n",
       "<table border=\"1\" class=\"dataframe\">\n",
       "  <thead>\n",
       "    <tr style=\"text-align: right;\">\n",
       "      <th></th>\n",
       "      <th>Cliente</th>\n",
       "      <th>Recency Actual</th>\n",
       "      <th>Frecuency Actual del Cliente</th>\n",
       "      <th>Monetary Actual</th>\n",
       "      <th>Actividad del cliente</th>\n",
       "      <th>Frecuency Actual del Cliente (Escala ln) (Escala Min Max)</th>\n",
       "      <th>Monetary Actual (Escala ln) (Escala Min Max)</th>\n",
       "    </tr>\n",
       "  </thead>\n",
       "  <tbody>\n",
       "    <tr>\n",
       "      <th>0</th>\n",
       "      <td>10003742</td>\n",
       "      <td>521</td>\n",
       "      <td>0.003344</td>\n",
       "      <td>28600.000000</td>\n",
       "      <td>Fugado</td>\n",
       "      <td>0.000000</td>\n",
       "      <td>0.000000</td>\n",
       "    </tr>\n",
       "    <tr>\n",
       "      <th>1</th>\n",
       "      <td>10007508</td>\n",
       "      <td>0</td>\n",
       "      <td>0.201752</td>\n",
       "      <td>117683.471154</td>\n",
       "      <td>Activo</td>\n",
       "      <td>1.000000</td>\n",
       "      <td>1.000000</td>\n",
       "    </tr>\n",
       "    <tr>\n",
       "      <th>2</th>\n",
       "      <td>10017269</td>\n",
       "      <td>3</td>\n",
       "      <td>0.059365</td>\n",
       "      <td>29699.448718</td>\n",
       "      <td>Activo</td>\n",
       "      <td>0.701604</td>\n",
       "      <td>0.026666</td>\n",
       "    </tr>\n",
       "    <tr>\n",
       "      <th>3</th>\n",
       "      <td>10023880</td>\n",
       "      <td>47</td>\n",
       "      <td>0.039591</td>\n",
       "      <td>38390.000000</td>\n",
       "      <td>Activo</td>\n",
       "      <td>0.602792</td>\n",
       "      <td>0.208110</td>\n",
       "    </tr>\n",
       "    <tr>\n",
       "      <th>4</th>\n",
       "      <td>10028999</td>\n",
       "      <td>32</td>\n",
       "      <td>0.017541</td>\n",
       "      <td>29060.307692</td>\n",
       "      <td>Activo</td>\n",
       "      <td>0.404233</td>\n",
       "      <td>0.011287</td>\n",
       "    </tr>\n",
       "  </tbody>\n",
       "</table>\n",
       "</div>"
      ],
      "text/plain": [
       "    Cliente  Recency Actual  Frecuency Actual del Cliente  Monetary Actual  \\\n",
       "0  10003742             521                      0.003344     28600.000000   \n",
       "1  10007508               0                      0.201752    117683.471154   \n",
       "2  10017269               3                      0.059365     29699.448718   \n",
       "3  10023880              47                      0.039591     38390.000000   \n",
       "4  10028999              32                      0.017541     29060.307692   \n",
       "\n",
       "  Actividad del cliente  \\\n",
       "0                Fugado   \n",
       "1                Activo   \n",
       "2                Activo   \n",
       "3                Activo   \n",
       "4                Activo   \n",
       "\n",
       "   Frecuency Actual del Cliente (Escala ln) (Escala Min Max)  \\\n",
       "0                                           0.000000           \n",
       "1                                           1.000000           \n",
       "2                                           0.701604           \n",
       "3                                           0.602792           \n",
       "4                                           0.404233           \n",
       "\n",
       "   Monetary Actual (Escala ln) (Escala Min Max)  \n",
       "0                                      0.000000  \n",
       "1                                      1.000000  \n",
       "2                                      0.026666  \n",
       "3                                      0.208110  \n",
       "4                                      0.011287  "
      ]
     },
     "execution_count": 22,
     "metadata": {},
     "output_type": "execute_result"
    }
   ],
   "source": [
    "Col_FM=['Frecuency Actual del Cliente','Monetary Actual']          \n",
    "RFM_Customers=\\\n",
    "R_FM_Func.data_Min_Max(\n",
    "   R_FM_Func.data_ln(\n",
    "       RFM_Customers,Col_FM,False)\n",
    "   ,[c + ' (Escala ln)' for c in Col_FM]\n",
    "   ,True)\n",
    "RFM_Customers.head()"
   ]
  },
  {
   "cell_type": "markdown",
   "id": "14ceccfd",
   "metadata": {},
   "source": [
    "##### Aplico la función FxM"
   ]
  },
  {
   "cell_type": "code",
   "execution_count": 59,
   "id": "5d43d017",
   "metadata": {},
   "outputs": [],
   "source": [
    "RFM_Customers=R_FM_Func.Df_Pond_FxM(\n",
    "                        RFM_Customers , \n",
    "                        [c + ' (Escala ln)'+' (Escala Min Max)' for c in Col_FM]\n",
    "                        # [ 'Frecuency Actual del Cliente (Escala Min Max) (Escala ln)',\n",
    "                        # 'Monetary Actual (Escala Min Max) (Escala ln)']\n",
    "                        , 1, 0.5 )"
   ]
  },
  {
   "cell_type": "code",
   "execution_count": 60,
   "id": "8fe52d11",
   "metadata": {},
   "outputs": [
    {
     "data": {
      "text/html": [
       "<div>\n",
       "<style scoped>\n",
       "    .dataframe tbody tr th:only-of-type {\n",
       "        vertical-align: middle;\n",
       "    }\n",
       "\n",
       "    .dataframe tbody tr th {\n",
       "        vertical-align: top;\n",
       "    }\n",
       "\n",
       "    .dataframe thead th {\n",
       "        text-align: right;\n",
       "    }\n",
       "</style>\n",
       "<table border=\"1\" class=\"dataframe\">\n",
       "  <thead>\n",
       "    <tr style=\"text-align: right;\">\n",
       "      <th></th>\n",
       "      <th>Recency Actual</th>\n",
       "      <th>Frecuency Actual del Cliente</th>\n",
       "      <th>Monetary Actual</th>\n",
       "      <th>Frecuency Actual del Cliente (Escala ln) (Escala Min Max)</th>\n",
       "      <th>Monetary Actual (Escala ln) (Escala Min Max)</th>\n",
       "      <th>$(F \\times W_F + M \\times W_M)$</th>\n",
       "    </tr>\n",
       "  </thead>\n",
       "  <tbody>\n",
       "    <tr>\n",
       "      <th>count</th>\n",
       "      <td>5073.000000</td>\n",
       "      <td>5073.000000</td>\n",
       "      <td>5.073000e+03</td>\n",
       "      <td>5073.000000</td>\n",
       "      <td>5073.000000</td>\n",
       "      <td>5073.000000</td>\n",
       "    </tr>\n",
       "    <tr>\n",
       "      <th>mean</th>\n",
       "      <td>132.606939</td>\n",
       "      <td>0.045890</td>\n",
       "      <td>6.950676e+04</td>\n",
       "      <td>-2.518332</td>\n",
       "      <td>0.047753</td>\n",
       "      <td>-2.494455</td>\n",
       "    </tr>\n",
       "    <tr>\n",
       "      <th>std</th>\n",
       "      <td>194.865083</td>\n",
       "      <td>0.063359</td>\n",
       "      <td>1.523421e+05</td>\n",
       "      <td>1.570774</td>\n",
       "      <td>0.049265</td>\n",
       "      <td>1.559330</td>\n",
       "    </tr>\n",
       "    <tr>\n",
       "      <th>min</th>\n",
       "      <td>0.000000</td>\n",
       "      <td>0.003086</td>\n",
       "      <td>2.070000e+04</td>\n",
       "      <td>-6.478684</td>\n",
       "      <td>0.000000</td>\n",
       "      <td>-6.442873</td>\n",
       "    </tr>\n",
       "    <tr>\n",
       "      <th>25%</th>\n",
       "      <td>7.000000</td>\n",
       "      <td>0.008441</td>\n",
       "      <td>2.829200e+04</td>\n",
       "      <td>-3.703702</td>\n",
       "      <td>0.021070</td>\n",
       "      <td>-3.675425</td>\n",
       "    </tr>\n",
       "    <tr>\n",
       "      <th>50%</th>\n",
       "      <td>49.000000</td>\n",
       "      <td>0.017654</td>\n",
       "      <td>3.020600e+04</td>\n",
       "      <td>-2.256324</td>\n",
       "      <td>0.025485</td>\n",
       "      <td>-2.238208</td>\n",
       "    </tr>\n",
       "    <tr>\n",
       "      <th>75%</th>\n",
       "      <td>173.000000</td>\n",
       "      <td>0.054041</td>\n",
       "      <td>4.473357e+04</td>\n",
       "      <td>-1.301814</td>\n",
       "      <td>0.051966</td>\n",
       "      <td>-1.289000</td>\n",
       "    </tr>\n",
       "    <tr>\n",
       "      <th>max</th>\n",
       "      <td>1369.000000</td>\n",
       "      <td>0.461632</td>\n",
       "      <td>2.754333e+06</td>\n",
       "      <td>-0.000000</td>\n",
       "      <td>0.329820</td>\n",
       "      <td>0.059453</td>\n",
       "    </tr>\n",
       "  </tbody>\n",
       "</table>\n",
       "</div>"
      ],
      "text/plain": [
       "       Recency Actual  Frecuency Actual del Cliente  Monetary Actual  \\\n",
       "count     5073.000000                   5073.000000     5.073000e+03   \n",
       "mean       132.606939                      0.045890     6.950676e+04   \n",
       "std        194.865083                      0.063359     1.523421e+05   \n",
       "min          0.000000                      0.003086     2.070000e+04   \n",
       "25%          7.000000                      0.008441     2.829200e+04   \n",
       "50%         49.000000                      0.017654     3.020600e+04   \n",
       "75%        173.000000                      0.054041     4.473357e+04   \n",
       "max       1369.000000                      0.461632     2.754333e+06   \n",
       "\n",
       "       Frecuency Actual del Cliente (Escala ln) (Escala Min Max)  \\\n",
       "count                                        5073.000000           \n",
       "mean                                           -2.518332           \n",
       "std                                             1.570774           \n",
       "min                                            -6.478684           \n",
       "25%                                            -3.703702           \n",
       "50%                                            -2.256324           \n",
       "75%                                            -1.301814           \n",
       "max                                            -0.000000           \n",
       "\n",
       "       Monetary Actual (Escala ln) (Escala Min Max)  \\\n",
       "count                                   5073.000000   \n",
       "mean                                       0.047753   \n",
       "std                                        0.049265   \n",
       "min                                        0.000000   \n",
       "25%                                        0.021070   \n",
       "50%                                        0.025485   \n",
       "75%                                        0.051966   \n",
       "max                                        0.329820   \n",
       "\n",
       "       $(F \\times W_F + M \\times W_M)$  \n",
       "count                      5073.000000  \n",
       "mean                         -2.494455  \n",
       "std                           1.559330  \n",
       "min                          -6.442873  \n",
       "25%                          -3.675425  \n",
       "50%                          -2.238208  \n",
       "75%                          -1.289000  \n",
       "max                           0.059453  "
      ]
     },
     "execution_count": 60,
     "metadata": {},
     "output_type": "execute_result"
    }
   ],
   "source": [
    "RFM_Customers.describe()"
   ]
  },
  {
   "cell_type": "code",
   "execution_count": null,
   "id": "8e1e4b20",
   "metadata": {},
   "outputs": [],
   "source": [
    "R_FM_Func.def_Col_cluster(\n",
    "    RFM_Customers,[ 'Frecuency Actual del Cliente (Escala Min Max) (Escala ln)',\n",
    "       'Monetary Actual (Escala Min Max) (Escala ln)',\n",
    "       '$(F \\times W_F + M \\times W_M)$'],5\n",
    "    )"
   ]
  },
  {
   "cell_type": "markdown",
   "id": "4f1b9522",
   "metadata": {},
   "source": [
    "### R_FM como dicionario para rediriguir según la actividad"
   ]
  },
  {
   "cell_type": "code",
   "execution_count": 45,
   "id": "627f8cf4",
   "metadata": {},
   "outputs": [
    {
     "data": {
      "text/html": [
       "<div>\n",
       "<style scoped>\n",
       "    .dataframe tbody tr th:only-of-type {\n",
       "        vertical-align: middle;\n",
       "    }\n",
       "\n",
       "    .dataframe tbody tr th {\n",
       "        vertical-align: top;\n",
       "    }\n",
       "\n",
       "    .dataframe thead th {\n",
       "        text-align: right;\n",
       "    }\n",
       "</style>\n",
       "<table border=\"1\" class=\"dataframe\">\n",
       "  <thead>\n",
       "    <tr style=\"text-align: right;\">\n",
       "      <th></th>\n",
       "      <th>Cliente</th>\n",
       "      <th>Recency Actual</th>\n",
       "      <th>Frecuency Actual del Cliente</th>\n",
       "      <th>Monetary Actual</th>\n",
       "      <th>Actividad del cliente</th>\n",
       "      <th>Frecuency Actual del Cliente (Escala Min Max) (Escala ln)</th>\n",
       "      <th>Monetary Actual (Escala Min Max) (Escala ln)</th>\n",
       "      <th>$(F \\times W_F + M \\times W_M)$</th>\n",
       "    </tr>\n",
       "  </thead>\n",
       "  <tbody>\n",
       "    <tr>\n",
       "      <th>1</th>\n",
       "      <td>10007508</td>\n",
       "      <td>0</td>\n",
       "      <td>0.201752</td>\n",
       "      <td>117683.471154</td>\n",
       "      <td>Activo</td>\n",
       "      <td>-0.843141</td>\n",
       "      <td>-3.346390</td>\n",
       "      <td>-2.516336</td>\n",
       "    </tr>\n",
       "    <tr>\n",
       "      <th>2</th>\n",
       "      <td>10017269</td>\n",
       "      <td>3</td>\n",
       "      <td>0.059365</td>\n",
       "      <td>29699.448718</td>\n",
       "      <td>Activo</td>\n",
       "      <td>-2.104450</td>\n",
       "      <td>-5.723767</td>\n",
       "      <td>-4.966334</td>\n",
       "    </tr>\n",
       "    <tr>\n",
       "      <th>3</th>\n",
       "      <td>10023880</td>\n",
       "      <td>47</td>\n",
       "      <td>0.039591</td>\n",
       "      <td>38390.000000</td>\n",
       "      <td>Activo</td>\n",
       "      <td>-2.537324</td>\n",
       "      <td>-5.047931</td>\n",
       "      <td>-5.061290</td>\n",
       "    </tr>\n",
       "    <tr>\n",
       "      <th>4</th>\n",
       "      <td>10028999</td>\n",
       "      <td>32</td>\n",
       "      <td>0.017541</td>\n",
       "      <td>29060.307692</td>\n",
       "      <td>Activo</td>\n",
       "      <td>-3.463699</td>\n",
       "      <td>-5.797435</td>\n",
       "      <td>-6.362416</td>\n",
       "    </tr>\n",
       "    <tr>\n",
       "      <th>6</th>\n",
       "      <td>10032204</td>\n",
       "      <td>5</td>\n",
       "      <td>0.007030</td>\n",
       "      <td>30206.000000</td>\n",
       "      <td>Activo</td>\n",
       "      <td>-4.762543</td>\n",
       "      <td>-5.669007</td>\n",
       "      <td>-7.597047</td>\n",
       "    </tr>\n",
       "  </tbody>\n",
       "</table>\n",
       "</div>"
      ],
      "text/plain": [
       "    Cliente  Recency Actual  Frecuency Actual del Cliente  Monetary Actual  \\\n",
       "1  10007508               0                      0.201752    117683.471154   \n",
       "2  10017269               3                      0.059365     29699.448718   \n",
       "3  10023880              47                      0.039591     38390.000000   \n",
       "4  10028999              32                      0.017541     29060.307692   \n",
       "6  10032204               5                      0.007030     30206.000000   \n",
       "\n",
       "  Actividad del cliente  \\\n",
       "1                Activo   \n",
       "2                Activo   \n",
       "3                Activo   \n",
       "4                Activo   \n",
       "6                Activo   \n",
       "\n",
       "   Frecuency Actual del Cliente (Escala Min Max) (Escala ln)  \\\n",
       "1                                          -0.843141           \n",
       "2                                          -2.104450           \n",
       "3                                          -2.537324           \n",
       "4                                          -3.463699           \n",
       "6                                          -4.762543           \n",
       "\n",
       "   Monetary Actual (Escala Min Max) (Escala ln)  \\\n",
       "1                                     -3.346390   \n",
       "2                                     -5.723767   \n",
       "3                                     -5.047931   \n",
       "4                                     -5.797435   \n",
       "6                                     -5.669007   \n",
       "\n",
       "   $(F \\times W_F + M \\times W_M)$  \n",
       "1                        -2.516336  \n",
       "2                        -4.966334  \n",
       "3                        -5.061290  \n",
       "4                        -6.362416  \n",
       "6                        -7.597047  "
      ]
     },
     "execution_count": 45,
     "metadata": {},
     "output_type": "execute_result"
    }
   ],
   "source": [
    "R_FM_Customers={\n",
    "    'Activo':RFM_Customers[RFM_Customers['Actividad del cliente']=='Activo']\n",
    "    ,'Fugandose':RFM_Customers[RFM_Customers['Actividad del cliente']=='Fugandose']\n",
    "    ,'Fugando':RFM_Customers[RFM_Customers['Actividad del cliente']=='Fugando']\n",
    "}\n",
    "R_FM_Customers['Activo'].head()"
   ]
  },
  {
   "cell_type": "code",
   "execution_count": 46,
   "id": "992a9277",
   "metadata": {},
   "outputs": [
    {
     "data": {
      "text/plain": [
       "Index(['Cliente', 'Recency Actual', 'Frecuency Actual del Cliente',\n",
       "       'Monetary Actual', 'Actividad del cliente',\n",
       "       'Frecuency Actual del Cliente (Escala Min Max) (Escala ln)',\n",
       "       'Monetary Actual (Escala Min Max) (Escala ln)',\n",
       "       '$(F \\times W_F + M \\times W_M)$'],\n",
       "      dtype='object')"
      ]
     },
     "execution_count": 46,
     "metadata": {},
     "output_type": "execute_result"
    }
   ],
   "source": [
    "R_FM_Customers['Activo'].columns"
   ]
  },
  {
   "cell_type": "code",
   "execution_count": 48,
   "id": "edcf3af0",
   "metadata": {},
   "outputs": [
    {
     "data": {
      "text/plain": [
       "dict_keys(['Activo', 'Fugandose', 'Fugando'])"
      ]
     },
     "execution_count": 48,
     "metadata": {},
     "output_type": "execute_result"
    }
   ],
   "source": [
    "R_FM_Customers.keys()"
   ]
  },
  {
   "cell_type": "markdown",
   "id": "978f7570",
   "metadata": {},
   "source": [
    "#### Curva K-means"
   ]
  },
  {
   "cell_type": "code",
   "execution_count": 49,
   "id": "00c44016",
   "metadata": {},
   "outputs": [
    {
     "data": {
      "image/png": "[encoded data removed]",
      "text/plain": [
       "<Figure size 432x288 with 1 Axes>"
      ]
     },
     "metadata": {
      "needs_background": "light"
     },
     "output_type": "display_data"
    },
    {
     "data": {
      "image/png": "[encoded data removed]",
      "text/plain": [
       "<Figure size 432x288 with 1 Axes>"
      ]
     },
     "metadata": {
      "needs_background": "light"
     },
     "output_type": "display_data"
    },
    {
     "data": {
      "image/png": "[encoded data removed]",
      "text/plain": [
       "<Figure size 432x288 with 1 Axes>"
      ]
     },
     "metadata": {
      "needs_background": "light"
     },
     "output_type": "display_data"
    }
   ],
   "source": [
    "for i in R_FM_Customers.keys():\n",
    "       R_FM_Func.Curva_kmeans(R_FM_Customers['Activo'],[ 'Frecuency Actual del Cliente (Escala Min Max) (Escala ln)',\n",
    "       'Monetary Actual (Escala Min Max) (Escala ln)',\n",
    "       '$(F \\times W_F + M \\times W_M)$'])"
   ]
  },
  {
   "cell_type": "markdown",
   "id": "fd1fea1c",
   "metadata": {},
   "source": [
    "### Clustering "
   ]
  },
  {
   "cell_type": "code",
   "execution_count": 51,
   "id": "a216224f",
   "metadata": {},
   "outputs": [
    {
     "ename": "ValueError",
     "evalue": "Input contains infinity or a value too large for dtype('float64').",
     "output_type": "error",
     "traceback": [
      "\u001b[1;31m---------------------------------------------------------------------------\u001b[0m",
      "\u001b[1;31mValueError\u001b[0m                                Traceback (most recent call last)",
      "\u001b[1;32m<ipython-input-51-7c3cbfb0436c>\u001b[0m in \u001b[0;36m<module>\u001b[1;34m\u001b[0m\n\u001b[0;32m      1\u001b[0m \u001b[0mA_Clust\u001b[0m\u001b[1;33m=\u001b[0m\u001b[1;33m[\u001b[0m\u001b[1;33m]\u001b[0m\u001b[1;33m\u001b[0m\u001b[1;33m\u001b[0m\u001b[0m\n\u001b[0;32m      2\u001b[0m \u001b[1;32mfor\u001b[0m \u001b[0mi\u001b[0m \u001b[1;32min\u001b[0m \u001b[0mR_FM_Customers\u001b[0m\u001b[1;33m.\u001b[0m\u001b[0mkeys\u001b[0m\u001b[1;33m(\u001b[0m\u001b[1;33m)\u001b[0m\u001b[1;33m:\u001b[0m\u001b[1;33m\u001b[0m\u001b[1;33m\u001b[0m\u001b[0m\n\u001b[1;32m----> 3\u001b[1;33m     A_Clust.append(R_FM_Func.def_Col_cluster(\n\u001b[0m\u001b[0;32m      4\u001b[0m     R_FM_Customers[i],[ 'Frecuency Actual del Cliente (Escala Min Max) (Escala ln)',\n\u001b[0;32m      5\u001b[0m        \u001b[1;34m'Monetary Actual (Escala Min Max) (Escala ln)'\u001b[0m\u001b[1;33m,\u001b[0m\u001b[1;33m\u001b[0m\u001b[1;33m\u001b[0m\u001b[0m\n",
      "\u001b[1;32mc:\\Users\\user\\Documents\\Clustering\\R_FM_Func.py\u001b[0m in \u001b[0;36mdef_Col_cluster\u001b[1;34m(D_Clientes, Col, Numero_de_clusters, ln_Col_tra)\u001b[0m\n\u001b[0;32m    205\u001b[0m \u001b[1;33m\u001b[0m\u001b[0m\n\u001b[0;32m    206\u001b[0m \u001b[1;33m\u001b[0m\u001b[0m\n\u001b[1;32m--> 207\u001b[1;33m     \u001b[0mX_std\u001b[0m \u001b[1;33m=\u001b[0m \u001b[0mpd\u001b[0m\u001b[1;33m.\u001b[0m\u001b[0mDataFrame\u001b[0m\u001b[1;33m(\u001b[0m\u001b[0mStandardScaler\u001b[0m\u001b[1;33m(\u001b[0m\u001b[1;33m)\u001b[0m\u001b[1;33m.\u001b[0m\u001b[0mfit_transform\u001b[0m\u001b[1;33m(\u001b[0m\u001b[0mX_std\u001b[0m\u001b[1;33m)\u001b[0m\u001b[1;33m,\u001b[0m\u001b[0mcolumns\u001b[0m\u001b[1;33m=\u001b[0m\u001b[0mX_std\u001b[0m\u001b[1;33m.\u001b[0m\u001b[0mcolumns\u001b[0m\u001b[1;33m)\u001b[0m\u001b[1;33m\u001b[0m\u001b[1;33m\u001b[0m\u001b[0m\n\u001b[0m\u001b[0;32m    208\u001b[0m \u001b[1;33m\u001b[0m\u001b[0m\n\u001b[0;32m    209\u001b[0m \u001b[1;31m#=========================================\u001b[0m\u001b[1;33m\u001b[0m\u001b[1;33m\u001b[0m\u001b[1;33m\u001b[0m\u001b[0m\n",
      "\u001b[1;32mc:\\Users\\user\\anaconda3\\lib\\site-packages\\sklearn\\base.py\u001b[0m in \u001b[0;36mfit_transform\u001b[1;34m(self, X, y, **fit_params)\u001b[0m\n\u001b[0;32m    845\u001b[0m         \u001b[1;32mif\u001b[0m \u001b[0my\u001b[0m \u001b[1;32mis\u001b[0m \u001b[1;32mNone\u001b[0m\u001b[1;33m:\u001b[0m\u001b[1;33m\u001b[0m\u001b[1;33m\u001b[0m\u001b[0m\n\u001b[0;32m    846\u001b[0m             \u001b[1;31m# fit method of arity 1 (unsupervised transformation)\u001b[0m\u001b[1;33m\u001b[0m\u001b[1;33m\u001b[0m\u001b[1;33m\u001b[0m\u001b[0m\n\u001b[1;32m--> 847\u001b[1;33m             \u001b[1;32mreturn\u001b[0m \u001b[0mself\u001b[0m\u001b[1;33m.\u001b[0m\u001b[0mfit\u001b[0m\u001b[1;33m(\u001b[0m\u001b[0mX\u001b[0m\u001b[1;33m,\u001b[0m \u001b[1;33m**\u001b[0m\u001b[0mfit_params\u001b[0m\u001b[1;33m)\u001b[0m\u001b[1;33m.\u001b[0m\u001b[0mtransform\u001b[0m\u001b[1;33m(\u001b[0m\u001b[0mX\u001b[0m\u001b[1;33m)\u001b[0m\u001b[1;33m\u001b[0m\u001b[1;33m\u001b[0m\u001b[0m\n\u001b[0m\u001b[0;32m    848\u001b[0m         \u001b[1;32melse\u001b[0m\u001b[1;33m:\u001b[0m\u001b[1;33m\u001b[0m\u001b[1;33m\u001b[0m\u001b[0m\n\u001b[0;32m    849\u001b[0m             \u001b[1;31m# fit method of arity 2 (supervised transformation)\u001b[0m\u001b[1;33m\u001b[0m\u001b[1;33m\u001b[0m\u001b[1;33m\u001b[0m\u001b[0m\n",
      "\u001b[1;32mc:\\Users\\user\\anaconda3\\lib\\site-packages\\sklearn\\preprocessing\\_data.py\u001b[0m in \u001b[0;36mfit\u001b[1;34m(self, X, y, sample_weight)\u001b[0m\n\u001b[0;32m    804\u001b[0m         \u001b[1;31m# Reset internal state before fitting\u001b[0m\u001b[1;33m\u001b[0m\u001b[1;33m\u001b[0m\u001b[1;33m\u001b[0m\u001b[0m\n\u001b[0;32m    805\u001b[0m         \u001b[0mself\u001b[0m\u001b[1;33m.\u001b[0m\u001b[0m_reset\u001b[0m\u001b[1;33m(\u001b[0m\u001b[1;33m)\u001b[0m\u001b[1;33m\u001b[0m\u001b[1;33m\u001b[0m\u001b[0m\n\u001b[1;32m--> 806\u001b[1;33m         \u001b[1;32mreturn\u001b[0m \u001b[0mself\u001b[0m\u001b[1;33m.\u001b[0m\u001b[0mpartial_fit\u001b[0m\u001b[1;33m(\u001b[0m\u001b[0mX\u001b[0m\u001b[1;33m,\u001b[0m \u001b[0my\u001b[0m\u001b[1;33m,\u001b[0m \u001b[0msample_weight\u001b[0m\u001b[1;33m)\u001b[0m\u001b[1;33m\u001b[0m\u001b[1;33m\u001b[0m\u001b[0m\n\u001b[0m\u001b[0;32m    807\u001b[0m \u001b[1;33m\u001b[0m\u001b[0m\n\u001b[0;32m    808\u001b[0m     \u001b[1;32mdef\u001b[0m \u001b[0mpartial_fit\u001b[0m\u001b[1;33m(\u001b[0m\u001b[0mself\u001b[0m\u001b[1;33m,\u001b[0m \u001b[0mX\u001b[0m\u001b[1;33m,\u001b[0m \u001b[0my\u001b[0m\u001b[1;33m=\u001b[0m\u001b[1;32mNone\u001b[0m\u001b[1;33m,\u001b[0m \u001b[0msample_weight\u001b[0m\u001b[1;33m=\u001b[0m\u001b[1;32mNone\u001b[0m\u001b[1;33m)\u001b[0m\u001b[1;33m:\u001b[0m\u001b[1;33m\u001b[0m\u001b[1;33m\u001b[0m\u001b[0m\n",
      "\u001b[1;32mc:\\Users\\user\\anaconda3\\lib\\site-packages\\sklearn\\preprocessing\\_data.py\u001b[0m in \u001b[0;36mpartial_fit\u001b[1;34m(self, X, y, sample_weight)\u001b[0m\n\u001b[0;32m    839\u001b[0m         \"\"\"\n\u001b[0;32m    840\u001b[0m         \u001b[0mfirst_call\u001b[0m \u001b[1;33m=\u001b[0m \u001b[1;32mnot\u001b[0m \u001b[0mhasattr\u001b[0m\u001b[1;33m(\u001b[0m\u001b[0mself\u001b[0m\u001b[1;33m,\u001b[0m \u001b[1;34m\"n_samples_seen_\"\u001b[0m\u001b[1;33m)\u001b[0m\u001b[1;33m\u001b[0m\u001b[1;33m\u001b[0m\u001b[0m\n\u001b[1;32m--> 841\u001b[1;33m         X = self._validate_data(\n\u001b[0m\u001b[0;32m    842\u001b[0m             \u001b[0mX\u001b[0m\u001b[1;33m,\u001b[0m\u001b[1;33m\u001b[0m\u001b[1;33m\u001b[0m\u001b[0m\n\u001b[0;32m    843\u001b[0m             \u001b[0maccept_sparse\u001b[0m\u001b[1;33m=\u001b[0m\u001b[1;33m(\u001b[0m\u001b[1;34m\"csr\"\u001b[0m\u001b[1;33m,\u001b[0m \u001b[1;34m\"csc\"\u001b[0m\u001b[1;33m)\u001b[0m\u001b[1;33m,\u001b[0m\u001b[1;33m\u001b[0m\u001b[1;33m\u001b[0m\u001b[0m\n",
      "\u001b[1;32mc:\\Users\\user\\anaconda3\\lib\\site-packages\\sklearn\\base.py\u001b[0m in \u001b[0;36m_validate_data\u001b[1;34m(self, X, y, reset, validate_separately, **check_params)\u001b[0m\n\u001b[0;32m    559\u001b[0m             \u001b[1;32mraise\u001b[0m \u001b[0mValueError\u001b[0m\u001b[1;33m(\u001b[0m\u001b[1;34m\"Validation should be done on X, y or both.\"\u001b[0m\u001b[1;33m)\u001b[0m\u001b[1;33m\u001b[0m\u001b[1;33m\u001b[0m\u001b[0m\n\u001b[0;32m    560\u001b[0m         \u001b[1;32melif\u001b[0m \u001b[1;32mnot\u001b[0m \u001b[0mno_val_X\u001b[0m \u001b[1;32mand\u001b[0m \u001b[0mno_val_y\u001b[0m\u001b[1;33m:\u001b[0m\u001b[1;33m\u001b[0m\u001b[1;33m\u001b[0m\u001b[0m\n\u001b[1;32m--> 561\u001b[1;33m             \u001b[0mX\u001b[0m \u001b[1;33m=\u001b[0m \u001b[0mcheck_array\u001b[0m\u001b[1;33m(\u001b[0m\u001b[0mX\u001b[0m\u001b[1;33m,\u001b[0m \u001b[1;33m**\u001b[0m\u001b[0mcheck_params\u001b[0m\u001b[1;33m)\u001b[0m\u001b[1;33m\u001b[0m\u001b[1;33m\u001b[0m\u001b[0m\n\u001b[0m\u001b[0;32m    562\u001b[0m             \u001b[0mout\u001b[0m \u001b[1;33m=\u001b[0m \u001b[0mX\u001b[0m\u001b[1;33m\u001b[0m\u001b[1;33m\u001b[0m\u001b[0m\n\u001b[0;32m    563\u001b[0m         \u001b[1;32melif\u001b[0m \u001b[0mno_val_X\u001b[0m \u001b[1;32mand\u001b[0m \u001b[1;32mnot\u001b[0m \u001b[0mno_val_y\u001b[0m\u001b[1;33m:\u001b[0m\u001b[1;33m\u001b[0m\u001b[1;33m\u001b[0m\u001b[0m\n",
      "\u001b[1;32mc:\\Users\\user\\anaconda3\\lib\\site-packages\\sklearn\\utils\\validation.py\u001b[0m in \u001b[0;36mcheck_array\u001b[1;34m(array, accept_sparse, accept_large_sparse, dtype, order, copy, force_all_finite, ensure_2d, allow_nd, ensure_min_samples, ensure_min_features, estimator)\u001b[0m\n\u001b[0;32m    790\u001b[0m \u001b[1;33m\u001b[0m\u001b[0m\n\u001b[0;32m    791\u001b[0m         \u001b[1;32mif\u001b[0m \u001b[0mforce_all_finite\u001b[0m\u001b[1;33m:\u001b[0m\u001b[1;33m\u001b[0m\u001b[1;33m\u001b[0m\u001b[0m\n\u001b[1;32m--> 792\u001b[1;33m             \u001b[0m_assert_all_finite\u001b[0m\u001b[1;33m(\u001b[0m\u001b[0marray\u001b[0m\u001b[1;33m,\u001b[0m \u001b[0mallow_nan\u001b[0m\u001b[1;33m=\u001b[0m\u001b[0mforce_all_finite\u001b[0m \u001b[1;33m==\u001b[0m \u001b[1;34m\"allow-nan\"\u001b[0m\u001b[1;33m)\u001b[0m\u001b[1;33m\u001b[0m\u001b[1;33m\u001b[0m\u001b[0m\n\u001b[0m\u001b[0;32m    793\u001b[0m \u001b[1;33m\u001b[0m\u001b[0m\n\u001b[0;32m    794\u001b[0m     \u001b[1;32mif\u001b[0m \u001b[0mensure_min_samples\u001b[0m \u001b[1;33m>\u001b[0m \u001b[1;36m0\u001b[0m\u001b[1;33m:\u001b[0m\u001b[1;33m\u001b[0m\u001b[1;33m\u001b[0m\u001b[0m\n",
      "\u001b[1;32mc:\\Users\\user\\anaconda3\\lib\\site-packages\\sklearn\\utils\\validation.py\u001b[0m in \u001b[0;36m_assert_all_finite\u001b[1;34m(X, allow_nan, msg_dtype)\u001b[0m\n\u001b[0;32m    112\u001b[0m         ):\n\u001b[0;32m    113\u001b[0m             \u001b[0mtype_err\u001b[0m \u001b[1;33m=\u001b[0m \u001b[1;34m\"infinity\"\u001b[0m \u001b[1;32mif\u001b[0m \u001b[0mallow_nan\u001b[0m \u001b[1;32melse\u001b[0m \u001b[1;34m\"NaN, infinity\"\u001b[0m\u001b[1;33m\u001b[0m\u001b[1;33m\u001b[0m\u001b[0m\n\u001b[1;32m--> 114\u001b[1;33m             raise ValueError(\n\u001b[0m\u001b[0;32m    115\u001b[0m                 msg_err.format(\n\u001b[0;32m    116\u001b[0m                     \u001b[0mtype_err\u001b[0m\u001b[1;33m,\u001b[0m \u001b[0mmsg_dtype\u001b[0m \u001b[1;32mif\u001b[0m \u001b[0mmsg_dtype\u001b[0m \u001b[1;32mis\u001b[0m \u001b[1;32mnot\u001b[0m \u001b[1;32mNone\u001b[0m \u001b[1;32melse\u001b[0m \u001b[0mX\u001b[0m\u001b[1;33m.\u001b[0m\u001b[0mdtype\u001b[0m\u001b[1;33m\u001b[0m\u001b[1;33m\u001b[0m\u001b[0m\n",
      "\u001b[1;31mValueError\u001b[0m: Input contains infinity or a value too large for dtype('float64')."
     ]
    }
   ],
   "source": [
    "A_Clust=[]\n",
    "for i in R_FM_Customers.keys():\n",
    "    A_Clust.append(R_FM_Func.def_Col_cluster(\n",
    "    R_FM_Customers[i],[ 'Frecuency Actual del Cliente (Escala Min Max) (Escala ln)',\n",
    "       'Monetary Actual (Escala Min Max) (Escala ln)',\n",
    "       '$(F \\times W_F + M \\times W_M)$'],5\n",
    "    ))\n",
    "A_Clust.head()"
   ]
  },
  {
   "cell_type": "code",
   "execution_count": null,
   "id": "548a281a",
   "metadata": {},
   "outputs": [],
   "source": []
  }
 ],
 "metadata": {
  "celltoolbar": "Raw Cell Format",
  "interpreter": {
   "hash": "a077222d77dfe082b8f1dd562ad70e458ac2ab76993a0b248ab0476e32e9e8dd"
  },
  "kernelspec": {
   "display_name": "Python 3.8.5 ('base')",
   "language": "python",
   "name": "python3"
  },
  "language_info": {
   "codemirror_mode": {
    "name": "ipython",
    "version": 3
   },
   "file_extension": ".py",
   "mimetype": "text/x-python",
   "name": "python",
   "nbconvert_exporter": "python",
   "pygments_lexer": "ipython3",
   "version": "3.8.5"
  },
  "toc": {
   "base_numbering": 1,
   "nav_menu": {
    "height": "89px",
    "width": "334px"
   },
   "number_sections": true,
   "sideBar": true,
   "skip_h1_title": false,
   "title_cell": "Table of Contents",
   "title_sidebar": "Contents",
   "toc_cell": false,
   "toc_position": {
    "height": "753px",
    "left": "74px",
    "top": "52px",
    "width": "229.006px"
   },
   "toc_section_display": true,
   "toc_window_display": true
  }
 },
 "nbformat": 4,
 "nbformat_minor": 5
}
